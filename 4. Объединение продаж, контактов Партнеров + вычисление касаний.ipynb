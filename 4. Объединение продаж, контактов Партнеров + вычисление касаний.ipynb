{
 "cells": [
  {
   "cell_type": "code",
   "execution_count": 1,
   "metadata": {
    "ExecuteTime": {
     "end_time": "2022-05-24T03:47:06.996821Z",
     "start_time": "2022-05-24T03:47:06.783320Z"
    },
    "deletable": false,
    "editable": false
   },
   "outputs": [],
   "source": [
    "import pandas as pd\n",
    "from datetime import datetime\n",
    "import tqdm"
   ]
  },
  {
   "cell_type": "markdown",
   "metadata": {
    "deletable": false,
    "editable": false
   },
   "source": [
    "# Загрузим контактные данные Партнеров"
   ]
  },
  {
   "cell_type": "code",
   "execution_count": 2,
   "metadata": {
    "ExecuteTime": {
     "end_time": "2022-05-24T03:47:10.169575Z",
     "start_time": "2022-05-24T03:47:06.997850Z"
    },
    "deletable": false,
    "editable": false
   },
   "outputs": [],
   "source": [
    "data = pd.read_excel(\"Объединенные контакты партнеров.xlsx\", index_col=0)"
   ]
  },
  {
   "cell_type": "code",
   "execution_count": 3,
   "metadata": {
    "ExecuteTime": {
     "end_time": "2022-05-24T03:47:10.199911Z",
     "start_time": "2022-05-24T03:47:10.170579Z"
    },
    "deletable": false,
    "editable": false
   },
   "outputs": [
    {
     "data": {
      "text/html": [
       "<div>\n",
       "<style scoped>\n",
       "    .dataframe tbody tr th:only-of-type {\n",
       "        vertical-align: middle;\n",
       "    }\n",
       "\n",
       "    .dataframe tbody tr th {\n",
       "        vertical-align: top;\n",
       "    }\n",
       "\n",
       "    .dataframe thead th {\n",
       "        text-align: right;\n",
       "    }\n",
       "</style>\n",
       "<table border=\"1\" class=\"dataframe\">\n",
       "  <thead>\n",
       "    <tr style=\"text-align: right;\">\n",
       "      <th></th>\n",
       "      <th>АдресЭП</th>\n",
       "      <th>НомерТелефона</th>\n",
       "      <th>КодПартнер</th>\n",
       "      <th>НаименованиеПартнера</th>\n",
       "    </tr>\n",
       "  </thead>\n",
       "  <tbody>\n",
       "    <tr>\n",
       "      <th>0</th>\n",
       "      <td>&lt;пустая строка&gt;</td>\n",
       "      <td>&lt;Пустая строка&gt;</td>\n",
       "      <td>000000207</td>\n",
       "      <td>Элиот ЗАО</td>\n",
       "    </tr>\n",
       "    <tr>\n",
       "      <th>1</th>\n",
       "      <td>&lt;пустая строка&gt;</td>\n",
       "      <td>&lt;Пустая строка&gt;</td>\n",
       "      <td>000000208</td>\n",
       "      <td>БАП ХРОМДЕТ-ЭКОЛОГИЯ ООО</td>\n",
       "    </tr>\n",
       "  </tbody>\n",
       "</table>\n",
       "</div>"
      ],
      "text/plain": [
       "           АдресЭП    НомерТелефона КодПартнер      НаименованиеПартнера\n",
       "0  <пустая строка>  <Пустая строка>  000000207                 Элиот ЗАО\n",
       "1  <пустая строка>  <Пустая строка>  000000208  БАП ХРОМДЕТ-ЭКОЛОГИЯ ООО"
      ]
     },
     "execution_count": 3,
     "metadata": {},
     "output_type": "execute_result"
    }
   ],
   "source": [
    "data[:2]"
   ]
  },
  {
   "cell_type": "code",
   "execution_count": 4,
   "metadata": {
    "ExecuteTime": {
     "end_time": "2022-05-24T03:47:10.215909Z",
     "start_time": "2022-05-24T03:47:10.201910Z"
    },
    "deletable": false,
    "editable": false
   },
   "outputs": [
    {
     "name": "stdout",
     "output_type": "stream",
     "text": [
      "<class 'pandas.core.frame.DataFrame'>\n",
      "Int64Index: 45954 entries, 0 to 45953\n",
      "Data columns (total 4 columns):\n",
      " #   Column                Non-Null Count  Dtype \n",
      "---  ------                --------------  ----- \n",
      " 0   АдресЭП               45954 non-null  object\n",
      " 1   НомерТелефона         45954 non-null  object\n",
      " 2   КодПартнер            45954 non-null  object\n",
      " 3   НаименованиеПартнера  45954 non-null  object\n",
      "dtypes: object(4)\n",
      "memory usage: 1.8+ MB\n"
     ]
    }
   ],
   "source": [
    "data.info()"
   ]
  },
  {
   "cell_type": "markdown",
   "metadata": {
    "deletable": false,
    "editable": false
   },
   "source": [
    "# Обработка звонков"
   ]
  },
  {
   "cell_type": "markdown",
   "metadata": {
    "deletable": false,
    "editable": false
   },
   "source": [
    "## Загрузим информация о звонках"
   ]
  },
  {
   "cell_type": "code",
   "execution_count": 5,
   "metadata": {
    "ExecuteTime": {
     "end_time": "2022-05-24T03:47:16.030050Z",
     "start_time": "2022-05-24T03:47:10.216910Z"
    },
    "deletable": false,
    "editable": false
   },
   "outputs": [
    {
     "data": {
      "text/html": [
       "<div>\n",
       "<style scoped>\n",
       "    .dataframe tbody tr th:only-of-type {\n",
       "        vertical-align: middle;\n",
       "    }\n",
       "\n",
       "    .dataframe tbody tr th {\n",
       "        vertical-align: top;\n",
       "    }\n",
       "\n",
       "    .dataframe thead th {\n",
       "        text-align: right;\n",
       "    }\n",
       "</style>\n",
       "<table border=\"1\" class=\"dataframe\">\n",
       "  <thead>\n",
       "    <tr style=\"text-align: right;\">\n",
       "      <th></th>\n",
       "      <th>Номер</th>\n",
       "      <th>Дата</th>\n",
       "      <th>Src</th>\n",
       "      <th>Dst</th>\n",
       "      <th>Answer</th>\n",
       "      <th>Duration</th>\n",
       "      <th>Billsec</th>\n",
       "      <th>Disposition</th>\n",
       "      <th>Направление</th>\n",
       "      <th>Src_Ссылка</th>\n",
       "      <th>Dst_Ссылка</th>\n",
       "    </tr>\n",
       "  </thead>\n",
       "  <tbody>\n",
       "    <tr>\n",
       "      <th>0</th>\n",
       "      <td>115621234131246</td>\n",
       "      <td>03.07.2019 10:10:14</td>\n",
       "      <td>73833495640</td>\n",
       "      <td>119</td>\n",
       "      <td>03.07.2019 10:10:21</td>\n",
       "      <td>70</td>\n",
       "      <td>63</td>\n",
       "      <td>ANSWERED</td>\n",
       "      <td>Входящий</td>\n",
       "      <td>&lt;Неопределено&gt;</td>\n",
       "      <td>Скакун Анастасия Александровна</td>\n",
       "    </tr>\n",
       "    <tr>\n",
       "      <th>1</th>\n",
       "      <td>115621235311267</td>\n",
       "      <td>03.07.2019 10:12:12</td>\n",
       "      <td>74212358892</td>\n",
       "      <td>119</td>\n",
       "      <td>03.07.2019 10:12:21</td>\n",
       "      <td>201</td>\n",
       "      <td>192</td>\n",
       "      <td>ANSWERED</td>\n",
       "      <td>Входящий</td>\n",
       "      <td>&lt;Неопределено&gt;</td>\n",
       "      <td>Скакун Анастасия Александровна</td>\n",
       "    </tr>\n",
       "  </tbody>\n",
       "</table>\n",
       "</div>"
      ],
      "text/plain": [
       "             Номер                 Дата          Src  Dst  \\\n",
       "0  115621234131246  03.07.2019 10:10:14  73833495640  119   \n",
       "1  115621235311267  03.07.2019 10:12:12  74212358892  119   \n",
       "\n",
       "                Answer  Duration  Billsec Disposition Направление  \\\n",
       "0  03.07.2019 10:10:21        70       63    ANSWERED    Входящий   \n",
       "1  03.07.2019 10:12:21       201      192    ANSWERED    Входящий   \n",
       "\n",
       "       Src_Ссылка                      Dst_Ссылка  \n",
       "0  <Неопределено>  Скакун Анастасия Александровна  \n",
       "1  <Неопределено>  Скакун Анастасия Александровна  "
      ]
     },
     "execution_count": 5,
     "metadata": {},
     "output_type": "execute_result"
    }
   ],
   "source": [
    "calls = pd.read_excel(\"Звонки.xlsx\")\n",
    "calls[:2]"
   ]
  },
  {
   "cell_type": "markdown",
   "metadata": {
    "deletable": false,
    "editable": false
   },
   "source": [
    "## Удаление секунд"
   ]
  },
  {
   "cell_type": "code",
   "execution_count": 6,
   "metadata": {
    "ExecuteTime": {
     "end_time": "2022-05-24T03:47:18.003672Z",
     "start_time": "2022-05-24T03:47:16.032059Z"
    },
    "deletable": false,
    "editable": false
   },
   "outputs": [],
   "source": [
    "# Секунды не нужны, избавимся от них\n",
    "for number, series in calls.iterrows():\n",
    "    calls.at[number, 'Дата'] = series['Дата'].split(' ')[0]\n",
    "    calls.at[number, 'Answer'] = series['Answer'].split(' ')[0]\n",
    "    \n",
    "# Конвертация в datetime\n",
    "calls['Дата'] = pd.to_datetime(calls['Дата'], dayfirst = True)\n",
    "calls['Answer'] = pd.to_datetime(calls['Answer'], dayfirst = True, errors = 'ignore')\n",
    "\n",
    "calls = calls.sort_values(by=['Дата']) #Сортировка по СсылкаЗаказ и дате\n",
    "\n",
    "#сбросим имеющиеся индексы и воссоздадим по порядку заново\n",
    "calls.reset_index(inplace=True)\n",
    "\n",
    "del calls['index'] # удалим старые индексы полученые после сброса на пред шаге"
   ]
  },
  {
   "cell_type": "code",
   "execution_count": 7,
   "metadata": {
    "ExecuteTime": {
     "end_time": "2022-05-24T03:47:18.019475Z",
     "start_time": "2022-05-24T03:47:18.004706Z"
    },
    "deletable": false,
    "editable": false
   },
   "outputs": [
    {
     "data": {
      "text/html": [
       "<div>\n",
       "<style scoped>\n",
       "    .dataframe tbody tr th:only-of-type {\n",
       "        vertical-align: middle;\n",
       "    }\n",
       "\n",
       "    .dataframe tbody tr th {\n",
       "        vertical-align: top;\n",
       "    }\n",
       "\n",
       "    .dataframe thead th {\n",
       "        text-align: right;\n",
       "    }\n",
       "</style>\n",
       "<table border=\"1\" class=\"dataframe\">\n",
       "  <thead>\n",
       "    <tr style=\"text-align: right;\">\n",
       "      <th></th>\n",
       "      <th>Номер</th>\n",
       "      <th>Дата</th>\n",
       "      <th>Src</th>\n",
       "      <th>Dst</th>\n",
       "      <th>Answer</th>\n",
       "      <th>Duration</th>\n",
       "      <th>Billsec</th>\n",
       "      <th>Disposition</th>\n",
       "      <th>Направление</th>\n",
       "      <th>Src_Ссылка</th>\n",
       "      <th>Dst_Ссылка</th>\n",
       "    </tr>\n",
       "  </thead>\n",
       "  <tbody>\n",
       "    <tr>\n",
       "      <th>0</th>\n",
       "      <td>1156170179870</td>\n",
       "      <td>2019-06-28</td>\n",
       "      <td>120</td>\n",
       "      <td>89237392578</td>\n",
       "      <td>&lt;Пустая</td>\n",
       "      <td>21</td>\n",
       "      <td>0</td>\n",
       "      <td>NOANSWER</td>\n",
       "      <td>Исходящий</td>\n",
       "      <td>Анисимов Александр Владимирович</td>\n",
       "      <td>Коробков Евгений Валерьевич</td>\n",
       "    </tr>\n",
       "    <tr>\n",
       "      <th>1</th>\n",
       "      <td>11561707641143</td>\n",
       "      <td>2019-06-28</td>\n",
       "      <td>73833495709</td>\n",
       "      <td>1001</td>\n",
       "      <td>&lt;Пустая</td>\n",
       "      <td>5</td>\n",
       "      <td>0</td>\n",
       "      <td>NOANSWER</td>\n",
       "      <td>Входящий</td>\n",
       "      <td>&lt;Неопределено&gt;</td>\n",
       "      <td>&lt;Неопределено&gt;</td>\n",
       "    </tr>\n",
       "  </tbody>\n",
       "</table>\n",
       "</div>"
      ],
      "text/plain": [
       "            Номер       Дата          Src          Dst   Answer  Duration  \\\n",
       "0   1156170179870 2019-06-28          120  89237392578  <Пустая        21   \n",
       "1  11561707641143 2019-06-28  73833495709         1001  <Пустая         5   \n",
       "\n",
       "   Billsec Disposition Направление                       Src_Ссылка  \\\n",
       "0        0    NOANSWER   Исходящий  Анисимов Александр Владимирович   \n",
       "1        0    NOANSWER    Входящий                   <Неопределено>   \n",
       "\n",
       "                    Dst_Ссылка  \n",
       "0  Коробков Евгений Валерьевич  \n",
       "1               <Неопределено>  "
      ]
     },
     "execution_count": 7,
     "metadata": {},
     "output_type": "execute_result"
    }
   ],
   "source": [
    "calls[:2]"
   ]
  },
  {
   "cell_type": "code",
   "execution_count": 8,
   "metadata": {
    "ExecuteTime": {
     "end_time": "2022-05-24T03:47:18.051465Z",
     "start_time": "2022-05-24T03:47:18.020468Z"
    },
    "deletable": false,
    "editable": false
   },
   "outputs": [
    {
     "name": "stdout",
     "output_type": "stream",
     "text": [
      "<class 'pandas.core.frame.DataFrame'>\n",
      "RangeIndex: 39264 entries, 0 to 39263\n",
      "Data columns (total 11 columns):\n",
      " #   Column       Non-Null Count  Dtype         \n",
      "---  ------       --------------  -----         \n",
      " 0   Номер        39264 non-null  object        \n",
      " 1   Дата         39264 non-null  datetime64[ns]\n",
      " 2   Src          39264 non-null  object        \n",
      " 3   Dst          39264 non-null  object        \n",
      " 4   Answer       39264 non-null  object        \n",
      " 5   Duration     39264 non-null  int64         \n",
      " 6   Billsec      39264 non-null  int64         \n",
      " 7   Disposition  39264 non-null  object        \n",
      " 8   Направление  39264 non-null  object        \n",
      " 9   Src_Ссылка   39264 non-null  object        \n",
      " 10  Dst_Ссылка   39264 non-null  object        \n",
      "dtypes: datetime64[ns](1), int64(2), object(8)\n",
      "memory usage: 3.3+ MB\n"
     ]
    }
   ],
   "source": [
    "calls.info()"
   ]
  },
  {
   "cell_type": "markdown",
   "metadata": {
    "deletable": false,
    "editable": false
   },
   "source": [
    "# Обработка e-mail"
   ]
  },
  {
   "cell_type": "markdown",
   "metadata": {
    "deletable": false,
    "editable": false
   },
   "source": [
    "## Download Emails"
   ]
  },
  {
   "cell_type": "code",
   "execution_count": 9,
   "metadata": {
    "ExecuteTime": {
     "end_time": "2022-05-24T03:47:49.028483Z",
     "start_time": "2022-05-24T03:47:18.052468Z"
    },
    "deletable": false,
    "editable": false
   },
   "outputs": [
    {
     "data": {
      "text/html": [
       "<div>\n",
       "<style scoped>\n",
       "    .dataframe tbody tr th:only-of-type {\n",
       "        vertical-align: middle;\n",
       "    }\n",
       "\n",
       "    .dataframe tbody tr th {\n",
       "        vertical-align: top;\n",
       "    }\n",
       "\n",
       "    .dataframe thead th {\n",
       "        text-align: right;\n",
       "    }\n",
       "</style>\n",
       "<table border=\"1\" class=\"dataframe\">\n",
       "  <thead>\n",
       "    <tr style=\"text-align: right;\">\n",
       "      <th></th>\n",
       "      <th>Ссылка</th>\n",
       "      <th>Дата</th>\n",
       "      <th>Номер</th>\n",
       "      <th>Получено</th>\n",
       "      <th>Отправитель</th>\n",
       "      <th>ПолучательВходящего</th>\n",
       "      <th>ПолучательИсходящего</th>\n",
       "      <th>Тема</th>\n",
       "      <th>УчетнаяЗапись</th>\n",
       "    </tr>\n",
       "  </thead>\n",
       "  <tbody>\n",
       "    <tr>\n",
       "      <th>0</th>\n",
       "      <td>заявка пожарка от 22.04.2019 (Входящее письмо)</td>\n",
       "      <td>22.04.2019 13:11:12</td>\n",
       "      <td>00-00014287</td>\n",
       "      <td>22.04.2019 14:26:49</td>\n",
       "      <td>ООО \"СИБАР\" &lt;sibar22@mail.ru&gt;</td>\n",
       "      <td>Евгений Коробков</td>\n",
       "      <td>&lt;NULL&gt;</td>\n",
       "      <td>заявка пожарка</td>\n",
       "      <td>Евгений Коробков</td>\n",
       "    </tr>\n",
       "    <tr>\n",
       "      <th>1</th>\n",
       "      <td>Заявка от 14.05.2019 (Входящее письмо)</td>\n",
       "      <td>14.05.2019 9:55:21</td>\n",
       "      <td>00-00015392</td>\n",
       "      <td>23.05.2019 9:15:39</td>\n",
       "      <td>ООО \"СИЦПБ\" &lt;sicpb@yandex.ru&gt;</td>\n",
       "      <td>Скакун Анастасия</td>\n",
       "      <td>&lt;NULL&gt;</td>\n",
       "      <td>Заявка</td>\n",
       "      <td>Скакун Анастасия</td>\n",
       "    </tr>\n",
       "  </tbody>\n",
       "</table>\n",
       "</div>"
      ],
      "text/plain": [
       "                                           Ссылка                 Дата  \\\n",
       "0  заявка пожарка от 22.04.2019 (Входящее письмо)  22.04.2019 13:11:12   \n",
       "1          Заявка от 14.05.2019 (Входящее письмо)   14.05.2019 9:55:21   \n",
       "\n",
       "         Номер             Получено                    Отправитель  \\\n",
       "0  00-00014287  22.04.2019 14:26:49  ООО \"СИБАР\" <sibar22@mail.ru>   \n",
       "1  00-00015392   23.05.2019 9:15:39  ООО \"СИЦПБ\" <sicpb@yandex.ru>   \n",
       "\n",
       "  ПолучательВходящего ПолучательИсходящего            Тема     УчетнаяЗапись  \n",
       "0    Евгений Коробков               <NULL>  заявка пожарка  Евгений Коробков  \n",
       "1    Скакун Анастасия               <NULL>          Заявка  Скакун Анастасия  "
      ]
     },
     "execution_count": 9,
     "metadata": {},
     "output_type": "execute_result"
    }
   ],
   "source": [
    "imeils = pd.read_excel(\"Почта.xlsx\")\n",
    "imeils[:2]"
   ]
  },
  {
   "cell_type": "code",
   "execution_count": 10,
   "metadata": {
    "ExecuteTime": {
     "end_time": "2022-05-24T03:47:49.157364Z",
     "start_time": "2022-05-24T03:47:49.028483Z"
    },
    "deletable": false,
    "editable": false
   },
   "outputs": [
    {
     "name": "stdout",
     "output_type": "stream",
     "text": [
      "<class 'pandas.core.frame.DataFrame'>\n",
      "RangeIndex: 235015 entries, 0 to 235014\n",
      "Data columns (total 9 columns):\n",
      " #   Column                Non-Null Count   Dtype \n",
      "---  ------                --------------   ----- \n",
      " 0   Ссылка                235015 non-null  object\n",
      " 1   Дата                  235015 non-null  object\n",
      " 2   Номер                 235015 non-null  object\n",
      " 3   Получено              235015 non-null  object\n",
      " 4   Отправитель           235015 non-null  object\n",
      " 5   ПолучательВходящего   235015 non-null  object\n",
      " 6   ПолучательИсходящего  235015 non-null  object\n",
      " 7   Тема                  235015 non-null  object\n",
      " 8   УчетнаяЗапись         235015 non-null  object\n",
      "dtypes: object(9)\n",
      "memory usage: 16.1+ MB\n"
     ]
    }
   ],
   "source": [
    "imeils.info()"
   ]
  },
  {
   "cell_type": "markdown",
   "metadata": {
    "deletable": false,
    "editable": false
   },
   "source": [
    "## Удаление секунд"
   ]
  },
  {
   "cell_type": "code",
   "execution_count": 11,
   "metadata": {
    "ExecuteTime": {
     "end_time": "2022-05-24T03:48:00.806171Z",
     "start_time": "2022-05-24T03:47:49.158363Z"
    },
    "deletable": false,
    "editable": false
   },
   "outputs": [],
   "source": [
    "# Секунды не нужны, избавимся от них\n",
    "for number, series in imeils.iterrows():\n",
    "    imeils.at[number, 'Дата'] = series['Дата'].split(' ')[0]\n",
    "    imeils.at[number, 'Получено'] = series['Получено'].split(' ')[0]\n",
    "    \n",
    "# Конвертация в datetime\n",
    "imeils['Дата'] = pd.to_datetime(imeils['Дата'], dayfirst = True)\n",
    "imeils['Получено'] = pd.to_datetime(imeils['Получено'], dayfirst = True, errors = 'ignore')\n",
    "\n",
    "imeils = imeils.sort_values(by=['Дата']) #Сортировка по СсылкаЗаказ и дате\n",
    "\n",
    "#сбросим имеющиеся индексы и воссоздадим по порядку заново\n",
    "imeils.reset_index(inplace=True)\n",
    "\n",
    "del imeils['index'] # удалим старые индексы полученые после сброса на пред шаге"
   ]
  },
  {
   "cell_type": "markdown",
   "metadata": {
    "deletable": false,
    "editable": false
   },
   "source": [
    "## Денормализация 'Отправитель'"
   ]
  },
  {
   "cell_type": "code",
   "execution_count": 12,
   "metadata": {
    "ExecuteTime": {
     "end_time": "2022-05-24T04:42:53.732374Z",
     "start_time": "2022-05-24T03:48:00.806171Z"
    },
    "deletable": false,
    "editable": false
   },
   "outputs": [
    {
     "name": "stderr",
     "output_type": "stream",
     "text": [
      "100%|██████████████████████████████████████████████████████████████████████████| 235015/235015 [54:52<00:00, 71.37it/s]\n"
     ]
    }
   ],
   "source": [
    "time_df = pd.DataFrame(data=None, columns=imeils.columns)\n",
    "\n",
    "for num, series in tqdm.tqdm(imeils.iterrows(), total = len(imeils)):\n",
    "    # Для Входящей почты\n",
    "    hhh = series['Отправитель'].split(' ')\n",
    "    addres_list = []\n",
    "    for elem in hhh:\n",
    "        if elem.find('@') != -1:\n",
    "            adress = elem\n",
    "            if adress.find('<') != -1:\n",
    "                adress = adress[adress.find('<') + 1:]\n",
    "            if adress.find('>') != -1:\n",
    "                adress = adress[:adress.find('<')]\n",
    "            # Проверка на дубликат\n",
    "            if adress not in addres_list:\n",
    "                addres_list.append(adress.lower())\n",
    "\n",
    "    for adr in addres_list:\n",
    "        time_Series = series.copy()\n",
    "        time_Series['Отправитель'] = adr\n",
    "        t_df = pd.DataFrame(data = time_Series.values.reshape(1, 9),\n",
    "                            columns = imeils.columns)\n",
    "        time_df = pd.concat([time_df, t_df])"
   ]
  },
  {
   "cell_type": "code",
   "execution_count": 13,
   "metadata": {
    "ExecuteTime": {
     "end_time": "2022-05-24T04:42:53.817954Z",
     "start_time": "2022-05-24T04:42:53.732374Z"
    },
    "deletable": false,
    "editable": false
   },
   "outputs": [],
   "source": [
    "imeils = time_df.copy()"
   ]
  },
  {
   "cell_type": "markdown",
   "metadata": {},
   "source": [
    "## Денормализация 'ПолучательИсходящего'"
   ]
  },
  {
   "cell_type": "code",
   "execution_count": 14,
   "metadata": {
    "ExecuteTime": {
     "end_time": "2022-05-24T05:40:29.350063Z",
     "start_time": "2022-05-24T04:42:53.817954Z"
    },
    "deletable": false,
    "editable": false
   },
   "outputs": [
    {
     "name": "stderr",
     "output_type": "stream",
     "text": [
      "100%|██████████████████████████████████████████████████████████████████████████| 235073/235073 [57:35<00:00, 68.03it/s]\n"
     ]
    }
   ],
   "source": [
    "time_df = pd.DataFrame(data=None, columns=imeils.columns)\n",
    "\n",
    "for num, series in tqdm.tqdm(imeils.iterrows(), total = len(imeils)):\n",
    "    # Для Входящей почты\n",
    "    if series['ПолучательИсходящего'] != '<NULL>':\n",
    "\n",
    "        hhh = series['ПолучательИсходящего'].split(' ')\n",
    "        addres_list = []\n",
    "        for elem in hhh:\n",
    "            if elem.find('@') != -1:\n",
    "                adress = elem\n",
    "                if adress.find('<') != -1:\n",
    "                    adress = adress[adress.find('<') + 1:]\n",
    "                if adress.find('>') != -1:\n",
    "                    adress = adress[:adress.find('<')]\n",
    "                # Проверка на дубликат\n",
    "                if adress not in addres_list:\n",
    "                    addres_list.append(adress.lower())                   \n",
    "                    \n",
    "        for adr in addres_list:\n",
    "            time_Series = series.copy()\n",
    "            time_Series['ПолучательИсходящего'] = adr\n",
    "            t_df = pd.DataFrame(data = time_Series.values.reshape(1, 9),\n",
    "                                columns = imeils.columns)\n",
    "            time_df = pd.concat([time_df, t_df])\n",
    "    else:\n",
    "        time_Series = series.copy()\n",
    "        t_df = pd.DataFrame(data = time_Series.values.reshape(1, 9),\n",
    "                                columns = imeils.columns)\n",
    "        time_df = pd.concat([time_df, t_df])"
   ]
  },
  {
   "cell_type": "code",
   "execution_count": 15,
   "metadata": {
    "ExecuteTime": {
     "end_time": "2022-05-24T05:40:29.365346Z",
     "start_time": "2022-05-24T05:40:29.350063Z"
    },
    "deletable": false,
    "editable": false
   },
   "outputs": [],
   "source": [
    "#сбросим имеющиеся индексы и воссоздадим по порядку заново\n",
    "time_df.reset_index(inplace=True)\n",
    "del time_df['index']  # удалим старые индексы полученые после сброса на пред шаге"
   ]
  },
  {
   "cell_type": "markdown",
   "metadata": {
    "deletable": false,
    "editable": false
   },
   "source": [
    "# Загрузим данные о продажам"
   ]
  },
  {
   "cell_type": "code",
   "execution_count": 16,
   "metadata": {
    "ExecuteTime": {
     "end_time": "2022-05-24T05:41:14.059046Z",
     "start_time": "2022-05-24T05:40:29.366345Z"
    },
    "deletable": false,
    "editable": false
   },
   "outputs": [],
   "source": [
    "orders = pd.read_excel('3-Финальные данные от 2020-02-27.xlsx', index_col=0)"
   ]
  },
  {
   "cell_type": "markdown",
   "metadata": {
    "deletable": false,
    "editable": false
   },
   "source": [
    "# Добавим кол-во касаний на заказ"
   ]
  },
  {
   "cell_type": "code",
   "execution_count": 17,
   "metadata": {
    "ExecuteTime": {
     "end_time": "2022-05-24T05:41:14.074854Z",
     "start_time": "2022-05-24T05:41:14.059046Z"
    },
    "deletable": false,
    "editable": false
   },
   "outputs": [],
   "source": [
    "orders['cals'] = 0\n",
    "orders['emails'] = 0"
   ]
  },
  {
   "cell_type": "markdown",
   "metadata": {},
   "source": [
    "## Обработка email"
   ]
  },
  {
   "cell_type": "code",
   "execution_count": 18,
   "metadata": {
    "ExecuteTime": {
     "end_time": "2022-05-24T06:43:42.101831Z",
     "start_time": "2022-05-24T05:41:14.075854Z"
    },
    "deletable": false,
    "editable": false,
    "scrolled": false
   },
   "outputs": [
    {
     "name": "stderr",
     "output_type": "stream",
     "text": [
      "100%|████████████████████████████████████████████████████████████████████████████| 4127/4127 [1:02:27<00:00,  1.10it/s]\n"
     ]
    }
   ],
   "source": [
    "partner_cod = orders['PartnerKod'].unique()\n",
    "for code in tqdm.tqdm(partner_cod):\n",
    "    emails_array = data.loc[(data['КодПартнер'] == code) & (\n",
    "        data['АдресЭП'] != '<пустая строка>')]['АдресЭП'].unique()\n",
    "\n",
    "    one_partner = orders.loc[orders['PartnerKod'] == code]\n",
    "    unic_data = one_partner['ZakazData'].unique()\n",
    "    kol_date = len(unic_data)\n",
    "\n",
    "    for number in range(kol_date):\n",
    "        sum_emails = 0\n",
    "\n",
    "        if number == 0:\n",
    "            for elem in emails_array:\n",
    "                email_partner = time_df.loc[time_df['Отправитель'] == elem]\n",
    "                email_delta = email_partner.loc[\n",
    "                    email_partner['Дата'] <= unic_data[number]]\n",
    "                sum_emails += email_delta['Номер'].unique().shape[0]\n",
    "\n",
    "                email_partner = time_df.loc[time_df['ПолучательИсходящего'] ==\n",
    "                                            elem]\n",
    "                email_delta = email_partner.loc[\n",
    "                    email_partner['Дата'] <= unic_data[number]]\n",
    "                sum_emails += email_delta['Номер'].unique().shape[0]\n",
    "\n",
    "                index_order = one_partner.loc[\n",
    "                    one_partner['ZakazData'] <= unic_data[number]].index\n",
    "\n",
    "        else:\n",
    "            for elem in emails_array:\n",
    "                email_partner = time_df.loc[time_df['Отправитель'] == elem]\n",
    "                email_delta = email_partner.loc[\n",
    "                    (email_partner['Дата'] > unic_data[number - 1])\n",
    "                    & (email_partner['Дата'] <= unic_data[number])]\n",
    "                sum_emails += email_delta['Номер'].unique().shape[0]\n",
    "\n",
    "                email_partner = time_df.loc[time_df['ПолучательИсходящего'] ==\n",
    "                                            elem]\n",
    "                email_delta = email_partner.loc[\n",
    "                    (email_partner['Дата'] > unic_data[number - 1])\n",
    "                    & (email_partner['Дата'] <= unic_data[number])]\n",
    "                sum_emails += email_delta['Номер'].unique().shape[0]\n",
    "\n",
    "                #Получим индексы\n",
    "                index_order = one_partner.loc[\n",
    "                    (one_partner['ZakazData'] > unic_data[number - 1])\n",
    "                    & (one_partner['ZakazData'] <= unic_data[number])].index\n",
    "\n",
    "        if sum_emails > 0:\n",
    "            orders.at[index_order, 'emails'] = sum_emails"
   ]
  },
  {
   "cell_type": "markdown",
   "metadata": {
    "deletable": false,
    "editable": false
   },
   "source": [
    "## Обработка звонков"
   ]
  },
  {
   "cell_type": "code",
   "execution_count": 19,
   "metadata": {
    "ExecuteTime": {
     "end_time": "2022-05-24T06:53:49.324959Z",
     "start_time": "2022-05-24T06:43:42.101831Z"
    },
    "deletable": false,
    "editable": false,
    "scrolled": true
   },
   "outputs": [
    {
     "name": "stderr",
     "output_type": "stream",
     "text": [
      "100%|██████████████████████████████████████████████████████████████████████████████| 4127/4127 [10:07<00:00,  6.80it/s]\n"
     ]
    }
   ],
   "source": [
    "partner_cod = orders['PartnerKod'].unique()\n",
    "\n",
    "for code in tqdm.tqdm(partner_cod):\n",
    "    phone_number_array = data.loc[(data['КодПартнер'] == code) & (data['НомерТелефона'] != '<пустая строка>')]['НомерТелефона'].unique()\n",
    "    one_partner = orders.loc[orders['PartnerKod'] == code]\n",
    "    unic_data = one_partner['ZakazData'].unique()\n",
    "    kol_date = len(unic_data)\n",
    "\n",
    "    for number in range(kol_date):\n",
    "        sum_calls = 0\n",
    "        calls_index = pd.Index([])\n",
    "\n",
    "        if number-1 == 0:\n",
    "            # Вычисляем кол-во звонков\n",
    "            for phone_number in phone_number_array:\n",
    "                partner_calls = calls.loc[calls['Src'] == phone_number]\n",
    "                calls_delta = partner_calls.loc[partner_calls['Дата'] <= unic_data[number]]\n",
    "                sum_calls += calls_delta['Номер'].unique().shape[0]\n",
    "                \n",
    "                index_order = one_partner.loc[one_partner['ZakazData'] <= unic_data[number]].index\n",
    "\n",
    "        else:\n",
    "            for phone_number in phone_number_array:\n",
    "                partner_calls = calls.loc[calls['Src'] == phone_number]\n",
    "                calls_delta = partner_calls.loc[(partner_calls['Дата'] > unic_data[number-1]) & (partner_calls['Дата'] <= unic_data[number])]\n",
    "                sum_calls += calls_delta['Номер'].unique().shape[0]\n",
    "                \n",
    "               #Получим индексы\n",
    "                index_order = one_partner.loc[(one_partner['ZakazData'] > unic_data[number-1]) & (one_partner['ZakazData'] <= unic_data[number])].index\n",
    "        \n",
    "        if sum_calls > 0: \n",
    "            orders.at[index_order, 'cals'] = sum_calls\n"
   ]
  },
  {
   "cell_type": "markdown",
   "metadata": {
    "deletable": false,
    "editable": false
   },
   "source": [
    "# Результат добавления данных"
   ]
  },
  {
   "cell_type": "code",
   "execution_count": 20,
   "metadata": {
    "ExecuteTime": {
     "end_time": "2022-05-24T06:53:49.356513Z",
     "start_time": "2022-05-24T06:53:49.325960Z"
    },
    "deletable": false,
    "editable": false
   },
   "outputs": [
    {
     "data": {
      "text/html": [
       "<div>\n",
       "<style scoped>\n",
       "    .dataframe tbody tr th:only-of-type {\n",
       "        vertical-align: middle;\n",
       "    }\n",
       "\n",
       "    .dataframe tbody tr th {\n",
       "        vertical-align: top;\n",
       "    }\n",
       "\n",
       "    .dataframe thead th {\n",
       "        text-align: right;\n",
       "    }\n",
       "</style>\n",
       "<table border=\"1\" class=\"dataframe\">\n",
       "  <thead>\n",
       "    <tr style=\"text-align: right;\">\n",
       "      <th></th>\n",
       "      <th>AktVipRabot</th>\n",
       "      <th>Data</th>\n",
       "      <th>SummaAktaVipRabot</th>\n",
       "      <th>Quantity</th>\n",
       "      <th>KodStrokiAkt</th>\n",
       "      <th>ZakazKlienta</th>\n",
       "      <th>NomenklaturaKod</th>\n",
       "      <th>Nomenklatura</th>\n",
       "      <th>ZakazData</th>\n",
       "      <th>PartnerKod</th>\n",
       "      <th>...</th>\n",
       "      <th>ProdanoShtuk</th>\n",
       "      <th>KodStrokiRealiz</th>\n",
       "      <th>LinkOrder</th>\n",
       "      <th>SummaZakazano</th>\n",
       "      <th>RastoynieOtNSK</th>\n",
       "      <th>otMoscow</th>\n",
       "      <th>ПродажаСостоялась</th>\n",
       "      <th>ItogoProcentSkidki</th>\n",
       "      <th>cals</th>\n",
       "      <th>emails</th>\n",
       "    </tr>\n",
       "  </thead>\n",
       "  <tbody>\n",
       "    <tr>\n",
       "      <th>0</th>\n",
       "      <td>NaN</td>\n",
       "      <td>NaT</td>\n",
       "      <td>NaN</td>\n",
       "      <td>NaN</td>\n",
       "      <td>NaN</td>\n",
       "      <td>NaN</td>\n",
       "      <td>NaN</td>\n",
       "      <td>NaN</td>\n",
       "      <td>2014-06-10 12:00:00</td>\n",
       "      <td>000001587</td>\n",
       "      <td>...</td>\n",
       "      <td>NaN</td>\n",
       "      <td>NaN</td>\n",
       "      <td>Заказ клиента ЛБ00-000001 от 10.06.2014 12:00:00</td>\n",
       "      <td>3690.0</td>\n",
       "      <td>1</td>\n",
       "      <td>3400</td>\n",
       "      <td>Нет</td>\n",
       "      <td>NaN</td>\n",
       "      <td>0</td>\n",
       "      <td>0</td>\n",
       "    </tr>\n",
       "    <tr>\n",
       "      <th>1</th>\n",
       "      <td>NaN</td>\n",
       "      <td>NaT</td>\n",
       "      <td>NaN</td>\n",
       "      <td>NaN</td>\n",
       "      <td>NaN</td>\n",
       "      <td>NaN</td>\n",
       "      <td>NaN</td>\n",
       "      <td>NaN</td>\n",
       "      <td>2015-05-12 12:00:00</td>\n",
       "      <td>000000067</td>\n",
       "      <td>...</td>\n",
       "      <td>NaN</td>\n",
       "      <td>NaN</td>\n",
       "      <td>Заказ клиента ЛБ00-003550 от 12.05.2015 12:00:00</td>\n",
       "      <td>5985.0</td>\n",
       "      <td>1300</td>\n",
       "      <td>2300</td>\n",
       "      <td>Нет</td>\n",
       "      <td>NaN</td>\n",
       "      <td>0</td>\n",
       "      <td>0</td>\n",
       "    </tr>\n",
       "  </tbody>\n",
       "</table>\n",
       "<p>2 rows × 44 columns</p>\n",
       "</div>"
      ],
      "text/plain": [
       "  AktVipRabot Data  SummaAktaVipRabot  Quantity  KodStrokiAkt ZakazKlienta  \\\n",
       "0         NaN  NaT                NaN       NaN           NaN          NaN   \n",
       "1         NaN  NaT                NaN       NaN           NaN          NaN   \n",
       "\n",
       "  NomenklaturaKod Nomenklatura           ZakazData PartnerKod  ...  \\\n",
       "0             NaN          NaN 2014-06-10 12:00:00  000001587  ...   \n",
       "1             NaN          NaN 2015-05-12 12:00:00  000000067  ...   \n",
       "\n",
       "  ProdanoShtuk KodStrokiRealiz  \\\n",
       "0          NaN             NaN   \n",
       "1          NaN             NaN   \n",
       "\n",
       "                                          LinkOrder SummaZakazano  \\\n",
       "0  Заказ клиента ЛБ00-000001 от 10.06.2014 12:00:00        3690.0   \n",
       "1  Заказ клиента ЛБ00-003550 от 12.05.2015 12:00:00        5985.0   \n",
       "\n",
       "  RastoynieOtNSK otMoscow ПродажаСостоялась  ItogoProcentSkidki cals emails  \n",
       "0              1     3400               Нет                 NaN    0      0  \n",
       "1           1300     2300               Нет                 NaN    0      0  \n",
       "\n",
       "[2 rows x 44 columns]"
      ]
     },
     "execution_count": 20,
     "metadata": {},
     "output_type": "execute_result"
    }
   ],
   "source": [
    "orders[:2]"
   ]
  },
  {
   "cell_type": "code",
   "execution_count": 21,
   "metadata": {
    "ExecuteTime": {
     "end_time": "2022-05-24T06:53:49.478956Z",
     "start_time": "2022-05-24T06:53:49.358513Z"
    },
    "deletable": false,
    "editable": false
   },
   "outputs": [
    {
     "name": "stdout",
     "output_type": "stream",
     "text": [
      "<class 'pandas.core.frame.DataFrame'>\n",
      "Int64Index: 146016 entries, 0 to 146015\n",
      "Data columns (total 44 columns):\n",
      " #   Column                       Non-Null Count   Dtype         \n",
      "---  ------                       --------------   -----         \n",
      " 0   AktVipRabot                  2375 non-null    object        \n",
      " 1   Data                         2375 non-null    datetime64[ns]\n",
      " 2   SummaAktaVipRabot            2375 non-null    float64       \n",
      " 3   Quantity                     2375 non-null    float64       \n",
      " 4   KodStrokiAkt                 2375 non-null    float64       \n",
      " 5   ZakazKlienta                 2375 non-null    object        \n",
      " 6   NomenklaturaKod              2375 non-null    object        \n",
      " 7   Nomenklatura                 2375 non-null    object        \n",
      " 8   ZakazData                    146016 non-null  datetime64[ns]\n",
      " 9   PartnerKod                   146016 non-null  object        \n",
      " 10  OsnovnoyManager              146016 non-null  object        \n",
      " 11  BiznesRegion                 146016 non-null  object        \n",
      " 12  SummaZakaza                  85971 non-null   float64       \n",
      " 13  KreditIliPredoplata          146016 non-null  object        \n",
      " 14  JelaemayaDataOtgruzki        138729 non-null  datetime64[ns]\n",
      " 15  StatusZakaza                 146016 non-null  object        \n",
      " 16  SposobDostavki               146016 non-null  object        \n",
      " 17  KodStrokiZakaz               146016 non-null  int64         \n",
      " 18  DataOtgruzki                 143562 non-null  datetime64[ns]\n",
      " 19  NomenklaturaKodRealAndZakaz  146016 non-null  object        \n",
      " 20  NomenklaturaRealizAndZakaz   146016 non-null  object        \n",
      " 21  VidNomenklatury              146016 non-null  object        \n",
      " 22  KodTNVED                     146016 non-null  object        \n",
      " 23  ZakazanoShtuk                146016 non-null  float64       \n",
      " 24  VidCeny                      146016 non-null  object        \n",
      " 25  Cena                         145996 non-null  float64       \n",
      " 26  StavkaNDS                    146016 non-null  object        \n",
      " 27  PrichinaOtmeny               146016 non-null  object        \n",
      " 28  Otmeneno                     146016 non-null  object        \n",
      " 29  SrokPostavki                 52993 non-null   float64       \n",
      " 30  VariantObecpech              146016 non-null  object        \n",
      " 31  RealizSsilka                 81869 non-null   object        \n",
      " 32  DataRealiz                   81869 non-null   datetime64[ns]\n",
      " 33  SummaRealiz                  81869 non-null   float64       \n",
      " 34  ProdanoShtuk                 81869 non-null   float64       \n",
      " 35  KodStrokiRealiz              81869 non-null   float64       \n",
      " 36  LinkOrder                    146016 non-null  object        \n",
      " 37  SummaZakazano                145992 non-null  float64       \n",
      " 38  RastoynieOtNSK               146016 non-null  int64         \n",
      " 39  otMoscow                     146016 non-null  int64         \n",
      " 40  ПродажаСостоялась            146016 non-null  object        \n",
      " 41  ItogoProcentSkidki           615 non-null     float64       \n",
      " 42  cals                         146016 non-null  int64         \n",
      " 43  emails                       146016 non-null  int64         \n",
      "dtypes: datetime64[ns](5), float64(12), int64(5), object(22)\n",
      "memory usage: 54.2+ MB\n"
     ]
    }
   ],
   "source": [
    "orders.info()"
   ]
  },
  {
   "cell_type": "markdown",
   "metadata": {},
   "source": [
    "# Сохраним данные"
   ]
  },
  {
   "cell_type": "code",
   "execution_count": 22,
   "metadata": {
    "ExecuteTime": {
     "end_time": "2022-05-24T06:54:57.215368Z",
     "start_time": "2022-05-24T06:53:49.479955Z"
    },
    "deletable": false,
    "editable": false
   },
   "outputs": [],
   "source": [
    "with pd.ExcelWriter(f'Продажи с касаниями клиентов.xlsx') as writer:\n",
    "    orders.reset_index(drop=True).to_excel(writer, sheet_name='Data')"
   ]
  }
 ],
 "metadata": {
  "kernelspec": {
   "display_name": "Python 3 (ipykernel)",
   "language": "python",
   "name": "python3"
  },
  "language_info": {
   "codemirror_mode": {
    "name": "ipython",
    "version": 3
   },
   "file_extension": ".py",
   "mimetype": "text/x-python",
   "name": "python",
   "nbconvert_exporter": "python",
   "pygments_lexer": "ipython3",
   "version": "3.8.5"
  },
  "toc": {
   "base_numbering": 1,
   "nav_menu": {},
   "number_sections": true,
   "sideBar": true,
   "skip_h1_title": false,
   "title_cell": "Table of Contents",
   "title_sidebar": "Contents",
   "toc_cell": false,
   "toc_position": {
    "height": "calc(100% - 180px)",
    "left": "10px",
    "top": "150px",
    "width": "309px"
   },
   "toc_section_display": true,
   "toc_window_display": true
  },
  "varInspector": {
   "cols": {
    "lenName": 16,
    "lenType": 16,
    "lenVar": 40
   },
   "kernels_config": {
    "python": {
     "delete_cmd_postfix": "",
     "delete_cmd_prefix": "del ",
     "library": "var_list.py",
     "varRefreshCmd": "print(var_dic_list())"
    },
    "r": {
     "delete_cmd_postfix": ") ",
     "delete_cmd_prefix": "rm(",
     "library": "var_list.r",
     "varRefreshCmd": "cat(var_dic_list()) "
    }
   },
   "types_to_exclude": [
    "module",
    "function",
    "builtin_function_or_method",
    "instance",
    "_Feature"
   ],
   "window_display": false
  }
 },
 "nbformat": 4,
 "nbformat_minor": 4
}

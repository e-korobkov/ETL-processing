{
 "cells": [
  {
   "cell_type": "code",
   "execution_count": 1,
   "metadata": {
    "ExecuteTime": {
     "end_time": "2022-05-24T03:43:17.286352Z",
     "start_time": "2022-05-24T03:43:17.097551Z"
    },
    "deletable": false,
    "editable": false
   },
   "outputs": [],
   "source": [
    "import pandas as pd\n",
    "import numpy as np"
   ]
  },
  {
   "cell_type": "markdown",
   "metadata": {},
   "source": [
    "# Загрузим \"Контакты партнеров\""
   ]
  },
  {
   "cell_type": "code",
   "execution_count": 2,
   "metadata": {
    "ExecuteTime": {
     "end_time": "2022-05-24T03:43:21.837918Z",
     "start_time": "2022-05-24T03:43:17.287355Z"
    },
    "deletable": false,
    "editable": false
   },
   "outputs": [
    {
     "name": "stdout",
     "output_type": "stream",
     "text": [
      "<class 'pandas.core.frame.DataFrame'>\n",
      "RangeIndex: 34489 entries, 0 to 34488\n",
      "Data columns (total 10 columns):\n",
      " #   Column                                 Non-Null Count  Dtype \n",
      "---  ------                                 --------------  ----- \n",
      " 0   АдресЭП                                34489 non-null  object\n",
      " 1   НомерТелефона                          34489 non-null  object\n",
      " 2   ВидДляСпискаТелефонCДобавочнымНомером  34489 non-null  object\n",
      " 3   CRM_ОсновноеКонтактноеЛицоСсылка       34489 non-null  object\n",
      " 4   Код                                    34489 non-null  object\n",
      " 5   Наименование                           34489 non-null  object\n",
      " 6   ОсновнойМенеджер                       34489 non-null  object\n",
      " 7   Поставщик                              34489 non-null  object\n",
      " 8   Перевозчик                             34489 non-null  object\n",
      " 9   Ссылка                                 34489 non-null  object\n",
      "dtypes: object(10)\n",
      "memory usage: 2.6+ MB\n"
     ]
    }
   ],
   "source": [
    "partners = pd.read_excel(\"Контакты партнеров.xlsx\")\n",
    "partners.info()"
   ]
  },
  {
   "cell_type": "code",
   "execution_count": 3,
   "metadata": {
    "ExecuteTime": {
     "end_time": "2022-05-24T03:43:21.869818Z",
     "start_time": "2022-05-24T03:43:21.837918Z"
    },
    "deletable": false,
    "editable": false
   },
   "outputs": [
    {
     "data": {
      "text/html": [
       "<div>\n",
       "<style scoped>\n",
       "    .dataframe tbody tr th:only-of-type {\n",
       "        vertical-align: middle;\n",
       "    }\n",
       "\n",
       "    .dataframe tbody tr th {\n",
       "        vertical-align: top;\n",
       "    }\n",
       "\n",
       "    .dataframe thead th {\n",
       "        text-align: right;\n",
       "    }\n",
       "</style>\n",
       "<table border=\"1\" class=\"dataframe\">\n",
       "  <thead>\n",
       "    <tr style=\"text-align: right;\">\n",
       "      <th></th>\n",
       "      <th>АдресЭП</th>\n",
       "      <th>НомерТелефона</th>\n",
       "      <th>ВидДляСпискаТелефонCДобавочнымНомером</th>\n",
       "      <th>CRM_ОсновноеКонтактноеЛицоСсылка</th>\n",
       "      <th>Код</th>\n",
       "      <th>Наименование</th>\n",
       "      <th>ОсновнойМенеджер</th>\n",
       "      <th>Поставщик</th>\n",
       "      <th>Перевозчик</th>\n",
       "      <th>Ссылка</th>\n",
       "    </tr>\n",
       "  </thead>\n",
       "  <tbody>\n",
       "    <tr>\n",
       "      <th>0</th>\n",
       "      <td>&lt;Пустая строка&gt;</td>\n",
       "      <td>&lt;Пустая строка&gt;</td>\n",
       "      <td>Да</td>\n",
       "      <td>&lt;NULL&gt;</td>\n",
       "      <td>000000207</td>\n",
       "      <td>Элиот ЗАО</td>\n",
       "      <td>&lt;Пустая ссылка: Справочник.Пользователь&gt;</td>\n",
       "      <td>Да</td>\n",
       "      <td>Нет</td>\n",
       "      <td>Элиот ЗАО</td>\n",
       "    </tr>\n",
       "  </tbody>\n",
       "</table>\n",
       "</div>"
      ],
      "text/plain": [
       "           АдресЭП    НомерТелефона ВидДляСпискаТелефонCДобавочнымНомером  \\\n",
       "0  <Пустая строка>  <Пустая строка>                                    Да   \n",
       "\n",
       "  CRM_ОсновноеКонтактноеЛицоСсылка        Код Наименование  \\\n",
       "0                           <NULL>  000000207    Элиот ЗАО   \n",
       "\n",
       "                           ОсновнойМенеджер Поставщик Перевозчик     Ссылка  \n",
       "0  <Пустая ссылка: Справочник.Пользователь>        Да        Нет  Элиот ЗАО  "
      ]
     },
     "execution_count": 3,
     "metadata": {},
     "output_type": "execute_result"
    }
   ],
   "source": [
    "partners[:1]"
   ]
  },
  {
   "cell_type": "markdown",
   "metadata": {
    "deletable": false,
    "editable": false
   },
   "source": [
    "# Загрузим \"Контактные лица партнеров\""
   ]
  },
  {
   "cell_type": "code",
   "execution_count": 4,
   "metadata": {
    "ExecuteTime": {
     "end_time": "2022-05-24T03:43:23.762890Z",
     "start_time": "2022-05-24T03:43:21.871835Z"
    },
    "deletable": false,
    "editable": false
   },
   "outputs": [
    {
     "name": "stdout",
     "output_type": "stream",
     "text": [
      "<class 'pandas.core.frame.DataFrame'>\n",
      "RangeIndex: 11465 entries, 0 to 11464\n",
      "Data columns (total 12 columns):\n",
      " #   Column                 Non-Null Count  Dtype \n",
      "---  ------                 --------------  ----- \n",
      " 0   НомерТелефона          11465 non-null  object\n",
      " 1   АдресЭП                11465 non-null  object\n",
      " 2   НомерТелефонаБезКодов  11465 non-null  object\n",
      " 3   CRM_Имя                11465 non-null  object\n",
      " 4   CRM_Отчество           11465 non-null  object\n",
      " 5   CRM_Должность          11465 non-null  object\n",
      " 6   CRM_Фамилия            11465 non-null  object\n",
      " 7   Пол                    11465 non-null  object\n",
      " 8   Ссылка                 11465 non-null  object\n",
      " 9   CRM_ОсновнойДляСвязи   11465 non-null  object\n",
      " 10  Владелец               11465 non-null  object\n",
      " 11  ВладелецКод            11465 non-null  object\n",
      "dtypes: object(12)\n",
      "memory usage: 1.0+ MB\n"
     ]
    }
   ],
   "source": [
    "manager_of_partners = pd.read_excel(\"Контактные лица партнеров.xlsx\")\n",
    "manager_of_partners.info()"
   ]
  },
  {
   "cell_type": "code",
   "execution_count": 5,
   "metadata": {
    "ExecuteTime": {
     "end_time": "2022-05-24T03:43:23.778889Z",
     "start_time": "2022-05-24T03:43:23.763893Z"
    },
    "deletable": false,
    "editable": false
   },
   "outputs": [
    {
     "data": {
      "text/html": [
       "<div>\n",
       "<style scoped>\n",
       "    .dataframe tbody tr th:only-of-type {\n",
       "        vertical-align: middle;\n",
       "    }\n",
       "\n",
       "    .dataframe tbody tr th {\n",
       "        vertical-align: top;\n",
       "    }\n",
       "\n",
       "    .dataframe thead th {\n",
       "        text-align: right;\n",
       "    }\n",
       "</style>\n",
       "<table border=\"1\" class=\"dataframe\">\n",
       "  <thead>\n",
       "    <tr style=\"text-align: right;\">\n",
       "      <th></th>\n",
       "      <th>НомерТелефона</th>\n",
       "      <th>АдресЭП</th>\n",
       "      <th>НомерТелефонаБезКодов</th>\n",
       "      <th>CRM_Имя</th>\n",
       "      <th>CRM_Отчество</th>\n",
       "      <th>CRM_Должность</th>\n",
       "      <th>CRM_Фамилия</th>\n",
       "      <th>Пол</th>\n",
       "      <th>Ссылка</th>\n",
       "      <th>CRM_ОсновнойДляСвязи</th>\n",
       "      <th>Владелец</th>\n",
       "      <th>ВладелецКод</th>\n",
       "    </tr>\n",
       "  </thead>\n",
       "  <tbody>\n",
       "    <tr>\n",
       "      <th>0</th>\n",
       "      <td>79618913040</td>\n",
       "      <td>&lt;Пустая строка&gt;</td>\n",
       "      <td>8913040</td>\n",
       "      <td>Алла</td>\n",
       "      <td>&lt;Пустая строка&gt;</td>\n",
       "      <td>&lt;Пустая ссылка: Справочник.Должность&gt;</td>\n",
       "      <td>Пономаренко</td>\n",
       "      <td>Женский</td>\n",
       "      <td>Пономаренко Алла</td>\n",
       "      <td>Нет</td>\n",
       "      <td>не использовать СКБ Факел (СибЭнергоСтрой (Том...</td>\n",
       "      <td>00-00000435</td>\n",
       "    </tr>\n",
       "  </tbody>\n",
       "</table>\n",
       "</div>"
      ],
      "text/plain": [
       "  НомерТелефона          АдресЭП НомерТелефонаБезКодов CRM_Имя  \\\n",
       "0   79618913040  <Пустая строка>               8913040    Алла   \n",
       "\n",
       "      CRM_Отчество                          CRM_Должность  CRM_Фамилия  \\\n",
       "0  <Пустая строка>  <Пустая ссылка: Справочник.Должность>  Пономаренко   \n",
       "\n",
       "       Пол            Ссылка CRM_ОсновнойДляСвязи  \\\n",
       "0  Женский  Пономаренко Алла                  Нет   \n",
       "\n",
       "                                            Владелец  ВладелецКод  \n",
       "0  не использовать СКБ Факел (СибЭнергоСтрой (Том...  00-00000435  "
      ]
     },
     "execution_count": 5,
     "metadata": {},
     "output_type": "execute_result"
    }
   ],
   "source": [
    "manager_of_partners[0:1]"
   ]
  },
  {
   "cell_type": "markdown",
   "metadata": {},
   "source": [
    "# Соберем нужные данные в одном DF"
   ]
  },
  {
   "cell_type": "code",
   "execution_count": 6,
   "metadata": {
    "ExecuteTime": {
     "end_time": "2022-05-24T03:43:23.794889Z",
     "start_time": "2022-05-24T03:43:23.779892Z"
    },
    "deletable": false,
    "editable": false
   },
   "outputs": [
    {
     "name": "stdout",
     "output_type": "stream",
     "text": [
      "<class 'pandas.core.frame.DataFrame'>\n",
      "RangeIndex: 34489 entries, 0 to 34488\n",
      "Data columns (total 4 columns):\n",
      " #   Column                Non-Null Count  Dtype \n",
      "---  ------                --------------  ----- \n",
      " 0   АдресЭП               34489 non-null  object\n",
      " 1   НомерТелефона         34489 non-null  object\n",
      " 2   КодПартнер            34489 non-null  object\n",
      " 3   НаименованиеПартнера  34489 non-null  object\n",
      "dtypes: object(4)\n",
      "memory usage: 1.1+ MB\n"
     ]
    }
   ],
   "source": [
    "time_partners = partners[['АдресЭП', 'НомерТелефона', 'Код', 'Наименование']]\n",
    "time_partners = time_partners.rename(\n",
    "    columns={'Код': 'КодПартнер', 'Наименование': 'НаименованиеПартнера'})\n",
    "time_partners.info()"
   ]
  },
  {
   "cell_type": "code",
   "execution_count": 7,
   "metadata": {
    "ExecuteTime": {
     "end_time": "2022-05-24T03:43:23.810889Z",
     "start_time": "2022-05-24T03:43:23.795892Z"
    },
    "deletable": false,
    "editable": false
   },
   "outputs": [
    {
     "name": "stdout",
     "output_type": "stream",
     "text": [
      "<class 'pandas.core.frame.DataFrame'>\n",
      "RangeIndex: 11465 entries, 0 to 11464\n",
      "Data columns (total 4 columns):\n",
      " #   Column                Non-Null Count  Dtype \n",
      "---  ------                --------------  ----- \n",
      " 0   АдресЭП               11465 non-null  object\n",
      " 1   НомерТелефона         11465 non-null  object\n",
      " 2   КодПартнер            11465 non-null  object\n",
      " 3   НаименованиеПартнера  11465 non-null  object\n",
      "dtypes: object(4)\n",
      "memory usage: 358.4+ KB\n"
     ]
    }
   ],
   "source": [
    "time_manager_of_partners = manager_of_partners[[\n",
    "    'АдресЭП', 'НомерТелефона', 'ВладелецКод', 'Владелец']]\n",
    "time_manager_of_partners = time_manager_of_partners.rename(\n",
    "    columns={'ВладелецКод': 'КодПартнер', 'Владелец': 'НаименованиеПартнера'})\n",
    "time_manager_of_partners.info()"
   ]
  },
  {
   "cell_type": "code",
   "execution_count": 8,
   "metadata": {
    "ExecuteTime": {
     "end_time": "2022-05-24T03:43:23.826907Z",
     "start_time": "2022-05-24T03:43:23.811889Z"
    },
    "deletable": false,
    "editable": false
   },
   "outputs": [],
   "source": [
    "data = pd.concat([time_partners, time_manager_of_partners])"
   ]
  },
  {
   "cell_type": "code",
   "execution_count": 9,
   "metadata": {
    "ExecuteTime": {
     "end_time": "2022-05-24T03:43:23.858849Z",
     "start_time": "2022-05-24T03:43:23.827907Z"
    },
    "deletable": false,
    "editable": false
   },
   "outputs": [],
   "source": [
    "# Приведем все к нижнему регистру\n",
    "data['АдресЭП'] = data['АдресЭП'].str.lower()"
   ]
  },
  {
   "cell_type": "code",
   "execution_count": 10,
   "metadata": {
    "ExecuteTime": {
     "end_time": "2022-05-24T03:43:23.890268Z",
     "start_time": "2022-05-24T03:43:23.860853Z"
    },
    "deletable": false,
    "editable": false
   },
   "outputs": [
    {
     "name": "stdout",
     "output_type": "stream",
     "text": [
      "<class 'pandas.core.frame.DataFrame'>\n",
      "Int64Index: 45954 entries, 0 to 11464\n",
      "Data columns (total 4 columns):\n",
      " #   Column                Non-Null Count  Dtype \n",
      "---  ------                --------------  ----- \n",
      " 0   АдресЭП               45954 non-null  object\n",
      " 1   НомерТелефона         45954 non-null  object\n",
      " 2   КодПартнер            45954 non-null  object\n",
      " 3   НаименованиеПартнера  45954 non-null  object\n",
      "dtypes: object(4)\n",
      "memory usage: 1.8+ MB\n"
     ]
    }
   ],
   "source": [
    "data.info()"
   ]
  },
  {
   "cell_type": "code",
   "execution_count": 11,
   "metadata": {
    "ExecuteTime": {
     "end_time": "2022-05-24T03:43:23.906274Z",
     "start_time": "2022-05-24T03:43:23.892279Z"
    },
    "deletable": false,
    "editable": false
   },
   "outputs": [
    {
     "data": {
      "text/html": [
       "<div>\n",
       "<style scoped>\n",
       "    .dataframe tbody tr th:only-of-type {\n",
       "        vertical-align: middle;\n",
       "    }\n",
       "\n",
       "    .dataframe tbody tr th {\n",
       "        vertical-align: top;\n",
       "    }\n",
       "\n",
       "    .dataframe thead th {\n",
       "        text-align: right;\n",
       "    }\n",
       "</style>\n",
       "<table border=\"1\" class=\"dataframe\">\n",
       "  <thead>\n",
       "    <tr style=\"text-align: right;\">\n",
       "      <th></th>\n",
       "      <th>АдресЭП</th>\n",
       "      <th>НомерТелефона</th>\n",
       "      <th>КодПартнер</th>\n",
       "      <th>НаименованиеПартнера</th>\n",
       "    </tr>\n",
       "  </thead>\n",
       "  <tbody>\n",
       "    <tr>\n",
       "      <th>0</th>\n",
       "      <td>&lt;пустая строка&gt;</td>\n",
       "      <td>&lt;Пустая строка&gt;</td>\n",
       "      <td>000000207</td>\n",
       "      <td>Элиот ЗАО</td>\n",
       "    </tr>\n",
       "  </tbody>\n",
       "</table>\n",
       "</div>"
      ],
      "text/plain": [
       "           АдресЭП    НомерТелефона КодПартнер НаименованиеПартнера\n",
       "0  <пустая строка>  <Пустая строка>  000000207            Элиот ЗАО"
      ]
     },
     "execution_count": 11,
     "metadata": {},
     "output_type": "execute_result"
    }
   ],
   "source": [
    "data[:1]"
   ]
  },
  {
   "cell_type": "markdown",
   "metadata": {
    "deletable": false,
    "editable": false
   },
   "source": [
    "# Сохраним в файл"
   ]
  },
  {
   "cell_type": "code",
   "execution_count": 12,
   "metadata": {
    "ExecuteTime": {
     "end_time": "2022-05-24T03:43:27.244688Z",
     "start_time": "2022-05-24T03:43:23.907274Z"
    },
    "deletable": false,
    "editable": false
   },
   "outputs": [],
   "source": [
    "with pd.ExcelWriter(f'Объединенные контакты партнеров.xlsx') as writer:\n",
    "    data.reset_index(drop=True).to_excel(writer, sheet_name='Контакты партнеров')"
   ]
  }
 ],
 "metadata": {
  "kernelspec": {
   "display_name": "Python 3 (ipykernel)",
   "language": "python",
   "name": "python3"
  },
  "language_info": {
   "codemirror_mode": {
    "name": "ipython",
    "version": 3
   },
   "file_extension": ".py",
   "mimetype": "text/x-python",
   "name": "python",
   "nbconvert_exporter": "python",
   "pygments_lexer": "ipython3",
   "version": "3.8.5"
  },
  "toc": {
   "base_numbering": 1,
   "nav_menu": {},
   "number_sections": true,
   "sideBar": true,
   "skip_h1_title": false,
   "title_cell": "Table of Contents",
   "title_sidebar": "Contents",
   "toc_cell": false,
   "toc_position": {},
   "toc_section_display": true,
   "toc_window_display": true
  },
  "varInspector": {
   "cols": {
    "lenName": 16,
    "lenType": 16,
    "lenVar": 40
   },
   "kernels_config": {
    "python": {
     "delete_cmd_postfix": "",
     "delete_cmd_prefix": "del ",
     "library": "var_list.py",
     "varRefreshCmd": "print(var_dic_list())"
    },
    "r": {
     "delete_cmd_postfix": ") ",
     "delete_cmd_prefix": "rm(",
     "library": "var_list.r",
     "varRefreshCmd": "cat(var_dic_list()) "
    }
   },
   "types_to_exclude": [
    "module",
    "function",
    "builtin_function_or_method",
    "instance",
    "_Feature"
   ],
   "window_display": false
  }
 },
 "nbformat": 4,
 "nbformat_minor": 4
}

{
 "cells": [
  {
   "cell_type": "code",
   "execution_count": 1,
   "metadata": {
    "ExecuteTime": {
     "end_time": "2022-05-24T15:47:14.882556Z",
     "start_time": "2022-05-24T15:47:14.390071Z"
    },
    "deletable": false,
    "editable": false
   },
   "outputs": [],
   "source": [
    "import pandas\n",
    "from datetime import datetime, timedelta\n",
    "from dateutil.relativedelta import *\n",
    "import time\n",
    "from multiprocessing import Process\n",
    "from threading import Thread\n",
    "import numpy as np"
   ]
  },
  {
   "cell_type": "markdown",
   "metadata": {
    "deletable": false,
    "editable": false
   },
   "source": [
    "# Функции расчета фич"
   ]
  },
  {
   "cell_type": "code",
   "execution_count": 2,
   "metadata": {
    "ExecuteTime": {
     "end_time": "2022-05-24T15:47:15.085631Z",
     "start_time": "2022-05-24T15:47:14.885555Z"
    },
    "deletable": false,
    "editable": false
   },
   "outputs": [],
   "source": [
    "# Для увеличения даты в зависимости от вида смещения\n",
    "def uvelichenieDate(startDate, period):\n",
    "    if period == 'day':\n",
    "        return startDate + relativedelta(days = 1)\n",
    "    if period == 'week':\n",
    "        return startDate + relativedelta(days = 7)\n",
    "    if period == 'months':\n",
    "        return startDate + relativedelta(months = 1)\n",
    "    if period == 'quarted':\n",
    "        return startDate + relativedelta(months = 3)\n",
    "    if period == 'year':\n",
    "        return startDate + relativedelta(years = 1)"
   ]
  },
  {
   "cell_type": "code",
   "execution_count": 3,
   "metadata": {
    "ExecuteTime": {
     "end_time": "2022-05-24T15:47:21.235821Z",
     "start_time": "2022-05-24T15:47:15.087632Z"
    },
    "deletable": false,
    "editable": false
   },
   "outputs": [],
   "source": [
    "# Для вычисления начальной даты\n",
    "def nachalnayaData(FinishDate, StartDate, period):\n",
    "    # Если период all, то нет смысла вычислять начальную дату, т.к. статистику будем брать за весь период\n",
    "    if period == 'all':\n",
    "        return StartDate\n",
    "    \n",
    "    timeDate = FinishDate\n",
    "    # цикл смещения, преднозначен для вычисления начальной даты относительно \"Последняя дата\" - период\n",
    "    while timeDate >= StartDate:\n",
    "        if period == 'week':\n",
    "            timeDate = timeDate + relativedelta(days = -7)\n",
    "        elif period == 'months':\n",
    "            timeDate = timeDate + relativedelta(months = -1)\n",
    "        elif period == 'quarted':\n",
    "            timeDate = timeDate + relativedelta(months = -3)\n",
    "        elif period == 'year':\n",
    "            timeDate = timeDate + relativedelta(years = -1)\n",
    "    return timeDate"
   ]
  },
  {
   "cell_type": "code",
   "execution_count": 4,
   "metadata": {
    "ExecuteTime": {
     "end_time": "2022-05-24T15:47:27.300856Z",
     "start_time": "2022-05-24T15:47:21.238869Z"
    },
    "deletable": false,
    "editable": false
   },
   "outputs": [],
   "source": [
    "# period - с каким шагом периода будем группировать данные\n",
    "# grupBaza - столбец основание группировки\n",
    "# grupPriznak - столбец с дополнительным разрезом группировки\n",
    "# metodGrup - сумма или количество\n",
    "# newColunmName - имя нового столбца в который добавим данные\n",
    "# Глобально, \n",
    "    # 1) разбиваем DF по временным отрезкам.\n",
    "    # 2) Вычисляем признаки (сумма или т.п.).\n",
    "    # 3) Записываем в DF\n",
    "\n",
    "def makePriznak(df, period, grupBaza, grupPriznak, metodGrup, newColunmName):\n",
    "    # добавим новый столбец в который будем записывать значения фич\n",
    "    df[newColunmName] = None \n",
    "    # Правая граница цикла\n",
    "    # df['Date'][len(df)-1] последняя запись в DF\n",
    "    endDateOfDF = uvelichenieDate(df['ZakazData'][len(df)-1], \"day\")\n",
    "    # Получим первую дату указанную в ДФ (она же левая граница цикла)\n",
    "    firstDate = nachalnayaData(endDateOfDF, df['ZakazData'][0], period)\n",
    "    \n",
    "    # Расчитаем вторую дату\n",
    "    # если не равно all, то берем дату за period, \n",
    "    # в противном случае данные за весь период\n",
    "    if period != 'all':\n",
    "        secondDate = uvelichenieDate(firstDate, period)\n",
    "    else:\n",
    "        secondDate = endDateOfDF\n",
    "    \n",
    "    # цикл для прохода DF по условию дат\n",
    "    while firstDate <= endDateOfDF:\n",
    "        # Отберем данные по условию дат\n",
    "        filtredDF = df.loc[(df['ZakazData'] >= firstDate) & \n",
    "                           (df['ZakazData'] < secondDate)]\n",
    "        \n",
    "        #Сделаем dict уникальных значений по виду столбца\n",
    "        timeDict = dict.fromkeys(filtredDF[grupBaza])\n",
    "        \n",
    "        # идем по уникальным значениям словаря\n",
    "        for elem in timeDict:\n",
    "            #фильтруем по уникальным значениям\n",
    "            filtredDF2 = filtredDF.loc[(df[grupBaza] == elem)]\n",
    "            \n",
    "            #Обрабатываем значения по metodGrup (Сумма или кол-во и т.п.)\n",
    "            if metodGrup == 'sum':\n",
    "                rezult = filtredDF2[grupPriznak].sum()\n",
    "            elif metodGrup == 'max':\n",
    "                rezult = filtredDF2[grupPriznak].max()\n",
    "            elif metodGrup == 'median':\n",
    "                rezult = filtredDF2[grupPriznak].median()\n",
    "            elif metodGrup == 'pct_change':\n",
    "                rezult = filtredDF2[grupPriznak].pct_change()\n",
    "            elif metodGrup == 'nunique':\n",
    "                rezult = filtredDF2[grupPriznak].nunique()\n",
    "            \n",
    "            # Записываем данные в DF\n",
    "            df.at[filtredDF2.index.values, newColunmName] = rezult\n",
    "        \n",
    "        # Если period = all, то нет смысла дальше считать, \n",
    "        # т.к. при all считаются все данные на первой итерации\n",
    "        if period == 'all':\n",
    "            break\n",
    "\n",
    "        # сдвинем границы на значение period\n",
    "        firstDate = uvelichenieDate(firstDate, period) \n",
    "        secondDate = uvelichenieDate(firstDate, period)\n",
    "        \n",
    "    print(f'Выполнен расчет фич для: {newColunmName}')"
   ]
  },
  {
   "cell_type": "markdown",
   "metadata": {
    "deletable": false,
    "editable": false
   },
   "source": [
    "# Загрузим данные"
   ]
  },
  {
   "cell_type": "code",
   "execution_count": 5,
   "metadata": {
    "ExecuteTime": {
     "end_time": "2022-05-24T15:49:15.121252Z",
     "start_time": "2022-05-24T15:47:27.302856Z"
    },
    "deletable": false,
    "editable": false
   },
   "outputs": [],
   "source": [
    "file = pandas.read_excel('Продажи с касаниями клиентов.xlsx', index_col=0)"
   ]
  },
  {
   "cell_type": "code",
   "execution_count": 6,
   "metadata": {
    "ExecuteTime": {
     "end_time": "2022-05-24T15:49:15.168957Z",
     "start_time": "2022-05-24T15:49:15.123251Z"
    },
    "deletable": false,
    "editable": false
   },
   "outputs": [],
   "source": [
    "timeFile = file.copy(deep=True)"
   ]
  },
  {
   "cell_type": "code",
   "execution_count": 7,
   "metadata": {
    "ExecuteTime": {
     "end_time": "2022-05-24T15:49:25.359947Z",
     "start_time": "2022-05-24T15:49:15.170475Z"
    },
    "deletable": false,
    "editable": false
   },
   "outputs": [
    {
     "data": {
      "text/html": [
       "<div>\n",
       "<style scoped>\n",
       "    .dataframe tbody tr th:only-of-type {\n",
       "        vertical-align: middle;\n",
       "    }\n",
       "\n",
       "    .dataframe tbody tr th {\n",
       "        vertical-align: top;\n",
       "    }\n",
       "\n",
       "    .dataframe thead th {\n",
       "        text-align: right;\n",
       "    }\n",
       "</style>\n",
       "<table border=\"1\" class=\"dataframe\">\n",
       "  <thead>\n",
       "    <tr style=\"text-align: right;\">\n",
       "      <th></th>\n",
       "      <th>AktVipRabot</th>\n",
       "      <th>Data</th>\n",
       "      <th>SummaAktaVipRabot</th>\n",
       "      <th>Quantity</th>\n",
       "      <th>KodStrokiAkt</th>\n",
       "      <th>ZakazKlienta</th>\n",
       "      <th>NomenklaturaKod</th>\n",
       "      <th>Nomenklatura</th>\n",
       "      <th>ZakazData</th>\n",
       "      <th>PartnerKod</th>\n",
       "      <th>...</th>\n",
       "      <th>ProdanoShtuk</th>\n",
       "      <th>KodStrokiRealiz</th>\n",
       "      <th>LinkOrder</th>\n",
       "      <th>SummaZakazano</th>\n",
       "      <th>RastoynieOtNSK</th>\n",
       "      <th>otMoscow</th>\n",
       "      <th>ПродажаСостоялась</th>\n",
       "      <th>ItogoProcentSkidki</th>\n",
       "      <th>cals</th>\n",
       "      <th>emails</th>\n",
       "    </tr>\n",
       "  </thead>\n",
       "  <tbody>\n",
       "    <tr>\n",
       "      <th>0</th>\n",
       "      <td>NaN</td>\n",
       "      <td>NaT</td>\n",
       "      <td>NaN</td>\n",
       "      <td>NaN</td>\n",
       "      <td>NaN</td>\n",
       "      <td>NaN</td>\n",
       "      <td>NaN</td>\n",
       "      <td>NaN</td>\n",
       "      <td>2014-06-10 12:00:00</td>\n",
       "      <td>000001587</td>\n",
       "      <td>...</td>\n",
       "      <td>NaN</td>\n",
       "      <td>NaN</td>\n",
       "      <td>Заказ клиента ЛБ00-000001 от 10.06.2014 12:00:00</td>\n",
       "      <td>3690.0</td>\n",
       "      <td>1</td>\n",
       "      <td>3400</td>\n",
       "      <td>Нет</td>\n",
       "      <td>NaN</td>\n",
       "      <td>0</td>\n",
       "      <td>0</td>\n",
       "    </tr>\n",
       "  </tbody>\n",
       "</table>\n",
       "<p>1 rows × 44 columns</p>\n",
       "</div>"
      ],
      "text/plain": [
       "  AktVipRabot Data  SummaAktaVipRabot  Quantity  KodStrokiAkt ZakazKlienta  \\\n",
       "0         NaN  NaT                NaN       NaN           NaN          NaN   \n",
       "\n",
       "  NomenklaturaKod Nomenklatura           ZakazData PartnerKod  ...  \\\n",
       "0             NaN          NaN 2014-06-10 12:00:00  000001587  ...   \n",
       "\n",
       "  ProdanoShtuk KodStrokiRealiz  \\\n",
       "0          NaN             NaN   \n",
       "\n",
       "                                          LinkOrder SummaZakazano  \\\n",
       "0  Заказ клиента ЛБ00-000001 от 10.06.2014 12:00:00        3690.0   \n",
       "\n",
       "  RastoynieOtNSK otMoscow ПродажаСостоялась  ItogoProcentSkidki cals emails  \n",
       "0              1     3400               Нет                 NaN    0      0  \n",
       "\n",
       "[1 rows x 44 columns]"
      ]
     },
     "execution_count": 7,
     "metadata": {},
     "output_type": "execute_result"
    }
   ],
   "source": [
    "timeFile[:1]"
   ]
  },
  {
   "cell_type": "code",
   "execution_count": 8,
   "metadata": {
    "ExecuteTime": {
     "end_time": "2022-05-24T15:49:35.544572Z",
     "start_time": "2022-05-24T15:49:25.361948Z"
    },
    "deletable": false,
    "editable": false
   },
   "outputs": [
    {
     "name": "stdout",
     "output_type": "stream",
     "text": [
      "<class 'pandas.core.frame.DataFrame'>\n",
      "Int64Index: 146016 entries, 0 to 146015\n",
      "Data columns (total 44 columns):\n",
      " #   Column                       Non-Null Count   Dtype         \n",
      "---  ------                       --------------   -----         \n",
      " 0   AktVipRabot                  2375 non-null    object        \n",
      " 1   Data                         2375 non-null    datetime64[ns]\n",
      " 2   SummaAktaVipRabot            2375 non-null    float64       \n",
      " 3   Quantity                     2375 non-null    float64       \n",
      " 4   KodStrokiAkt                 2375 non-null    float64       \n",
      " 5   ZakazKlienta                 2375 non-null    object        \n",
      " 6   NomenklaturaKod              2375 non-null    object        \n",
      " 7   Nomenklatura                 2375 non-null    object        \n",
      " 8   ZakazData                    146016 non-null  datetime64[ns]\n",
      " 9   PartnerKod                   146016 non-null  object        \n",
      " 10  OsnovnoyManager              146016 non-null  object        \n",
      " 11  BiznesRegion                 146016 non-null  object        \n",
      " 12  SummaZakaza                  85971 non-null   float64       \n",
      " 13  KreditIliPredoplata          146016 non-null  object        \n",
      " 14  JelaemayaDataOtgruzki        138729 non-null  datetime64[ns]\n",
      " 15  StatusZakaza                 146016 non-null  object        \n",
      " 16  SposobDostavki               146016 non-null  object        \n",
      " 17  KodStrokiZakaz               146016 non-null  int64         \n",
      " 18  DataOtgruzki                 143562 non-null  datetime64[ns]\n",
      " 19  NomenklaturaKodRealAndZakaz  146016 non-null  object        \n",
      " 20  NomenklaturaRealizAndZakaz   146016 non-null  object        \n",
      " 21  VidNomenklatury              146016 non-null  object        \n",
      " 22  KodTNVED                     146016 non-null  object        \n",
      " 23  ZakazanoShtuk                146016 non-null  float64       \n",
      " 24  VidCeny                      146016 non-null  object        \n",
      " 25  Cena                         145996 non-null  float64       \n",
      " 26  StavkaNDS                    146016 non-null  object        \n",
      " 27  PrichinaOtmeny               146016 non-null  object        \n",
      " 28  Otmeneno                     146016 non-null  object        \n",
      " 29  SrokPostavki                 52993 non-null   float64       \n",
      " 30  VariantObecpech              146016 non-null  object        \n",
      " 31  RealizSsilka                 81869 non-null   object        \n",
      " 32  DataRealiz                   81869 non-null   datetime64[ns]\n",
      " 33  SummaRealiz                  81869 non-null   float64       \n",
      " 34  ProdanoShtuk                 81869 non-null   float64       \n",
      " 35  KodStrokiRealiz              81869 non-null   float64       \n",
      " 36  LinkOrder                    146016 non-null  object        \n",
      " 37  SummaZakazano                145992 non-null  float64       \n",
      " 38  RastoynieOtNSK               146016 non-null  int64         \n",
      " 39  otMoscow                     146016 non-null  int64         \n",
      " 40  ПродажаСостоялась            146016 non-null  object        \n",
      " 41  ItogoProcentSkidki           615 non-null     float64       \n",
      " 42  cals                         146016 non-null  int64         \n",
      " 43  emails                       146016 non-null  int64         \n",
      "dtypes: datetime64[ns](5), float64(12), int64(5), object(22)\n",
      "memory usage: 50.1+ MB\n"
     ]
    }
   ],
   "source": [
    "timeFile.info()"
   ]
  },
  {
   "cell_type": "markdown",
   "metadata": {
    "deletable": false,
    "editable": false
   },
   "source": [
    "# Выполним расчет фич"
   ]
  },
  {
   "cell_type": "markdown",
   "metadata": {
    "deletable": false,
    "editable": false
   },
   "source": [
    "## Заказ - как основной признак"
   ]
  },
  {
   "cell_type": "code",
   "execution_count": 9,
   "metadata": {
    "ExecuteTime": {
     "end_time": "2022-05-24T16:56:15.368619Z",
     "start_time": "2022-05-24T15:49:35.546571Z"
    },
    "deletable": false,
    "editable": false
   },
   "outputs": [
    {
     "name": "stdout",
     "output_type": "stream",
     "text": [
      "Выполнен расчет фич для: УникНоменкЗаказНеделя\n",
      "Выполнен расчет фич для: УникНоменкЗаказМесяц\n",
      "Выполнен расчет фич для: УникНоменкЗаказКвартал\n",
      "Выполнен расчет фич для: УникНоменкЗаказГод\n",
      "Выполнен расчет фич для: УникНоменкЗаказВсего\n",
      "Выполнен расчет фич для: SummaZakaza\n"
     ]
    }
   ],
   "source": [
    "# Количество уникальной номенклатуры по Заказу\n",
    "makePriznak(timeFile, \"week\", \"LinkOrder\", 'Nomenklatura', \"nunique\", 'УникНоменкЗаказНеделя')\n",
    "makePriznak(timeFile, \"months\", \"LinkOrder\", 'Nomenklatura', \"nunique\", 'УникНоменкЗаказМесяц')\n",
    "makePriznak(timeFile, \"quarted\", \"LinkOrder\", 'Nomenklatura', \"nunique\", 'УникНоменкЗаказКвартал')\n",
    "makePriznak(timeFile, \"year\", \"LinkOrder\", 'Nomenklatura', \"nunique\", 'УникНоменкЗаказГод')\n",
    "makePriznak(timeFile, \"all\", \"LinkOrder\", 'Nomenklatura', \"nunique\", 'УникНоменкЗаказВсего')\n",
    "\n",
    "# Сумма заказа\n",
    "# Таким образом просто перепишем столбец SummaZakaza\n",
    "makePriznak(timeFile, \"all\", \"LinkOrder\", 'SummaZakazano', \"sum\", 'SummaZakaza')"
   ]
  },
  {
   "cell_type": "markdown",
   "metadata": {
    "deletable": false,
    "editable": false
   },
   "source": [
    "## Партнер - как основной признак"
   ]
  },
  {
   "cell_type": "code",
   "execution_count": 10,
   "metadata": {
    "ExecuteTime": {
     "end_time": "2022-05-24T18:19:18.027347Z",
     "start_time": "2022-05-24T16:56:15.387620Z"
    },
    "deletable": false,
    "editable": false
   },
   "outputs": [
    {
     "name": "stdout",
     "output_type": "stream",
     "text": [
      "Выполнен расчет фич для: Кол_воЗапроссовВНеделюУПартнера\n",
      "Выполнен расчет фич для: Кол_воЗапроссовВМесяцУПартнера\n",
      "Выполнен расчет фич для: Кол_воЗапроссовВКварталУПартнера\n",
      "Выполнен расчет фич для: Кол_воЗапроссовВГодУПартнера\n",
      "Выполнен расчет фич для: Кол_воЗапроссовВсегоУПартнера\n",
      "Выполнен расчет фич для: Кол_воРеализацПартнерВНеделю\n",
      "Выполнен расчет фич для: Кол_воРеализацПартнерВМесяц\n",
      "Выполнен расчет фич для: Кол_воРеализацПартнерВКвартал\n",
      "Выполнен расчет фич для: Кол_воРеализацПартнерВГод\n",
      "Выполнен расчет фич для: Кол_воРеализацПартнерВсего\n",
      "Выполнен расчет фич для: АссорНоменклатПартнерНеделя\n",
      "Выполнен расчет фич для: АссорНоменклатПартнерМесяц\n",
      "Выполнен расчет фич для: АссорНоменклатПартнерКвартал\n",
      "Выполнен расчет фич для: АссорНоменклатПартнерГод\n",
      "Выполнен расчет фич для: АссорНоменклатПартнерВсего\n",
      "Выполнен расчет фич для: УникВидНоменкПартнерНеделя\n",
      "Выполнен расчет фич для: УникВидНоменкПартнерМесяц\n",
      "Выполнен расчет фич для: УникВидНоменкПартнерКвартал\n",
      "Выполнен расчет фич для: УникВидНоменкПартнерГод\n",
      "Выполнен расчет фич для: УникВидНоменкПартнерВсего\n",
      "Выполнен расчет фич для: ЗаказСуммаПартнерНеделя\n",
      "Выполнен расчет фич для: ЗаказСуммаПартнерНеделяМесяц\n",
      "Выполнен расчет фич для: ЗаказСуммаПартнерНеделяКвартал\n",
      "Выполнен расчет фич для: ЗаказСуммаПартнерНеделяГод\n",
      "Выполнен расчет фич для: ЗаказСуммаПартнерНеделяВсего\n",
      "Выполнен расчет фич для: ЗвонковПартнерНеделя\n",
      "Выполнен расчет фич для: ЗвонковПартнерНеделяМесяц\n",
      "Выполнен расчет фич для: ЗвонковПартнерНеделяКвартал\n",
      "Выполнен расчет фич для: ЗвонковПартнерНеделяГод\n",
      "Выполнен расчет фич для: ЗвонковПартнерНеделяВсего\n",
      "Выполнен расчет фич для: ЭлПочтыПартнерНеделя\n",
      "Выполнен расчет фич для: ЭлПочтыПартнерНеделяМесяц\n",
      "Выполнен расчет фич для: ЭлПочтыПартнерНеделяКвартал\n",
      "Выполнен расчет фич для: ЭлПочтыПартнерНеделяГод\n",
      "Выполнен расчет фич для: ЭлПочтыПартнерНеделяВсего\n"
     ]
    }
   ],
   "source": [
    "# Количество запроссов (Заказов) в заданный период (частота обращений)\n",
    "makePriznak(timeFile, \"week\", \"PartnerKod\", 'LinkOrder', \"nunique\", 'Кол_воЗапроссовВНеделюУПартнера')\n",
    "makePriznak(timeFile, \"months\", \"PartnerKod\", 'LinkOrder', \"nunique\", 'Кол_воЗапроссовВМесяцУПартнера')\n",
    "makePriznak(timeFile, \"quarted\", \"PartnerKod\", 'LinkOrder', \"nunique\", 'Кол_воЗапроссовВКварталУПартнера')\n",
    "makePriznak(timeFile, \"year\", \"PartnerKod\", 'LinkOrder', \"nunique\", 'Кол_воЗапроссовВГодУПартнера')\n",
    "makePriznak(timeFile, \"all\", \"PartnerKod\", 'LinkOrder', \"nunique\", 'Кол_воЗапроссовВсегоУПартнера')\n",
    "\n",
    "# Количество реализаций в заданный период (частота продаж)\n",
    "makePriznak(timeFile, \"week\", \"PartnerKod\", 'RealizSsilka', \"nunique\", 'Кол_воРеализацПартнерВНеделю')\n",
    "makePriznak(timeFile, \"months\", \"PartnerKod\", 'RealizSsilka', \"nunique\", 'Кол_воРеализацПартнерВМесяц')\n",
    "makePriznak(timeFile, \"quarted\", \"PartnerKod\", 'RealizSsilka', \"nunique\", 'Кол_воРеализацПартнерВКвартал')\n",
    "makePriznak(timeFile, \"year\", \"PartnerKod\", 'RealizSsilka', \"nunique\", 'Кол_воРеализацПартнерВГод')\n",
    "makePriznak(timeFile, \"all\", \"PartnerKod\", 'RealizSsilka', \"nunique\", 'Кол_воРеализацПартнерВсего')\n",
    "\n",
    "# Количество реализаций в заданный период по номенклатуре (частота продаж)\n",
    "makePriznak(timeFile, \"week\", \"PartnerKod\", 'NomenklaturaKodRealAndZakaz', \"nunique\", 'АссорНоменклатПартнерНеделя')\n",
    "makePriznak(timeFile, \"months\", \"PartnerKod\", 'NomenklaturaKodRealAndZakaz', \"nunique\", 'АссорНоменклатПартнерМесяц')\n",
    "makePriznak(timeFile, \"quarted\", \"PartnerKod\", 'NomenklaturaKodRealAndZakaz', \"nunique\", 'АссорНоменклатПартнерКвартал')\n",
    "makePriznak(timeFile, \"year\", \"PartnerKod\", 'NomenklaturaKodRealAndZakaz', \"nunique\", 'АссорНоменклатПартнерГод')\n",
    "makePriznak(timeFile, \"all\", \"PartnerKod\", 'NomenklaturaKodRealAndZakaz', \"nunique\", 'АссорНоменклатПартнерВсего')\n",
    "\n",
    "# Количество уникальных Видов номенклатуры по Партнеру\n",
    "makePriznak(timeFile, \"week\", \"PartnerKod\", 'VidNomenklatury', \"nunique\", 'УникВидНоменкПартнерНеделя')\n",
    "makePriznak(timeFile, \"months\", \"PartnerKod\", 'VidNomenklatury', \"nunique\", 'УникВидНоменкПартнерМесяц')\n",
    "makePriznak(timeFile, \"quarted\", \"PartnerKod\", 'VidNomenklatury', \"nunique\", 'УникВидНоменкПартнерКвартал')\n",
    "makePriznak(timeFile, \"year\", \"PartnerKod\", 'VidNomenklatury', \"nunique\", 'УникВидНоменкПартнерГод')\n",
    "makePriznak(timeFile, \"all\", \"PartnerKod\", 'VidNomenklatury', \"nunique\", 'УникВидНоменкПартнерВсего')\n",
    "\n",
    "# Оборот по Партнеру ЗаказаноВсего\n",
    "makePriznak(timeFile, \"week\", \"PartnerKod\", 'SummaZakaza', \"sum\", 'ЗаказСуммаПартнерНеделя')\n",
    "makePriznak(timeFile, \"months\", \"PartnerKod\", 'SummaZakaza', \"sum\", 'ЗаказСуммаПартнерНеделяМесяц')\n",
    "makePriznak(timeFile, \"quarted\", \"PartnerKod\", 'SummaZakaza', \"sum\", 'ЗаказСуммаПартнерНеделяКвартал')\n",
    "makePriznak(timeFile, \"year\", \"PartnerKod\", 'SummaZakaza', \"sum\", 'ЗаказСуммаПартнерНеделяГод')\n",
    "makePriznak(timeFile, \"all\", \"PartnerKod\", 'SummaZakaza', \"sum\", 'ЗаказСуммаПартнерНеделяВсего')\n",
    "\n",
    "# Звонков по Партнеру\n",
    "makePriznak(timeFile, \"week\", \"PartnerKod\", 'cals', \"sum\", 'ЗвонковПартнерНеделя')\n",
    "makePriznak(timeFile, \"months\", \"PartnerKod\", 'cals', \"sum\", 'ЗвонковПартнерНеделяМесяц')\n",
    "makePriznak(timeFile, \"quarted\", \"PartnerKod\", 'cals', \"sum\", 'ЗвонковПартнерНеделяКвартал')\n",
    "makePriznak(timeFile, \"year\", \"PartnerKod\", 'cals', \"sum\", 'ЗвонковПартнерНеделяГод')\n",
    "makePriznak(timeFile, \"all\", \"PartnerKod\", 'cals', \"sum\", 'ЗвонковПартнерНеделяВсего')\n",
    "\n",
    "# email по Партнеру ЗаказаноВсего\n",
    "makePriznak(timeFile, \"week\", \"PartnerKod\", 'emails', \"sum\", 'ЭлПочтыПартнерНеделя')\n",
    "makePriznak(timeFile, \"months\", \"PartnerKod\", 'emails', \"sum\", 'ЭлПочтыПартнерНеделяМесяц')\n",
    "makePriznak(timeFile, \"quarted\", \"PartnerKod\", 'emails', \"sum\", 'ЭлПочтыПартнерНеделяКвартал')\n",
    "makePriznak(timeFile, \"year\", \"PartnerKod\", 'emails', \"sum\", 'ЭлПочтыПартнерНеделяГод')\n",
    "makePriznak(timeFile, \"all\", \"PartnerKod\", 'emails', \"sum\", 'ЭлПочтыПартнерНеделяВсего')"
   ]
  },
  {
   "cell_type": "markdown",
   "metadata": {
    "deletable": false,
    "editable": false
   },
   "source": [
    "## БизнесРегион - как основной признак"
   ]
  },
  {
   "cell_type": "code",
   "execution_count": 11,
   "metadata": {
    "ExecuteTime": {
     "end_time": "2022-05-24T18:28:47.708358Z",
     "start_time": "2022-05-24T18:19:18.027864Z"
    },
    "deletable": false,
    "editable": false
   },
   "outputs": [
    {
     "name": "stdout",
     "output_type": "stream",
     "text": [
      "Выполнен расчет фич для: АссортНоменклПоБизнесРегионуНеделя\n",
      "Выполнен расчет фич для: АссортНоменклПоБизнесРегионуМесяц\n",
      "Выполнен расчет фич для: АссортНоменклПоБизнесРегионуКвартал\n",
      "Выполнен расчет фич для: АссортНоменклПоБизнесРегионуГод\n",
      "Выполнен расчет фич для: АссортНоменклПоБизнесРегионуВсего\n",
      "Выполнен расчет фич для: УникЗаказБизнесРегионНеделя\n",
      "Выполнен расчет фич для: УникЗаказБизнесРегионМесяц\n",
      "Выполнен расчет фич для: УникЗаказБизнесРегионКвартал\n",
      "Выполнен расчет фич для: УникЗаказБизнесРегионГод\n",
      "Выполнен расчет фич для: УникЗаказБизнесРегионВсего\n",
      "Выполнен расчет фич для: УникРеализБизнесРегионНеделя\n",
      "Выполнен расчет фич для: УникРеализБизнесРегионМесяц\n",
      "Выполнен расчет фич для: УникРеализБизнесРегионКвартал\n",
      "Выполнен расчет фич для: УникРеализБизнесРегионГод\n",
      "Выполнен расчет фич для: УникРеализБизнесРегионВсего\n",
      "Выполнен расчет фич для: Кол_воПартнеровВРегионеНеделя\n",
      "Выполнен расчет фич для: Кол_воПартнеровВРегионеМесяц\n",
      "Выполнен расчет фич для: Кол_воПартнеровВРегионеКвартал\n",
      "Выполнен расчет фич для: Кол_воПартнеровВРегионеГод\n",
      "Выполнен расчет фич для: Кол_воПартнеровВРегионеВсего\n",
      "Выполнен расчет фич для: Кол_воОснМенеджВБизнесРегионНеделя\n",
      "Выполнен расчет фич для: Кол_воОснМенеджВБизнесРегионМесяц\n",
      "Выполнен расчет фич для: Кол_воОснМенеджВБизнесРегионКвартал\n",
      "Выполнен расчет фич для: Кол_воОснМенеджВБизнесРегионГод\n",
      "Выполнен расчет фич для: Кол_воОснМенеджВБизнесРегионВсего\n",
      "Выполнен расчет фич для: СуммаЗаказовБизнесРегионНеделя\n",
      "Выполнен расчет фич для: СуммаЗаказовБизнесРегионМесяц\n",
      "Выполнен расчет фич для: СуммаЗаказовБизнесРегионКвартал\n",
      "Выполнен расчет фич для: СуммаЗаказовБизнесРегионГод\n",
      "Выполнен расчет фич для: СуммаЗаказовБизнесРегионВсего\n",
      "Выполнен расчет фич для: СуммаРеализацийБизнесРегионНеделя\n",
      "Выполнен расчет фич для: СуммаРеализацийБизнесРегионМесяц\n",
      "Выполнен расчет фич для: СуммаРеализацийБизнесРегионКвартал\n",
      "Выполнен расчет фич для: СуммаРеализацийБизнесРегионГод\n",
      "Выполнен расчет фич для: СуммаРеализацийБизнесРегионВсего\n",
      "Выполнен расчет фич для: ЗвонковБизнесРегионНеделя\n",
      "Выполнен расчет фич для: ЗвонковБизнесРегионМесяц\n",
      "Выполнен расчет фич для: ЗвонковБизнесРегионКвартал\n",
      "Выполнен расчет фич для: ЗвонковБизнесРегионГод\n",
      "Выполнен расчет фич для: ЗвонковБизнесРегионВсего\n",
      "Выполнен расчет фич для: ЭлПочтыБизнесРегионНеделя\n",
      "Выполнен расчет фич для: ЭлПочтыБизнесРегионМесяц\n",
      "Выполнен расчет фич для: ЭлПочтыБизнесРегионКвартал\n",
      "Выполнен расчет фич для: ЭлПочтыБизнесРегионГод\n",
      "Выполнен расчет фич для: ЭлПочтыБизнесРегионВсего\n"
     ]
    }
   ],
   "source": [
    "# Ассортимент Номенклатуры по БизнесРегиону\n",
    "makePriznak(timeFile, \"week\", \"BiznesRegion\", 'NomenklaturaKodRealAndZakaz', \"nunique\", 'АссортНоменклПоБизнесРегионуНеделя')\n",
    "makePriznak(timeFile, \"months\", \"BiznesRegion\", 'NomenklaturaKodRealAndZakaz', \"nunique\", 'АссортНоменклПоБизнесРегионуМесяц')\n",
    "makePriznak(timeFile, \"quarted\", \"BiznesRegion\", 'NomenklaturaKodRealAndZakaz', \"nunique\", 'АссортНоменклПоБизнесРегионуКвартал')\n",
    "makePriznak(timeFile, \"year\", \"BiznesRegion\", 'NomenklaturaKodRealAndZakaz', \"nunique\", 'АссортНоменклПоБизнесРегионуГод')\n",
    "makePriznak(timeFile, \"all\", \"BiznesRegion\", 'NomenklaturaKodRealAndZakaz', \"nunique\", 'АссортНоменклПоБизнесРегионуВсего')\n",
    "\n",
    "# Количество Заказов по БизнесРегиону\n",
    "makePriznak(timeFile, \"week\", \"BiznesRegion\", 'LinkOrder', \"nunique\", 'УникЗаказБизнесРегионНеделя')\n",
    "makePriznak(timeFile, \"months\", \"BiznesRegion\", 'LinkOrder', \"nunique\", 'УникЗаказБизнесРегионМесяц')\n",
    "makePriznak(timeFile, \"quarted\", \"BiznesRegion\", 'LinkOrder', \"nunique\", 'УникЗаказБизнесРегионКвартал')\n",
    "makePriznak(timeFile, \"year\", \"BiznesRegion\", 'LinkOrder', \"nunique\", 'УникЗаказБизнесРегионГод')\n",
    "makePriznak(timeFile, \"all\", \"BiznesRegion\", 'LinkOrder', \"nunique\", 'УникЗаказБизнесРегионВсего')\n",
    "\n",
    "# Количество Реализций по БизнесРегиону\n",
    "makePriznak(timeFile, \"week\", \"BiznesRegion\", 'RealizSsilka', \"nunique\", 'УникРеализБизнесРегионНеделя')\n",
    "makePriznak(timeFile, \"months\", \"BiznesRegion\", 'RealizSsilka', \"nunique\", 'УникРеализБизнесРегионМесяц')\n",
    "makePriznak(timeFile, \"quarted\", \"BiznesRegion\", 'RealizSsilka', \"nunique\", 'УникРеализБизнесРегионКвартал')\n",
    "makePriznak(timeFile, \"year\", \"BiznesRegion\", 'RealizSsilka', \"nunique\", 'УникРеализБизнесРегионГод')\n",
    "makePriznak(timeFile, \"all\", \"BiznesRegion\", 'RealizSsilka', \"nunique\", 'УникРеализБизнесРегионВсего')\n",
    "\n",
    "# Количество Партнеров в БизнесРегиону\n",
    "makePriznak(timeFile, \"week\", \"BiznesRegion\", 'PartnerKod', \"nunique\", 'Кол_воПартнеровВРегионеНеделя')\n",
    "makePriznak(timeFile, \"months\", \"BiznesRegion\", 'PartnerKod', \"nunique\", 'Кол_воПартнеровВРегионеМесяц')\n",
    "makePriznak(timeFile, \"quarted\", \"BiznesRegion\", 'PartnerKod', \"nunique\", 'Кол_воПартнеровВРегионеКвартал')\n",
    "makePriznak(timeFile, \"year\", \"BiznesRegion\", 'PartnerKod', \"nunique\", 'Кол_воПартнеровВРегионеГод')\n",
    "makePriznak(timeFile, \"all\", \"BiznesRegion\", 'PartnerKod', \"nunique\", 'Кол_воПартнеровВРегионеВсего')\n",
    "\n",
    "# Количество сотрудников (менеджеров) работающих с БизнесРегионом\n",
    "makePriznak(timeFile, \"week\", \"BiznesRegion\", 'OsnovnoyManager', \"nunique\", 'Кол_воОснМенеджВБизнесРегионНеделя')\n",
    "makePriznak(timeFile, \"months\", \"BiznesRegion\", 'OsnovnoyManager', \"nunique\", 'Кол_воОснМенеджВБизнесРегионМесяц')\n",
    "makePriznak(timeFile, \"quarted\", \"BiznesRegion\", 'OsnovnoyManager', \"nunique\", 'Кол_воОснМенеджВБизнесРегионКвартал')\n",
    "makePriznak(timeFile, \"year\", \"BiznesRegion\", 'OsnovnoyManager', \"nunique\", 'Кол_воОснМенеджВБизнесРегионГод')\n",
    "makePriznak(timeFile, \"all\", \"BiznesRegion\", 'OsnovnoyManager', \"nunique\", 'Кол_воОснМенеджВБизнесРегионВсего')\n",
    "\n",
    "# Сумма Заказа по Бизнес Региону\n",
    "makePriznak(timeFile, \"week\", \"BiznesRegion\", 'SummaZakaza', \"sum\", 'СуммаЗаказовБизнесРегионНеделя')\n",
    "makePriznak(timeFile, \"months\", \"BiznesRegion\", 'SummaZakaza', \"sum\", 'СуммаЗаказовБизнесРегионМесяц')\n",
    "makePriznak(timeFile, \"quarted\", \"BiznesRegion\", 'SummaZakaza', \"sum\", 'СуммаЗаказовБизнесРегионКвартал')\n",
    "makePriznak(timeFile, \"year\", \"BiznesRegion\", 'SummaZakaza', \"sum\", 'СуммаЗаказовБизнесРегионГод')\n",
    "makePriznak(timeFile, \"all\", \"BiznesRegion\", 'SummaZakaza', \"sum\", 'СуммаЗаказовБизнесРегионВсего')\n",
    "\n",
    "# Сумма Реализаций по Бизнес Региону\n",
    "makePriznak(timeFile, \"week\", \"BiznesRegion\", 'SummaRealiz', \"sum\", 'СуммаРеализацийБизнесРегионНеделя')\n",
    "makePriznak(timeFile, \"months\", \"BiznesRegion\", 'SummaRealiz', \"sum\", 'СуммаРеализацийБизнесРегионМесяц')\n",
    "makePriznak(timeFile, \"quarted\", \"BiznesRegion\", 'SummaRealiz', \"sum\", 'СуммаРеализацийБизнесРегионКвартал')\n",
    "makePriznak(timeFile, \"year\", \"BiznesRegion\", 'SummaRealiz', \"sum\", 'СуммаРеализацийБизнесРегионГод')\n",
    "makePriznak(timeFile, \"all\", \"BiznesRegion\", 'SummaRealiz', \"sum\", 'СуммаРеализацийБизнесРегионВсего')\n",
    "\n",
    "# Звонков по Бизне региону\n",
    "makePriznak(timeFile, \"week\", \"BiznesRegion\", 'cals', \"sum\", 'ЗвонковБизнесРегионНеделя')\n",
    "makePriznak(timeFile, \"months\", \"BiznesRegion\", 'cals', \"sum\", 'ЗвонковБизнесРегионМесяц')\n",
    "makePriznak(timeFile, \"quarted\", \"BiznesRegion\", 'cals', \"sum\", 'ЗвонковБизнесРегионКвартал')\n",
    "makePriznak(timeFile, \"year\", \"BiznesRegion\", 'cals', \"sum\", 'ЗвонковБизнесРегионГод')\n",
    "makePriznak(timeFile, \"all\", \"BiznesRegion\", 'cals', \"sum\", 'ЗвонковБизнесРегионВсего')\n",
    "\n",
    "# email по Бизне региону\n",
    "makePriznak(timeFile, \"week\", \"BiznesRegion\", 'emails', \"sum\", 'ЭлПочтыБизнесРегионНеделя')\n",
    "makePriznak(timeFile, \"months\", \"BiznesRegion\", 'emails', \"sum\", 'ЭлПочтыБизнесРегионМесяц')\n",
    "makePriznak(timeFile, \"quarted\", \"BiznesRegion\", 'emails', \"sum\", 'ЭлПочтыБизнесРегионКвартал')\n",
    "makePriznak(timeFile, \"year\", \"BiznesRegion\", 'emails', \"sum\", 'ЭлПочтыБизнесРегионГод')\n",
    "makePriznak(timeFile, \"all\", \"BiznesRegion\", 'emails', \"sum\", 'ЭлПочтыБизнесРегионВсего')"
   ]
  },
  {
   "cell_type": "markdown",
   "metadata": {
    "deletable": false,
    "editable": false
   },
   "source": [
    "## Основной Менеджер - как основной признак"
   ]
  },
  {
   "cell_type": "code",
   "execution_count": 12,
   "metadata": {
    "ExecuteTime": {
     "end_time": "2022-05-24T18:30:17.917256Z",
     "start_time": "2022-05-24T18:28:47.709379Z"
    },
    "deletable": false,
    "editable": false
   },
   "outputs": [
    {
     "name": "stdout",
     "output_type": "stream",
     "text": [
      "Выполнен расчет фич для: УникНоменкМенеджНеделя\n",
      "Выполнен расчет фич для: УникНоменкМенеджМесяц\n",
      "Выполнен расчет фич для: УникНоменкМенеджКвартал\n",
      "Выполнен расчет фич для: УникНоменкМенеджГод\n",
      "Выполнен расчет фич для: УникНоменкМенеджВсего\n",
      "Выполнен расчет фич для: УникВидНоменкМенеджерНеделя\n",
      "Выполнен расчет фич для: УникВидНоменкМенеджерМесяц\n",
      "Выполнен расчет фич для: УникВидНоменкМенеджерКвартал\n",
      "Выполнен расчет фич для: УникВидНоменкМенеджерГод\n",
      "Выполнен расчет фич для: УникВидНоменкМенеджерВсе\n",
      "Выполнен расчет фич для: Кол_воПартнеровУМенеджераНеделя\n",
      "Выполнен расчет фич для: Кол_воПартнеровУМенеджераМесяц\n",
      "Выполнен расчет фич для: Кол_воПартнеровУМенеджераКвартал\n",
      "Выполнен расчет фич для: Кол_воПартнеровУМенеджераГод\n",
      "Выполнен расчет фич для: Кол_воПартнеровУМенеджераВсего\n",
      "Выполнен расчет фич для: МенеджерКол_воРегионовПоставкиНеделя\n",
      "Выполнен расчет фич для: МенеджерКол_воРегионовПоставкиМесяц\n",
      "Выполнен расчет фич для: МенеджерКол_воРегионовПоставкиКвартал\n",
      "Выполнен расчет фич для: МенеджерКол_воРегионовПоставкиГод\n",
      "Выполнен расчет фич для: МенеджерКол_воРегионовПоставкиВсе\n",
      "Выполнен расчет фич для: Кол_воЗаказовВНеделюУМенеджера\n",
      "Выполнен расчет фич для: Кол_воЗаказовВМесяцУМенеджера\n",
      "Выполнен расчет фич для: Кол_воЗаказовВКварталУМенеджера\n",
      "Выполнен расчет фич для: Кол_воЗаказовВГодУМенеджера\n",
      "Выполнен расчет фич для: Кол_воЗаказовВсегоУМенеджера\n",
      "Выполнен расчет фич для: Кол_воРеализацВНеделюУМенеджера\n",
      "Выполнен расчет фич для: Кол_воРеализацВМесяцУМенеджера\n",
      "Выполнен расчет фич для: Кол_воРеализацВКварталУМенеджера\n",
      "Выполнен расчет фич для: Кол_воРеализацВГодУМенеджера\n",
      "Выполнен расчет фич для: Кол_воРеализацВсегоУМенеджера\n"
     ]
    }
   ],
   "source": [
    "# Количество уникальной номенклатуры по Менеджеру\n",
    "makePriznak(timeFile, \"week\", \"OsnovnoyManager\", 'NomenklaturaKodRealAndZakaz', \"nunique\", 'УникНоменкМенеджНеделя')\n",
    "makePriznak(timeFile, \"months\", \"OsnovnoyManager\", 'NomenklaturaKodRealAndZakaz', \"nunique\", 'УникНоменкМенеджМесяц')\n",
    "makePriznak(timeFile, \"quarted\", \"OsnovnoyManager\", 'NomenklaturaKodRealAndZakaz', \"nunique\", 'УникНоменкМенеджКвартал')\n",
    "makePriznak(timeFile, \"year\", \"OsnovnoyManager\", 'NomenklaturaKodRealAndZakaz', \"nunique\", 'УникНоменкМенеджГод')\n",
    "makePriznak(timeFile, \"all\", \"OsnovnoyManager\", 'NomenklaturaKodRealAndZakaz', \"nunique\", 'УникНоменкМенеджВсего')\n",
    "\n",
    "# Количество вида номенклатуры Партнеров по Менеджеру\n",
    "makePriznak(timeFile, \"week\", \"OsnovnoyManager\", 'VidNomenklatury', \"nunique\", 'УникВидНоменкМенеджерНеделя')\n",
    "makePriznak(timeFile, \"months\", \"OsnovnoyManager\", 'VidNomenklatury', \"nunique\", 'УникВидНоменкМенеджерМесяц')\n",
    "makePriznak(timeFile, \"quarted\", \"OsnovnoyManager\", 'VidNomenklatury', \"nunique\", 'УникВидНоменкМенеджерКвартал')\n",
    "makePriznak(timeFile, \"year\", \"OsnovnoyManager\", 'VidNomenklatury', \"nunique\", 'УникВидНоменкМенеджерГод')\n",
    "makePriznak(timeFile, \"all\", \"OsnovnoyManager\", 'VidNomenklatury', \"nunique\", 'УникВидНоменкМенеджерВсе')\n",
    "\n",
    "\n",
    "# Количество уникальных Партнеров по Менеджеру\n",
    "makePriznak(timeFile, \"week\", \"OsnovnoyManager\", 'PartnerKod', \"nunique\", 'Кол_воПартнеровУМенеджераНеделя')\n",
    "makePriznak(timeFile, \"months\", \"OsnovnoyManager\", 'PartnerKod', \"nunique\", 'Кол_воПартнеровУМенеджераМесяц')\n",
    "makePriznak(timeFile, \"quarted\", \"OsnovnoyManager\", 'PartnerKod', \"nunique\", 'Кол_воПартнеровУМенеджераКвартал')\n",
    "makePriznak(timeFile, \"year\", \"OsnovnoyManager\", 'PartnerKod', \"nunique\", 'Кол_воПартнеровУМенеджераГод')\n",
    "makePriznak(timeFile, \"all\", \"OsnovnoyManager\", 'PartnerKod', \"nunique\", 'Кол_воПартнеровУМенеджераВсего')\n",
    "\n",
    "# География поставок Менеджера\n",
    "makePriznak(timeFile, \"week\", \"OsnovnoyManager\", 'BiznesRegion', \"nunique\", 'МенеджерКол_воРегионовПоставкиНеделя')\n",
    "makePriznak(timeFile, \"months\", \"OsnovnoyManager\", 'BiznesRegion', \"nunique\", 'МенеджерКол_воРегионовПоставкиМесяц')\n",
    "makePriznak(timeFile, \"quarted\", \"OsnovnoyManager\", 'BiznesRegion', \"nunique\", 'МенеджерКол_воРегионовПоставкиКвартал')\n",
    "makePriznak(timeFile, \"year\", \"OsnovnoyManager\", 'BiznesRegion', \"nunique\", 'МенеджерКол_воРегионовПоставкиГод')\n",
    "makePriznak(timeFile, \"all\", \"OsnovnoyManager\", 'BiznesRegion', \"nunique\", 'МенеджерКол_воРегионовПоставкиВсе')\n",
    "\n",
    "# Количество Заказов в заданный период по Менеджеру (загрузка менеджера)\n",
    "makePriznak(timeFile, \"week\", \"OsnovnoyManager\", 'LinkOrder', \"nunique\", 'Кол_воЗаказовВНеделюУМенеджера')\n",
    "makePriznak(timeFile, \"months\", \"OsnovnoyManager\", 'LinkOrder', \"nunique\", 'Кол_воЗаказовВМесяцУМенеджера')\n",
    "makePriznak(timeFile, \"quarted\", \"OsnovnoyManager\", 'LinkOrder', \"nunique\", 'Кол_воЗаказовВКварталУМенеджера')\n",
    "makePriznak(timeFile, \"year\", \"OsnovnoyManager\", 'LinkOrder', \"nunique\", 'Кол_воЗаказовВГодУМенеджера')\n",
    "makePriznak(timeFile, \"all\", \"OsnovnoyManager\", 'LinkOrder', \"nunique\", 'Кол_воЗаказовВсегоУМенеджера')\n",
    "\n",
    "# Количество Реализаций в заданный период по Менеджеру (загрузка менеджера)\n",
    "makePriznak(timeFile, \"week\", \"OsnovnoyManager\", 'RealizSsilka', \"nunique\", 'Кол_воРеализацВНеделюУМенеджера')\n",
    "makePriznak(timeFile, \"months\", \"OsnovnoyManager\", 'RealizSsilka', \"nunique\", 'Кол_воРеализацВМесяцУМенеджера')\n",
    "makePriznak(timeFile, \"quarted\", \"OsnovnoyManager\", 'RealizSsilka', \"nunique\", 'Кол_воРеализацВКварталУМенеджера')\n",
    "makePriznak(timeFile, \"year\", \"OsnovnoyManager\", 'RealizSsilka', \"nunique\", 'Кол_воРеализацВГодУМенеджера')\n",
    "makePriznak(timeFile, \"all\", \"OsnovnoyManager\", 'RealizSsilka', \"nunique\", 'Кол_воРеализацВсегоУМенеджера')"
   ]
  },
  {
   "cell_type": "markdown",
   "metadata": {},
   "source": [
    "## Вид Номенклатуры - как основной признак"
   ]
  },
  {
   "cell_type": "code",
   "execution_count": 13,
   "metadata": {
    "ExecuteTime": {
     "end_time": "2022-05-24T18:33:00.539844Z",
     "start_time": "2022-05-24T18:30:17.918345Z"
    },
    "deletable": false,
    "editable": false
   },
   "outputs": [
    {
     "name": "stdout",
     "output_type": "stream",
     "text": [
      "Выполнен расчет фич для: ОхватРегионовВидНоменклНеделя\n",
      "Выполнен расчет фич для: ОхватРегионовВидНоменклМесяц\n",
      "Выполнен расчет фич для: ОхватРегионовВидНоменклКвартал\n",
      "Выполнен расчет фич для: ОхватРегионовВидНоменклГод\n",
      "Выполнен расчет фич для: ОхватРегионовВидНоменклВсего\n",
      "Выполнен расчет фич для: Кол_воЗаказовДляВидНоменклНеделя\n",
      "Выполнен расчет фич для: Кол_воЗаказовДляВидНоменклМесяц\n",
      "Выполнен расчет фич для: Кол_воЗаказовДляВидНоменклКвартал\n",
      "Выполнен расчет фич для: Кол_воЗаказовДляВидНоменклГод\n",
      "Выполнен расчет фич для: Кол_воЗаказовДляВидНоменклВсего\n",
      "Выполнен расчет фич для: Кол_воРеализДляВидНоменклНеделя\n",
      "Выполнен расчет фич для: Кол_воРеализДляВидНоменклМесяц\n",
      "Выполнен расчет фич для: Кол_воРеализДляВидНоменклКвартал\n",
      "Выполнен расчет фич для: Кол_воРеализДляВидНоменклГод\n",
      "Выполнен расчет фич для: Кол_воРеализДляВидНоменклВсего\n"
     ]
    }
   ],
   "source": [
    "# Количество Регионов с поставляемой Номенклатурой\n",
    "makePriznak(timeFile, \"week\", \"VidNomenklatury\", 'BiznesRegion', \"nunique\", 'ОхватРегионовВидНоменклНеделя')\n",
    "makePriznak(timeFile, \"months\", \"VidNomenklatury\", 'BiznesRegion', \"nunique\", 'ОхватРегионовВидНоменклМесяц')\n",
    "makePriznak(timeFile, \"quarted\", \"VidNomenklatury\", 'BiznesRegion', \"nunique\", 'ОхватРегионовВидНоменклКвартал')\n",
    "makePriznak(timeFile, \"year\", \"VidNomenklatury\", 'BiznesRegion', \"nunique\", 'ОхватРегионовВидНоменклГод')\n",
    "makePriznak(timeFile, \"all\", \"VidNomenklatury\", 'BiznesRegion', \"nunique\", 'ОхватРегионовВидНоменклВсего')\n",
    "\n",
    "# Количество запросов на Номенклатуру (популярность Номенклатуры)\n",
    "makePriznak(timeFile, \"week\", \"VidNomenklatury\", 'LinkOrder', \"nunique\", 'Кол_воЗаказовДляВидНоменклНеделя')\n",
    "makePriznak(timeFile, \"months\", \"VidNomenklatury\", 'LinkOrder', \"nunique\", 'Кол_воЗаказовДляВидНоменклМесяц')\n",
    "makePriznak(timeFile, \"quarted\", \"VidNomenklatury\", 'LinkOrder', \"nunique\", 'Кол_воЗаказовДляВидНоменклКвартал')\n",
    "makePriznak(timeFile, \"year\", \"VidNomenklatury\", 'LinkOrder', \"nunique\", 'Кол_воЗаказовДляВидНоменклГод')\n",
    "makePriznak(timeFile, \"all\", \"VidNomenklatury\", 'LinkOrder', \"nunique\", 'Кол_воЗаказовДляВидНоменклВсего')\n",
    "\n",
    "# Количество продаж на Номенклатуру (популярность Номенлатуры)\n",
    "makePriznak(timeFile, \"week\", \"VidNomenklatury\", 'RealizSsilka', \"nunique\", 'Кол_воРеализДляВидНоменклНеделя')\n",
    "makePriznak(timeFile, \"months\", \"VidNomenklatury\", 'RealizSsilka', \"nunique\", 'Кол_воРеализДляВидНоменклМесяц')\n",
    "makePriznak(timeFile, \"quarted\", \"VidNomenklatury\", 'RealizSsilka', \"nunique\", 'Кол_воРеализДляВидНоменклКвартал')\n",
    "makePriznak(timeFile, \"year\", \"VidNomenklatury\", 'RealizSsilka', \"nunique\", 'Кол_воРеализДляВидНоменклГод')\n",
    "makePriznak(timeFile, \"all\", \"VidNomenklatury\", 'RealizSsilka', \"nunique\", 'Кол_воРеализДляВидНоменклВсего')"
   ]
  },
  {
   "cell_type": "markdown",
   "metadata": {
    "deletable": false,
    "editable": false
   },
   "source": [
    "## Номенклатура - как основной признак"
   ]
  },
  {
   "cell_type": "code",
   "execution_count": 14,
   "metadata": {
    "ExecuteTime": {
     "end_time": "2022-05-24T19:06:53.489428Z",
     "start_time": "2022-05-24T18:33:00.540587Z"
    },
    "deletable": false,
    "editable": false
   },
   "outputs": [
    {
     "name": "stdout",
     "output_type": "stream",
     "text": [
      "Выполнен расчет фич для: ОхватРегионовНоменклатуройНеделя\n",
      "Выполнен расчет фич для: ОхватРегионовНоменклатуройМесяц\n",
      "Выполнен расчет фич для: ОхватРегионовНоменклатуройКвартал\n",
      "Выполнен расчет фич для: ОхватРегионовНоменклатуройГод\n",
      "Выполнен расчет фич для: ОхватРегионовНоменклатуройВсего\n",
      "Выполнен расчет фич для: Кол_воЗаказовДляНоменклНеделя\n",
      "Выполнен расчет фич для: Кол_воЗаказовДляНоменклМесяц\n",
      "Выполнен расчет фич для: Кол_воЗаказовДляНоменклКвартал\n",
      "Выполнен расчет фич для: Кол_воЗаказовДляНоменклГод\n",
      "Выполнен расчет фич для: Кол_воЗаказовДляНоменклВсего\n",
      "Выполнен расчет фич для: Кол_воРеализДляНоменклНеделя\n",
      "Выполнен расчет фич для: Кол_воРеализДляНоменклМесяц\n",
      "Выполнен расчет фич для: Кол_воРеализДляНоменклКвартал\n",
      "Выполнен расчет фич для: Кол_воРеализДляНоменклГод\n",
      "Выполнен расчет фич для: Кол_воРеализДляНоменклВсего\n"
     ]
    }
   ],
   "source": [
    "# Количество Регионов с поставляемой Номенклатурой\n",
    "makePriznak(timeFile, \"week\", \"NomenklaturaKodRealAndZakaz\", 'BiznesRegion', \"nunique\", 'ОхватРегионовНоменклатуройНеделя')\n",
    "makePriznak(timeFile, \"months\", \"NomenklaturaKodRealAndZakaz\", 'BiznesRegion', \"nunique\", 'ОхватРегионовНоменклатуройМесяц')\n",
    "makePriznak(timeFile, \"quarted\", \"NomenklaturaKodRealAndZakaz\", 'BiznesRegion', \"nunique\", 'ОхватРегионовНоменклатуройКвартал')\n",
    "makePriznak(timeFile, \"year\", \"NomenklaturaKodRealAndZakaz\", 'BiznesRegion', \"nunique\", 'ОхватРегионовНоменклатуройГод')\n",
    "makePriznak(timeFile, \"all\", \"NomenklaturaKodRealAndZakaz\", 'BiznesRegion', \"nunique\", 'ОхватРегионовНоменклатуройВсего')\n",
    "\n",
    "# Количество запросов на Номенклатуру (популярность Номенклатуры)\n",
    "makePriznak(timeFile, \"week\", \"NomenklaturaKodRealAndZakaz\", 'LinkOrder', \"nunique\", 'Кол_воЗаказовДляНоменклНеделя')\n",
    "makePriznak(timeFile, \"months\", \"NomenklaturaKodRealAndZakaz\", 'LinkOrder', \"nunique\", 'Кол_воЗаказовДляНоменклМесяц')\n",
    "makePriznak(timeFile, \"quarted\", \"NomenklaturaKodRealAndZakaz\", 'LinkOrder', \"nunique\", 'Кол_воЗаказовДляНоменклКвартал')\n",
    "makePriznak(timeFile, \"year\", \"NomenklaturaKodRealAndZakaz\", 'LinkOrder', \"nunique\", 'Кол_воЗаказовДляНоменклГод')\n",
    "makePriznak(timeFile, \"all\", \"NomenklaturaKodRealAndZakaz\", 'LinkOrder', \"nunique\", 'Кол_воЗаказовДляНоменклВсего')\n",
    "\n",
    "# Количество продаж на Номенклатуру (популярность Номенлатуры)\n",
    "makePriznak(timeFile, \"week\", \"NomenklaturaKodRealAndZakaz\", 'RealizSsilka', \"nunique\", 'Кол_воРеализДляНоменклНеделя')\n",
    "makePriznak(timeFile, \"months\", \"NomenklaturaKodRealAndZakaz\", 'RealizSsilka', \"nunique\", 'Кол_воРеализДляНоменклМесяц')\n",
    "makePriznak(timeFile, \"quarted\", \"NomenklaturaKodRealAndZakaz\", 'RealizSsilka', \"nunique\", 'Кол_воРеализДляНоменклКвартал')\n",
    "makePriznak(timeFile, \"year\", \"NomenklaturaKodRealAndZakaz\", 'RealizSsilka', \"nunique\", 'Кол_воРеализДляНоменклГод')\n",
    "makePriznak(timeFile, \"all\", \"NomenklaturaKodRealAndZakaz\", 'RealizSsilka', \"nunique\", 'Кол_воРеализДляНоменклВсего')"
   ]
  },
  {
   "cell_type": "markdown",
   "metadata": {
    "deletable": false,
    "editable": false
   },
   "source": [
    "## КредитИлиПредоплата - как основной признак"
   ]
  },
  {
   "cell_type": "code",
   "execution_count": 15,
   "metadata": {
    "ExecuteTime": {
     "end_time": "2022-05-24T19:07:31.223883Z",
     "start_time": "2022-05-24T19:06:53.489428Z"
    },
    "deletable": false,
    "editable": false
   },
   "outputs": [
    {
     "name": "stdout",
     "output_type": "stream",
     "text": [
      "Выполнен расчет фич для: Кол_воЗаказВидОплатыНеделя\n",
      "Выполнен расчет фич для: Кол_воЗаказВидОплатыМесяц\n",
      "Выполнен расчет фич для: Кол_воЗаказВидОплатыКвартал\n",
      "Выполнен расчет фич для: Кол_воЗаказВидОплатыГод\n",
      "Выполнен расчет фич для: Кол_воЗаказВидОплатыВсего\n",
      "Выполнен расчет фич для: Кол_воРеализВидОплатыНеделя\n",
      "Выполнен расчет фич для: Кол_воРеализВидОплатыМесяц\n",
      "Выполнен расчет фич для: Кол_воРеализВидОплатыКвартал\n",
      "Выполнен расчет фич для: Кол_воРеализВидОплатыГод\n",
      "Выполнен расчет фич для: Кол_воРеализВидОплатыВсего\n",
      "Выполнен расчет фич для: ВидовНоменклатВидОплатыНеделя\n",
      "Выполнен расчет фич для: ВидовНоменклатВидОплатыМесяц\n",
      "Выполнен расчет фич для: ВидовНоменклатВидОплатыКвартал\n",
      "Выполнен расчет фич для: ВидовНоменклатВидОплатыГод\n",
      "Выполнен расчет фич для: ВидовНоменклатВидОплатыВсего\n",
      "Выполнен расчет фич для: НоменклатВидОплатыНеделя\n",
      "Выполнен расчет фич для: НоменклатВидОплатыМесяц\n",
      "Выполнен расчет фич для: НоменклатВидОплатыКвартал\n",
      "Выполнен расчет фич для: НоменклатВидОплатыГод\n",
      "Выполнен расчет фич для: НоменклатВидОплатыВсего\n",
      "Выполнен расчет фич для: БизнесРегионВидОплатыНеделя\n",
      "Выполнен расчет фич для: БизнесРегионВидОплатыМесяц\n",
      "Выполнен расчет фич для: БизнесРегионВидОплатыКвартал\n",
      "Выполнен расчет фич для: БизнесРегионВидОплатыГод\n",
      "Выполнен расчет фич для: БизнесРегионВидОплатыВсего\n"
     ]
    }
   ],
   "source": [
    "# Количество Заказов по виду оплаты\n",
    "makePriznak(timeFile, \"week\", \"KreditIliPredoplata\", 'LinkOrder', \"nunique\", 'Кол_воЗаказВидОплатыНеделя')\n",
    "makePriznak(timeFile, \"months\", \"KreditIliPredoplata\", 'LinkOrder', \"nunique\", 'Кол_воЗаказВидОплатыМесяц')\n",
    "makePriznak(timeFile, \"quarted\", \"KreditIliPredoplata\", 'LinkOrder', \"nunique\", 'Кол_воЗаказВидОплатыКвартал')\n",
    "makePriznak(timeFile, \"year\", \"KreditIliPredoplata\", 'LinkOrder', \"nunique\", 'Кол_воЗаказВидОплатыГод')\n",
    "makePriznak(timeFile, \"all\", \"KreditIliPredoplata\", 'LinkOrder', \"nunique\", 'Кол_воЗаказВидОплатыВсего')\n",
    "                      \n",
    "# Количество Реализ по виду оплаты\n",
    "makePriznak(timeFile, \"week\", \"KreditIliPredoplata\", 'RealizSsilka', \"nunique\", 'Кол_воРеализВидОплатыНеделя')\n",
    "makePriznak(timeFile, \"months\", \"KreditIliPredoplata\", 'RealizSsilka', \"nunique\", 'Кол_воРеализВидОплатыМесяц')\n",
    "makePriznak(timeFile, \"quarted\", \"KreditIliPredoplata\", 'RealizSsilka', \"nunique\", 'Кол_воРеализВидОплатыКвартал')\n",
    "makePriznak(timeFile, \"year\", \"KreditIliPredoplata\", 'RealizSsilka', \"nunique\", 'Кол_воРеализВидОплатыГод')\n",
    "makePriznak(timeFile, \"all\", \"KreditIliPredoplata\", 'RealizSsilka', \"nunique\", 'Кол_воРеализВидОплатыВсего')\n",
    "\n",
    "# Количество ВидовНоменлатуры по виду оплаты\n",
    "makePriznak(timeFile, \"week\", \"KreditIliPredoplata\", 'VidNomenklatury', \"nunique\", 'ВидовНоменклатВидОплатыНеделя')\n",
    "makePriznak(timeFile, \"months\", \"KreditIliPredoplata\", 'VidNomenklatury', \"nunique\", 'ВидовНоменклатВидОплатыМесяц')\n",
    "makePriznak(timeFile, \"quarted\", \"KreditIliPredoplata\", 'VidNomenklatury', \"nunique\", 'ВидовНоменклатВидОплатыКвартал')\n",
    "makePriznak(timeFile, \"year\", \"KreditIliPredoplata\", 'VidNomenklatury', \"nunique\", 'ВидовНоменклатВидОплатыГод')\n",
    "makePriznak(timeFile, \"all\", \"KreditIliPredoplata\", 'VidNomenklatury', \"nunique\", 'ВидовНоменклатВидОплатыВсего')\n",
    "\n",
    "# Количество Номенлатуры по виду оплаты\n",
    "makePriznak(timeFile, \"week\", \"KreditIliPredoplata\", 'NomenklaturaKodRealAndZakaz', \"nunique\", 'НоменклатВидОплатыНеделя')\n",
    "makePriznak(timeFile, \"months\", \"KreditIliPredoplata\", 'NomenklaturaKodRealAndZakaz', \"nunique\", 'НоменклатВидОплатыМесяц')\n",
    "makePriznak(timeFile, \"quarted\", \"KreditIliPredoplata\", 'NomenklaturaKodRealAndZakaz', \"nunique\", 'НоменклатВидОплатыКвартал')\n",
    "makePriznak(timeFile, \"year\", \"KreditIliPredoplata\", 'NomenklaturaKodRealAndZakaz', \"nunique\", 'НоменклатВидОплатыГод')\n",
    "makePriznak(timeFile, \"all\", \"KreditIliPredoplata\", 'NomenklaturaKodRealAndZakaz', \"nunique\", 'НоменклатВидОплатыВсего')\n",
    "\n",
    "# Количество БизнесРегионов по виду оплаты\n",
    "makePriznak(timeFile, \"week\", \"KreditIliPredoplata\", 'BiznesRegion', \"nunique\", 'БизнесРегионВидОплатыНеделя')\n",
    "makePriznak(timeFile, \"months\", \"KreditIliPredoplata\", 'BiznesRegion', \"nunique\", 'БизнесРегионВидОплатыМесяц')\n",
    "makePriznak(timeFile, \"quarted\", \"KreditIliPredoplata\", 'BiznesRegion', \"nunique\", 'БизнесРегионВидОплатыКвартал')\n",
    "makePriznak(timeFile, \"year\", \"KreditIliPredoplata\", 'BiznesRegion', \"nunique\", 'БизнесРегионВидОплатыГод')\n",
    "makePriznak(timeFile, \"all\", \"KreditIliPredoplata\", 'BiznesRegion', \"nunique\", 'БизнесРегионВидОплатыВсего')"
   ]
  },
  {
   "cell_type": "markdown",
   "metadata": {},
   "source": [
    "# Сохраним Файл с фичами"
   ]
  },
  {
   "cell_type": "code",
   "execution_count": 16,
   "metadata": {
    "ExecuteTime": {
     "end_time": "2022-05-24T19:12:36.001729Z",
     "start_time": "2022-05-24T19:07:31.224697Z"
    },
    "deletable": false,
    "editable": false
   },
   "outputs": [],
   "source": [
    "with pandas.ExcelWriter(f'Продажи с фичами {datetime.today().strftime(\"%Y-%m-%d\")}.xlsx') as writer:\n",
    "    timeFile.reset_index(drop=True).to_excel(writer, sheet_name='Данные для анализа')"
   ]
  },
  {
   "cell_type": "code",
   "execution_count": 17,
   "metadata": {
    "ExecuteTime": {
     "end_time": "2022-05-24T19:12:36.017629Z",
     "start_time": "2022-05-24T19:12:36.002746Z"
    },
    "deletable": false,
    "editable": false
   },
   "outputs": [
    {
     "name": "stdout",
     "output_type": "stream",
     "text": [
      "<class 'pandas.core.frame.DataFrame'>\n",
      "Int64Index: 146016 entries, 0 to 146015\n",
      "Columns: 214 entries, AktVipRabot to БизнесРегионВидОплатыВсего\n",
      "dtypes: datetime64[ns](5), float64(11), int64(5), object(193)\n",
      "memory usage: 243.5+ MB\n"
     ]
    }
   ],
   "source": [
    "timeFile.info()"
   ]
  }
 ],
 "metadata": {
  "kernelspec": {
   "display_name": "Python 3 (ipykernel)",
   "language": "python",
   "name": "python3"
  },
  "language_info": {
   "codemirror_mode": {
    "name": "ipython",
    "version": 3
   },
   "file_extension": ".py",
   "mimetype": "text/x-python",
   "name": "python",
   "nbconvert_exporter": "python",
   "pygments_lexer": "ipython3",
   "version": "3.8.5"
  },
  "toc": {
   "base_numbering": 1,
   "nav_menu": {},
   "number_sections": true,
   "sideBar": true,
   "skip_h1_title": false,
   "title_cell": "Table of Contents",
   "title_sidebar": "Contents",
   "toc_cell": false,
   "toc_position": {},
   "toc_section_display": true,
   "toc_window_display": true
  },
  "varInspector": {
   "cols": {
    "lenName": 16,
    "lenType": 16,
    "lenVar": 40
   },
   "kernels_config": {
    "python": {
     "delete_cmd_postfix": "",
     "delete_cmd_prefix": "del ",
     "library": "var_list.py",
     "varRefreshCmd": "print(var_dic_list())"
    },
    "r": {
     "delete_cmd_postfix": ") ",
     "delete_cmd_prefix": "rm(",
     "library": "var_list.r",
     "varRefreshCmd": "cat(var_dic_list()) "
    }
   },
   "types_to_exclude": [
    "module",
    "function",
    "builtin_function_or_method",
    "instance",
    "_Feature"
   ],
   "window_display": false
  }
 },
 "nbformat": 4,
 "nbformat_minor": 4
}

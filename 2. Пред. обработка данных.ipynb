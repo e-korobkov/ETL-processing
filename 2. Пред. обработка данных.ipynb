{
 "cells": [
  {
   "cell_type": "code",
   "execution_count": 1,
   "metadata": {
    "ExecuteTime": {
     "end_time": "2022-05-24T03:14:59.515254Z",
     "start_time": "2022-05-24T03:14:59.314324Z"
    },
    "deletable": false,
    "editable": false
   },
   "outputs": [],
   "source": [
    "import pandas as pd\n",
    "import numpy as np\n",
    "import re\n",
    "import xlrd\n",
    "import math\n",
    "from datetime import datetime\n",
    "from datetime import timedelta\n",
    "from dateutil.relativedelta import *\n",
    "import time"
   ]
  },
  {
   "cell_type": "markdown",
   "metadata": {},
   "source": [
    "# Загрузка файла с данными"
   ]
  },
  {
   "cell_type": "code",
   "execution_count": 2,
   "metadata": {
    "ExecuteTime": {
     "end_time": "2022-05-24T03:15:55.632105Z",
     "start_time": "2022-05-24T03:14:59.515254Z"
    },
    "deletable": false,
    "editable": false
   },
   "outputs": [],
   "source": [
    "time_df = pd.read_excel(\n",
    "    \"1-Данные из 1С по всем заказам от 2020-02-27.xlsx\", index_col=0)"
   ]
  },
  {
   "cell_type": "code",
   "execution_count": 3,
   "metadata": {
    "ExecuteTime": {
     "end_time": "2022-05-24T03:15:55.664102Z",
     "start_time": "2022-05-24T03:15:55.632105Z"
    },
    "deletable": false,
    "editable": false
   },
   "outputs": [],
   "source": [
    "BaseDataFrame = time_df.copy()"
   ]
  },
  {
   "cell_type": "code",
   "execution_count": 4,
   "metadata": {
    "ExecuteTime": {
     "end_time": "2022-05-24T03:15:55.875441Z",
     "start_time": "2022-05-24T03:15:55.665106Z"
    },
    "deletable": false,
    "editable": false
   },
   "outputs": [
    {
     "name": "stdout",
     "output_type": "stream",
     "text": [
      "<class 'pandas.core.frame.DataFrame'>\n",
      "Int64Index: 148621 entries, 0 to 148620\n",
      "Data columns (total 40 columns):\n",
      " #   Column                       Non-Null Count   Dtype \n",
      "---  ------                       --------------   ----- \n",
      " 0   AktVipRabot                  148621 non-null  object\n",
      " 1   Data                         148621 non-null  object\n",
      " 2   SummaAktaVipRabot            148621 non-null  object\n",
      " 3   Quantity                     148621 non-null  object\n",
      " 4   KodStrokiAkt                 148621 non-null  object\n",
      " 5   ZakazKlienta                 148621 non-null  object\n",
      " 6   NomenklaturaKod              148621 non-null  object\n",
      " 7   Nomenklatura                 148621 non-null  object\n",
      " 8   ZakazData                    148621 non-null  object\n",
      " 9   PartnerKod                   148621 non-null  object\n",
      " 10  OsnovnoyManager              148574 non-null  object\n",
      " 11  BiznesRegion                 144337 non-null  object\n",
      " 12  SummaZakaza                  148621 non-null  object\n",
      " 13  GrafikOplaty                 147813 non-null  object\n",
      " 14  KreditIliPredoplata          148621 non-null  object\n",
      " 15  JelaemayaDataOtgruzki        148621 non-null  object\n",
      " 16  StatusZakaza                 148621 non-null  object\n",
      " 17  SposobDostavki               148621 non-null  object\n",
      " 18  KodStrokiZakaz               148621 non-null  int64 \n",
      " 19  DataOtgruzki                 148621 non-null  object\n",
      " 20  NomenklaturaKodRealAndZakaz  148621 non-null  object\n",
      " 21  NomenklaturaRealizAndZakaz   148621 non-null  object\n",
      " 22  VidNomenklatury              148621 non-null  object\n",
      " 23  KodTNVED                     139130 non-null  object\n",
      " 24  ZakazanoShtuk                148621 non-null  object\n",
      " 25  VidCeny                      143287 non-null  object\n",
      " 26  Cena                         148621 non-null  object\n",
      " 27  StavkaNDS                    148621 non-null  object\n",
      " 28  ProcentRuchSkidki            148621 non-null  object\n",
      " 29  ProcentAvtomSkidki           148621 non-null  object\n",
      " 30  PrichinaOtmeny               61836 non-null   object\n",
      " 31  Otmeneno                     148621 non-null  object\n",
      " 32  SrokPostavki                 148621 non-null  int64 \n",
      " 33  VariantObecpech              148621 non-null  object\n",
      " 34  RealizSsilka                 148621 non-null  object\n",
      " 35  DataRealiz                   148621 non-null  object\n",
      " 36  SummaRealiz                  148621 non-null  object\n",
      " 37  ProdanoShtuk                 148621 non-null  object\n",
      " 38  KodStrokiRealiz              148621 non-null  object\n",
      " 39  LinkOrder                    148621 non-null  object\n",
      "dtypes: int64(2), object(38)\n",
      "memory usage: 46.5+ MB\n"
     ]
    }
   ],
   "source": [
    "BaseDataFrame.info()"
   ]
  },
  {
   "cell_type": "markdown",
   "metadata": {},
   "source": [
    "# Обработка числовых типов"
   ]
  },
  {
   "cell_type": "code",
   "execution_count": 5,
   "metadata": {
    "ExecuteTime": {
     "end_time": "2022-05-24T03:15:59.369517Z",
     "start_time": "2022-05-24T03:15:55.876442Z"
    },
    "deletable": false,
    "editable": false
   },
   "outputs": [],
   "source": [
    "ColumsForChange = ['SummaAktaVipRabot', \n",
    "                  'Quantity',\n",
    "                  'KodStrokiAkt',\n",
    "                  'SummaZakaza', \n",
    "                  'KodStrokiZakaz',\n",
    "                  'ZakazanoShtuk',\n",
    "                  'Cena',\n",
    "                  'ProcentRuchSkidki',\n",
    "                  'ProcentAvtomSkidki',\n",
    "                  'SrokPostavki',\n",
    "                  'SummaRealiz',\n",
    "                  'ProdanoShtuk',\n",
    "                  'KodStrokiRealiz']\n",
    "for elem in ColumsForChange:\n",
    "    BaseDataFrame[elem] = BaseDataFrame[elem].astype('str')\n",
    "    BaseDataFrame[elem] = BaseDataFrame[elem].str.replace('None', '0')\n",
    "    BaseDataFrame[elem] = BaseDataFrame[elem].str.replace('nan', '0')\n",
    "    BaseDataFrame[elem] = BaseDataFrame[elem].str.replace(u'\\xa0', u'')\n",
    "    BaseDataFrame[elem] = BaseDataFrame[elem].str.replace(',', '.')\n",
    "    BaseDataFrame[elem] = BaseDataFrame[elem].astype('float')"
   ]
  },
  {
   "cell_type": "code",
   "execution_count": 6,
   "metadata": {
    "ExecuteTime": {
     "end_time": "2022-05-24T03:16:06.317079Z",
     "start_time": "2022-05-24T03:15:59.369517Z"
    },
    "deletable": false,
    "editable": false
   },
   "outputs": [],
   "source": [
    "# Посчитаем сумму заказанного товара по строкам (Хотя можно взять из 1С)\n",
    "BaseDataFrame[\"SummaZakazano\"] = None\n",
    "for number, series in BaseDataFrame.iterrows():\n",
    "    BaseDataFrame.at[number, \"SummaZakazano\"] = series['ZakazanoShtuk'] * series['Cena'] / \\\n",
    "        100 * (100 - series['ProcentAvtomSkidki'] +\n",
    "               series['ProcentRuchSkidki'])"
   ]
  },
  {
   "cell_type": "code",
   "execution_count": 7,
   "metadata": {
    "ExecuteTime": {
     "end_time": "2022-05-24T03:16:06.746713Z",
     "start_time": "2022-05-24T03:16:06.317079Z"
    },
    "deletable": false,
    "editable": false
   },
   "outputs": [],
   "source": [
    "f = {0:np.nan}\n",
    "BaseDataFrame = BaseDataFrame.replace({'SummaAktaVipRabot': f})\n",
    "BaseDataFrame = BaseDataFrame.replace({'Quantity': f})\n",
    "BaseDataFrame = BaseDataFrame.replace({'KodStrokiAkt': f})\n",
    "BaseDataFrame = BaseDataFrame.replace({'SummaZakaza': f})\n",
    "BaseDataFrame = BaseDataFrame.replace({'KodStrokiZakaz': f})\n",
    "BaseDataFrame = BaseDataFrame.replace({'ZakazanoShtuk': f})\n",
    "BaseDataFrame = BaseDataFrame.replace({'Cena': f})\n",
    "BaseDataFrame = BaseDataFrame.replace({'ProcentRuchSkidki': f})\n",
    "BaseDataFrame = BaseDataFrame.replace({'ProcentAvtomSkidki': f})\n",
    "BaseDataFrame = BaseDataFrame.replace({'SrokPostavki': f})\n",
    "BaseDataFrame = BaseDataFrame.replace({'SummaRealiz': f})\n",
    "BaseDataFrame = BaseDataFrame.replace({'ProdanoShtuk': f})\n",
    "BaseDataFrame = BaseDataFrame.replace({'KodStrokiRealiz': f})\n",
    "BaseDataFrame = BaseDataFrame.replace({'SummaZakazano': f})"
   ]
  },
  {
   "cell_type": "code",
   "execution_count": 8,
   "metadata": {
    "ExecuteTime": {
     "end_time": "2022-05-24T03:16:06.776922Z",
     "start_time": "2022-05-24T03:16:06.746713Z"
    },
    "deletable": false,
    "editable": false
   },
   "outputs": [
    {
     "name": "stdout",
     "output_type": "stream",
     "text": [
      "<class 'pandas.core.frame.DataFrame'>\n",
      "Int64Index: 148621 entries, 0 to 148620\n",
      "Data columns (total 13 columns):\n",
      " #   Column              Non-Null Count   Dtype  \n",
      "---  ------              --------------   -----  \n",
      " 0   SummaAktaVipRabot   2390 non-null    float64\n",
      " 1   Quantity            2390 non-null    float64\n",
      " 2   KodStrokiAkt        2390 non-null    float64\n",
      " 3   SummaZakaza         88575 non-null   float64\n",
      " 4   KodStrokiZakaz      148621 non-null  float64\n",
      " 5   ZakazanoShtuk       148621 non-null  float64\n",
      " 6   Cena                148601 non-null  float64\n",
      " 7   ProcentRuchSkidki   22368 non-null   float64\n",
      " 8   ProcentAvtomSkidki  20920 non-null   float64\n",
      " 9   SrokPostavki        54481 non-null   float64\n",
      " 10  SummaRealiz         81869 non-null   float64\n",
      " 11  ProdanoShtuk        81869 non-null   float64\n",
      " 12  KodStrokiRealiz     81869 non-null   float64\n",
      "dtypes: float64(13)\n",
      "memory usage: 19.9 MB\n"
     ]
    }
   ],
   "source": [
    "BaseDataFrame[ColumsForChange].info()"
   ]
  },
  {
   "cell_type": "markdown",
   "metadata": {},
   "source": [
    "# Обработка дат"
   ]
  },
  {
   "cell_type": "code",
   "execution_count": 9,
   "metadata": {
    "ExecuteTime": {
     "end_time": "2022-05-24T03:17:33.019256Z",
     "start_time": "2022-05-24T03:16:06.777901Z"
    },
    "deletable": false,
    "editable": false
   },
   "outputs": [],
   "source": [
    "ColumsForChange = ['Data',\n",
    "                   'ZakazData',\n",
    "                   'JelaemayaDataOtgruzki',\n",
    "                   'DataOtgruzki',\n",
    "                   'DataRealiz']\n",
    "\n",
    "for elem in ColumsForChange:\n",
    "    BaseDataFrame[elem] = BaseDataFrame[elem].astype('str')\n",
    "    BaseDataFrame[elem] = BaseDataFrame[elem].str.replace('None', '')\n",
    "\n",
    "    for number, series in BaseDataFrame.iterrows():\n",
    "        if len(series[elem]) > 0:\n",
    "            BaseDataFrame.at[number, elem] = datetime.strptime(\n",
    "                series[elem], \"%d.%m.%Y %H:%M:%S\")\n",
    "\n",
    "    BaseDataFrame[elem] = pd.to_datetime(BaseDataFrame[elem], errors='coerce')\n",
    "\n",
    "# сортировка по дате\n",
    "BaseDataFrame = BaseDataFrame.sort_values(\n",
    "    by=['ZakazData', 'LinkOrder'])  # Сортировка по СсылкаЗаказ и дате\n",
    "# сбросим имеющиеся индексы и воссоздадим по порядку заново\n",
    "BaseDataFrame.reset_index(inplace=True)\n",
    "# удалим старые индексы полученые после сброса на пред шаге\n",
    "del BaseDataFrame['index']"
   ]
  },
  {
   "cell_type": "code",
   "execution_count": 10,
   "metadata": {
    "ExecuteTime": {
     "end_time": "2022-05-24T03:17:33.089940Z",
     "start_time": "2022-05-24T03:17:33.019256Z"
    },
    "deletable": false,
    "editable": false
   },
   "outputs": [
    {
     "name": "stdout",
     "output_type": "stream",
     "text": [
      "<class 'pandas.core.frame.DataFrame'>\n",
      "RangeIndex: 148621 entries, 0 to 148620\n",
      "Data columns (total 5 columns):\n",
      " #   Column                 Non-Null Count   Dtype         \n",
      "---  ------                 --------------   -----         \n",
      " 0   Data                   2390 non-null    datetime64[ns]\n",
      " 1   ZakazData              148621 non-null  datetime64[ns]\n",
      " 2   JelaemayaDataOtgruzki  141083 non-null  datetime64[ns]\n",
      " 3   DataOtgruzki           145941 non-null  datetime64[ns]\n",
      " 4   DataRealiz             81869 non-null   datetime64[ns]\n",
      "dtypes: datetime64[ns](5)\n",
      "memory usage: 5.7 MB\n"
     ]
    }
   ],
   "source": [
    "BaseDataFrame[ColumsForChange].info()"
   ]
  },
  {
   "cell_type": "markdown",
   "metadata": {},
   "source": [
    "# Обработка строковых типов"
   ]
  },
  {
   "cell_type": "code",
   "execution_count": 11,
   "metadata": {
    "ExecuteTime": {
     "end_time": "2022-05-24T03:17:33.902337Z",
     "start_time": "2022-05-24T03:17:33.090457Z"
    },
    "deletable": false,
    "editable": false
   },
   "outputs": [],
   "source": [
    "f = {'None':None, 'nan': None}\n",
    "ColumsForChange = ['AktVipRabot', \n",
    "                   'ZakazKlienta',\n",
    "                   'NomenklaturaKod',\n",
    "                   'Nomenklatura',\n",
    "                   'PartnerKod',\n",
    "                   'OsnovnoyManager',\n",
    "                   'BiznesRegion',\n",
    "                   'GrafikOplaty',\n",
    "                   'KreditIliPredoplata',\n",
    "                   'StatusZakaza',\n",
    "                   'SposobDostavki',\n",
    "                   'NomenklaturaKodRealAndZakaz',\n",
    "                   'NomenklaturaRealizAndZakaz',\n",
    "                   'VidNomenklatury',\n",
    "                   'KodTNVED',\n",
    "                   'VidCeny',\n",
    "                   'StavkaNDS',\n",
    "                   'PrichinaOtmeny',\n",
    "                   'Otmeneno',\n",
    "                   'VariantObecpech',\n",
    "                   'RealizSsilka',\n",
    "                   'LinkOrder']\n",
    "for elem in ColumsForChange:\n",
    "    BaseDataFrame[elem] = BaseDataFrame[elem].astype('str')\n",
    "    BaseDataFrame = BaseDataFrame.replace({elem: f})"
   ]
  },
  {
   "cell_type": "code",
   "execution_count": 12,
   "metadata": {
    "ExecuteTime": {
     "end_time": "2022-05-24T03:17:34.026097Z",
     "start_time": "2022-05-24T03:17:33.903340Z"
    },
    "deletable": false,
    "editable": false
   },
   "outputs": [
    {
     "name": "stdout",
     "output_type": "stream",
     "text": [
      "<class 'pandas.core.frame.DataFrame'>\n",
      "RangeIndex: 148621 entries, 0 to 148620\n",
      "Data columns (total 22 columns):\n",
      " #   Column                       Non-Null Count   Dtype \n",
      "---  ------                       --------------   ----- \n",
      " 0   AktVipRabot                  2390 non-null    object\n",
      " 1   ZakazKlienta                 2390 non-null    object\n",
      " 2   NomenklaturaKod              2390 non-null    object\n",
      " 3   Nomenklatura                 2390 non-null    object\n",
      " 4   PartnerKod                   148621 non-null  object\n",
      " 5   OsnovnoyManager              148499 non-null  object\n",
      " 6   BiznesRegion                 144337 non-null  object\n",
      " 7   GrafikOplaty                 147813 non-null  object\n",
      " 8   KreditIliPredoplata          147813 non-null  object\n",
      " 9   StatusZakaza                 148621 non-null  object\n",
      " 10  SposobDostavki               148621 non-null  object\n",
      " 11  NomenklaturaKodRealAndZakaz  148621 non-null  object\n",
      " 12  NomenklaturaRealizAndZakaz   148621 non-null  object\n",
      " 13  VidNomenklatury              148621 non-null  object\n",
      " 14  KodTNVED                     139130 non-null  object\n",
      " 15  VidCeny                      143287 non-null  object\n",
      " 16  StavkaNDS                    148621 non-null  object\n",
      " 17  PrichinaOtmeny               61836 non-null   object\n",
      " 18  Otmeneno                     148621 non-null  object\n",
      " 19  VariantObecpech              148621 non-null  object\n",
      " 20  RealizSsilka                 81869 non-null   object\n",
      " 21  LinkOrder                    148621 non-null  object\n",
      "dtypes: object(22)\n",
      "memory usage: 24.9+ MB\n"
     ]
    }
   ],
   "source": [
    "BaseDataFrame[ColumsForChange].info()"
   ]
  },
  {
   "cell_type": "markdown",
   "metadata": {},
   "source": [
    "# Добавим удаленность от регионов"
   ]
  },
  {
   "cell_type": "code",
   "execution_count": 13,
   "metadata": {
    "ExecuteTime": {
     "end_time": "2022-05-24T03:17:34.041224Z",
     "start_time": "2022-05-24T03:17:34.026097Z"
    },
    "code_folding": [
     1
    ],
    "deletable": false,
    "editable": false
   },
   "outputs": [],
   "source": [
    "# Растояние от новосибирска до населенного пункта\n",
    "otNovosibirska = {\n",
    "    'Адыгея Респ': 4000,\n",
    "    'Акмолинская область': 1200,\n",
    "    'Актюбинская область': 2400,\n",
    "    'Алматинская область': 1800,\n",
    "    'Алтай Респ': 450,\n",
    "    'Алтайский край': 230,\n",
    "    'Амурская обл': 4300,\n",
    "    'Архангельская обл': 3300,\n",
    "    'Астраханская обл': 3600,\n",
    "    'Астрахань': 3600,\n",
    "    'Атырауская область': 2800,\n",
    "    'Барнаул': 230,\n",
    "    'Башкортостан Респ': 2000,\n",
    "    'Белгород': 3600,\n",
    "    'Белгородская обл': 3600,\n",
    "    'Бишкек': 2000,\n",
    "    'Благовещенск': 4300,\n",
    "    'Брянская обл': 3700,\n",
    "    'Бурятия Респ': 2300,\n",
    "    'Владимирская обл': 3200,\n",
    "    'Волгоградская обл': 3200,\n",
    "    'Вологодская обл': 3000,\n",
    "    'Воронежская обл': 3300,\n",
    "    'Восточно-Казахстанская область': 740,\n",
    "    'Дальневосточный ФО': None,\n",
    "    'Еврейская Аобл': 4700,\n",
    "    'Екатеринбург': 6400,\n",
    "    'Иркутская обл': 1800,\n",
    "    'Казань': 2500,\n",
    "    'Казахстан': None,\n",
    "    'Калининградская обл': None,\n",
    "    'Калужская обл': 3600,\n",
    "    'Камчатская обл': None,\n",
    "    'Карагандинская область': 1000,\n",
    "    'Кемерово': 260,\n",
    "    'Кемеровская обл': 260,\n",
    "    'Кировская обл': 2500,\n",
    "    'Коми Респ': 3200,\n",
    "    'Краснодар': 4000,\n",
    "    'Краснодарский край': 4000,\n",
    "    'Красноярск': 790,\n",
    "    'Красноярский край': 790,\n",
    "    'Курганская обл': 1200,\n",
    "    'Кызылординская область': 2000,\n",
    "    'Ленинградская обл': 4000,\n",
    "    'Липецкая обл': 3300,\n",
    "    'МОНГОЛИЯ': 2700,\n",
    "    'Магаданская обл': 6700,\n",
    "    'Мангистауская область': 3400,\n",
    "    'Марий Эл Респ': 2700,\n",
    "    'Мордовия Респ': 2900,\n",
    "    'Москва': 3400,\n",
    "    'Московская обл': 3400,\n",
    "    'Мурманск': 4600,\n",
    "    'Мурманская обл': 4600,\n",
    "    'Ненецкий АО': 3900,\n",
    "    'Нижегородская обл': 3000,\n",
    "    'Новокузнецк': 370,\n",
    "    'Новосибирск': 1,\n",
    "    'Новосибирская обл': 1,\n",
    "    'Омская обл': 650,\n",
    "    'Оренбург': 2300,\n",
    "    'Оренбургская обл': 2300,\n",
    "    'Орловская обл': 3500,\n",
    "    'Павлодарская обл': 670,\n",
    "    'Пензенская обл': 2900,\n",
    "    'Пермская обл': 2000,\n",
    "    'Пермь': 2000,\n",
    "    'Петрозаводск': 3900,\n",
    "    'Приволжский ФО': None,\n",
    "    'Приморский край': 3500,\n",
    "    'Республика Крым': 4400,\n",
    "    'Ростов-на-Дону': 3700,\n",
    "    'Ростовская обл': 3700,\n",
    "    'Рязанская обл': 3300,\n",
    "    'Рязань': 3300,\n",
    "    'Самарская обл': 2400,\n",
    "    'Санкт-Петербург': 3900,\n",
    "    'Саратовская обл': 2800,\n",
    "    'Саха /Якутия/ Респ': 5000,\n",
    "    'Сахалинская обл': 6100,\n",
    "    'Свердловская обл': 1700,\n",
    "    'Северо-Западный ФО': None,\n",
    "    'Северо-Казахстанская область': 930,\n",
    "    'Сибирский ФО': None,\n",
    "    'Смоленская обл': 3700,\n",
    "    'Ставрополь': 3800,\n",
    "    'Ставропольский край': 3800,\n",
    "    'Таймырский АО': 2700,\n",
    "    'Тамбовская обл': 3100,\n",
    "    'Татарстан Респ': 2400,\n",
    "    'Теркестанская обл': None,\n",
    "    'Томская обл': 900,\n",
    "    'Тульская обл': 3500,\n",
    "    'Тыва Респ': 1300,\n",
    "    'Тюменская обл': 1300,\n",
    "    'Удмуртская Респ': 2300,\n",
    "    'Ульяновская обл': 2700,\n",
    "    'Уральский ФО': None,\n",
    "    'Хабаровский край': 5000,\n",
    "    'Хакасия Респ': 1000,\n",
    "    'Ханты-Мансийский - Югра АО': 1800,\n",
    "    'Химки': 3400,\n",
    "    'Центральный ФО': None,\n",
    "    'Челябинск': 1600,\n",
    "    'Челябинская обл': 1600,\n",
    "    'Читинская обл': 2800,\n",
    "    'Чувашская - Чувашия Респ': 2700,\n",
    "    'Чукотский АО': None,\n",
    "    'Южно-Сахалинск': 5900,\n",
    "    'Якутск': 5000,\n",
    "    'Ямало-Ненецкий АО': 2600,\n",
    "    'Ярославская обл': 3200\n",
    "}"
   ]
  },
  {
   "cell_type": "code",
   "execution_count": 14,
   "metadata": {
    "ExecuteTime": {
     "end_time": "2022-05-24T03:17:47.621909Z",
     "start_time": "2022-05-24T03:17:34.042227Z"
    },
    "deletable": false,
    "editable": false
   },
   "outputs": [],
   "source": [
    "# добавим данные о растоянии в DF\n",
    "BaseDataFrame['RastoynieOtNSK'] = None\n",
    "for number, series in BaseDataFrame.iterrows():\n",
    "    BaseDataFrame.at[number, \"RastoynieOtNSK\"] = otNovosibirska.get(\n",
    "        series['BiznesRegion'])"
   ]
  },
  {
   "cell_type": "code",
   "execution_count": 15,
   "metadata": {
    "ExecuteTime": {
     "end_time": "2022-05-24T03:17:47.637156Z",
     "start_time": "2022-05-24T03:17:47.621909Z"
    },
    "code_folding": [
     1
    ],
    "deletable": false,
    "editable": false
   },
   "outputs": [],
   "source": [
    "# Растояние от Москвы до населенного пункта\n",
    "otMoscow = {\n",
    "    'Адыгея Респ': 1400,\n",
    "    'Акмолинская область': 2600,\n",
    "    'Актюбинская область': 2000,\n",
    "    'Алматинская область': 4000,\n",
    "    'Алтай Респ': 3800,\n",
    "    'Алтайский край': 3600,\n",
    "    'Амурская обл': 7600,\n",
    "    'Архангельская обл': 1200,\n",
    "    'Астраханская обл': 1400,\n",
    "    'Астрахань': 1400,\n",
    "    'Атырауская область': 1700,\n",
    "    'Барнаул': 3600,\n",
    "    'Башкортостан Респ': 1500,\n",
    "    'Белгород': 660,\n",
    "    'Белгородская обл': 660,\n",
    "    'Бишкек': 3700,\n",
    "    'Благовещенск': 7800,\n",
    "    'Брянская обл': 470,\n",
    "    'Бурятия Респ': 5600,\n",
    "    'Владимирская обл': 230,\n",
    "    'Волгоградская обл': 950,\n",
    "    'Вологодская обл': 810,\n",
    "    'Воронежская обл': 650,\n",
    "    'Восточно-Казахстанская область': 3700,\n",
    "    'Дальневосточный ФО': None,\n",
    "    'Еврейская Аобл': 8200,\n",
    "    'Екатеринбург': 1800,\n",
    "    'Иркутская обл': 5300,\n",
    "    'Казань': 830,\n",
    "    'Казахстан': None,\n",
    "    'Калининградская обл': None,\n",
    "    'Калужская обл': 230,\n",
    "    'Камчатская обл': None,\n",
    "    'Карагандинская область': 3000,\n",
    "    'Кемерово': 3600,\n",
    "    'Кемеровская обл': 3600,\n",
    "    'Кировская обл': 970,\n",
    "    'Коми Респ': 1700,\n",
    "    'Краснодар': 1400,\n",
    "    'Краснодарский край': 1400,\n",
    "    'Красноярск': 4200,\n",
    "    'Красноярский край': 4200,\n",
    "    'Курганская обл': 2000,\n",
    "    'Кызылординская область': 2800,\n",
    "    'Ленинградская обл': 750,\n",
    "    'Липецкая обл': 470,\n",
    "    'МОНГОЛИЯ': 6000,\n",
    "    'Магаданская обл': 10000,\n",
    "    'Мангистауская область': 2600,\n",
    "    'Марий Эл Респ': 780,\n",
    "    'Мордовия Респ': 600,\n",
    "    'Москва': 1,\n",
    "    'Московская обл': 1,\n",
    "    'Мурманск': 1900,\n",
    "    'Мурманская обл': 1900,\n",
    "    'Ненецкий АО': 2400,\n",
    "    'Нижегородская обл': 470,\n",
    "    'Новокузнецк': 3700,\n",
    "    'Новосибирск': 3400,\n",
    "    'Новосибирская обл': 3400,\n",
    "    'Омская обл': 2800,\n",
    "    'Оренбург': 1500,\n",
    "    'Оренбургская обл': 1500,\n",
    "    'Орловская обл': 410,\n",
    "    'Павлодарская обл': 3100,\n",
    "    'Пензенская обл': 610,\n",
    "    'Пермская обл': 1400,\n",
    "    'Пермь': 1400,\n",
    "    'Петрозаводск': 1000,\n",
    "    'Приволжский ФО': None,\n",
    "    'Приморский край': 9100,\n",
    "    'Республика Крым': 1800,\n",
    "    'Ростов-на-Дону': 1100,\n",
    "    'Ростовская обл': 1100,\n",
    "    'Рязанская обл': 310,\n",
    "    'Рязань': 310,\n",
    "    'Самарская обл': 1000,\n",
    "    'Санкт-Петербург': 710,\n",
    "    'Саратовская обл': 940,\n",
    "    'Саха /Якутия/ Респ': 8300,\n",
    "    'Сахалинская обл': 9600,\n",
    "    'Свердловская обл': 2000,\n",
    "    'Северо-Западный ФО': None,\n",
    "    'Северо-Казахстанская область': 2400,\n",
    "    'Сибирский ФО': None,\n",
    "    'Смоленская обл': 350,\n",
    "    'Ставрополь': 1400,\n",
    "    'Ставропольский край': 1400,\n",
    "    'Таймырский АО': 6100,\n",
    "    'Тамбовская обл': 500,\n",
    "    'Татарстан Респ': 990,\n",
    "    'Теркестанская обл': None,\n",
    "    'Томская обл': 4200,\n",
    "    'Тульская обл': 230,\n",
    "    'Тыва Респ': 4700,\n",
    "    'Тюменская обл': 2300,\n",
    "    'Удмуртская Респ': 1300,\n",
    "    'Ульяновская обл': 880,\n",
    "    'Уральский ФО': None,\n",
    "    'Хабаровский край': 8400,\n",
    "    'Хакасия Респ': 4400,\n",
    "    'Ханты-Мансийский - Югра АО': 2400,\n",
    "    'Химки': 1,\n",
    "    'Центральный ФО': None,\n",
    "    'Челябинск': 1800,\n",
    "    'Челябинская обл': 1800,\n",
    "    'Читинская обл': 6300,\n",
    "    'Чувашская - Чувашия Респ': 700,\n",
    "    'Чукотский АО': None,\n",
    "    'Южно-Сахалинск': 9300,\n",
    "    'Якутск': 8300,\n",
    "    'Ямало-Ненецкий АО': 3500,\n",
    "    'Ярославская обл': 300\n",
    "}"
   ]
  },
  {
   "cell_type": "code",
   "execution_count": 16,
   "metadata": {
    "ExecuteTime": {
     "end_time": "2022-05-24T03:18:01.098762Z",
     "start_time": "2022-05-24T03:17:47.638158Z"
    },
    "deletable": false,
    "editable": false
   },
   "outputs": [],
   "source": [
    "# добавим данные о растоянии в DF\n",
    "BaseDataFrame['otMoscow'] = None\n",
    "for number, series in BaseDataFrame.iterrows():\n",
    "    BaseDataFrame.at[number, \"otMoscow\"] = otMoscow.get(series['BiznesRegion'])"
   ]
  },
  {
   "cell_type": "code",
   "execution_count": 17,
   "metadata": {
    "ExecuteTime": {
     "end_time": "2022-05-24T03:18:01.114309Z",
     "start_time": "2022-05-24T03:18:01.098991Z"
    },
    "deletable": false,
    "editable": false
   },
   "outputs": [],
   "source": [
    "BaseDataFrame['BiznesRegion'].fillna(value='Регион не указан', inplace=True)"
   ]
  },
  {
   "cell_type": "code",
   "execution_count": 18,
   "metadata": {
    "ExecuteTime": {
     "end_time": "2022-05-24T03:18:01.145815Z",
     "start_time": "2022-05-24T03:18:01.115311Z"
    },
    "deletable": false,
    "editable": false
   },
   "outputs": [
    {
     "name": "stdout",
     "output_type": "stream",
     "text": [
      "Новосибирская обл    43229\n",
      "Кемеровская обл      17773\n",
      "Алтайский край        7689\n",
      "Приморский край       6673\n",
      "Сибирский ФО          6278\n",
      "                     ...  \n",
      "Теркестанская обл        1\n",
      "Пермь                    1\n",
      "Рязань                   1\n",
      "Краснодар                1\n",
      "Новгородская обл         1\n",
      "Name: BiznesRegion, Length: 114, dtype: int64\n",
      "\n",
      "['Новосибирская обл' 'Тюменская обл' 'Павлодарская обл'\n",
      " 'Саха /Якутия/ Респ' 'Приморский край' 'Хабаровский край' 'Читинская обл'\n",
      " 'Алтайский край' 'Регион не указан' 'Бурятия Респ' 'Кемеровская обл'\n",
      " 'Красноярский край' 'Сибирский ФО' 'Камчатская обл'\n",
      " 'Северо-Казахстанская область' 'Томская обл' 'Ленинградская обл'\n",
      " 'Омская обл' 'Иркутская обл' 'Ханты-Мансийский - Югра АО' 'Тыва Респ'\n",
      " 'Свердловская обл' 'Амурская обл' 'Московская обл'\n",
      " 'Восточно-Казахстанская область' 'Сахалинская обл' 'Еврейская Аобл'\n",
      " 'Магаданская обл' 'Хакасия Респ' 'Карагандинская область'\n",
      " 'Акмолинская область' 'Калужская обл' 'Татарстан Респ'\n",
      " 'Башкортостан Респ' 'Челябинская обл' 'Ставропольский край'\n",
      " 'Саратовская обл' 'Пермская обл' 'Центральный ФО' 'Казахстан'\n",
      " 'Алтай Респ' 'Курганская обл' 'Ямало-Ненецкий АО' 'Дальневосточный ФО'\n",
      " 'Бишкек' 'Рязанская обл' 'Удмуртская Респ' 'Нижегородская обл'\n",
      " 'Ульяновская обл' 'Оренбургская обл' 'Ненецкий АО' 'Таймырский АО'\n",
      " 'Смоленская обл' 'Орловская обл' 'Тамбовская обл' 'Самарская обл'\n",
      " 'Ярославская обл' 'Волгоградская обл' 'Липецкая обл' 'Краснодарский край'\n",
      " 'Вологодская обл' 'Ростовская обл' 'Воронежская обл' 'Теркестанская обл'\n",
      " 'Владимирская обл' 'Чукотский АО' 'Мурманская обл' 'Архангельская обл'\n",
      " 'Кировская обл' 'Белгородская обл' 'Коми Респ' 'Пензенская обл'\n",
      " 'Калининградская обл' 'Марий Эл Респ' 'Брянская обл' 'Тульская обл'\n",
      " 'Мангистауская область' 'Чувашская - Чувашия Респ' 'Алматинская область'\n",
      " 'Актюбинская область' 'Астраханская обл' 'Республика Крым'\n",
      " 'Мордовия Респ' 'Адыгея Респ' 'МОНГОЛИЯ' 'Атырауская область' 'Кемерово'\n",
      " 'Новокузнецк' 'Химки' 'Москва' 'Астрахань' 'Екатеринбург' 'Белгород'\n",
      " 'Краснодар' 'Мурманск' 'Пермь' 'Рязань' 'Оренбург' 'Уральский ФО'\n",
      " 'Казань' 'Петрозаводск' 'Приволжский ФО' 'Красноярск' 'Барнаул'\n",
      " 'Новосибирск' 'Челябинск' 'Северо-Западный ФО' 'Ростов-на-Дону'\n",
      " 'Кызылординская область' 'Южный ФО' 'Санкт-Петербург'\n",
      " 'Костанайская область' 'Куйбышев' 'Новгородская обл']\n"
     ]
    }
   ],
   "source": [
    "print(BaseDataFrame['BiznesRegion'].value_counts())\n",
    "print()\n",
    "print(BaseDataFrame['BiznesRegion'].unique())"
   ]
  },
  {
   "cell_type": "markdown",
   "metadata": {},
   "source": [
    "# Трансформация данных"
   ]
  },
  {
   "cell_type": "markdown",
   "metadata": {
    "ExecuteTime": {
     "end_time": "2022-05-22T23:59:55.029737Z",
     "start_time": "2022-05-22T23:59:55.012622Z"
    }
   },
   "source": [
    "## Уберем пробелы из PartnerKod"
   ]
  },
  {
   "cell_type": "code",
   "execution_count": 19,
   "metadata": {
    "ExecuteTime": {
     "end_time": "2022-05-24T03:18:14.809029Z",
     "start_time": "2022-05-24T03:18:01.146817Z"
    },
    "deletable": false,
    "editable": false
   },
   "outputs": [],
   "source": [
    "for number, series in BaseDataFrame.iterrows():\n",
    "    BaseDataFrame.at[number, 'PartnerKod'] = series['PartnerKod'].split(' ')[0]"
   ]
  },
  {
   "cell_type": "markdown",
   "metadata": {},
   "source": [
    "## Обработка AsnovnManagerKod"
   ]
  },
  {
   "cell_type": "code",
   "execution_count": 20,
   "metadata": {
    "ExecuteTime": {
     "end_time": "2022-05-24T03:18:14.840148Z",
     "start_time": "2022-05-24T03:18:14.809029Z"
    },
    "deletable": false,
    "editable": false
   },
   "outputs": [],
   "source": [
    "# Заменили 'nan' на самого частого\n",
    "BaseDataFrame['OsnovnoyManager'].fillna(\n",
    "    value=BaseDataFrame['OsnovnoyManager'].describe().top, \n",
    "    inplace=True)"
   ]
  },
  {
   "cell_type": "markdown",
   "metadata": {},
   "source": [
    "## Обработка отсутствущих значений KreditOrCash"
   ]
  },
  {
   "cell_type": "code",
   "execution_count": 21,
   "metadata": {
    "ExecuteTime": {
     "end_time": "2022-05-24T03:18:14.856149Z",
     "start_time": "2022-05-24T03:18:14.841149Z"
    },
    "deletable": false,
    "editable": false
   },
   "outputs": [
    {
     "name": "stdout",
     "output_type": "stream",
     "text": [
      "Нет    125233\n",
      "Да      22580\n",
      "Name: KreditIliPredoplata, dtype: int64\n",
      "\n",
      "['Нет' None 'Да']\n"
     ]
    }
   ],
   "source": [
    "print(BaseDataFrame['KreditIliPredoplata'].value_counts())\n",
    "print()\n",
    "print(BaseDataFrame['KreditIliPredoplata'].unique())"
   ]
  },
  {
   "cell_type": "code",
   "execution_count": 22,
   "metadata": {
    "ExecuteTime": {
     "end_time": "2022-05-24T03:18:14.871148Z",
     "start_time": "2022-05-24T03:18:14.857153Z"
    },
    "deletable": false,
    "editable": false
   },
   "outputs": [],
   "source": [
    "# Заменили \"nan\" на самого частого: 'Нет'\n",
    "# nan только у заказов 2017 года (это заказпы из старой базы).\n",
    "BaseDataFrame['KreditIliPredoplata'].fillna(value='Нет', inplace=True)"
   ]
  },
  {
   "cell_type": "code",
   "execution_count": 23,
   "metadata": {
    "ExecuteTime": {
     "end_time": "2022-05-24T03:18:14.886702Z",
     "start_time": "2022-05-24T03:18:14.872149Z"
    },
    "deletable": false,
    "editable": false
   },
   "outputs": [
    {
     "name": "stdout",
     "output_type": "stream",
     "text": [
      "Нет    126041\n",
      "Да      22580\n",
      "Name: KreditIliPredoplata, dtype: int64\n",
      "\n",
      "['Нет' 'Да']\n"
     ]
    }
   ],
   "source": [
    "print(BaseDataFrame['KreditIliPredoplata'].value_counts())\n",
    "print()\n",
    "print(BaseDataFrame['KreditIliPredoplata'].unique())"
   ]
  },
  {
   "cell_type": "code",
   "execution_count": 24,
   "metadata": {
    "ExecuteTime": {
     "end_time": "2022-05-24T03:18:14.902698Z",
     "start_time": "2022-05-24T03:18:14.887702Z"
    },
    "deletable": false,
    "editable": false
   },
   "outputs": [],
   "source": [
    "# Удалим, т.к. нет необхожимости в такой глубине\n",
    "del BaseDataFrame['GrafikOplaty']"
   ]
  },
  {
   "cell_type": "markdown",
   "metadata": {},
   "source": [
    "## Обработка отсутствующих значений Status\n",
    "### Уберем строки у которых статусы = 'На согласовании'."
   ]
  },
  {
   "cell_type": "code",
   "execution_count": 25,
   "metadata": {
    "ExecuteTime": {
     "end_time": "2022-05-24T03:18:14.933875Z",
     "start_time": "2022-05-24T03:18:14.903722Z"
    },
    "deletable": false,
    "editable": false
   },
   "outputs": [
    {
     "name": "stdout",
     "output_type": "stream",
     "text": [
      "Закрыт                      145176\n",
      "К выполнению / В резерве      3041\n",
      "На согласовании                404\n",
      "Name: StatusZakaza, dtype: int64\n",
      "\n",
      "['Закрыт' 'К выполнению / В резерве' 'На согласовании']\n"
     ]
    }
   ],
   "source": [
    "print(BaseDataFrame['StatusZakaza'].value_counts())\n",
    "print()\n",
    "print(BaseDataFrame['StatusZakaza'].unique())"
   ]
  },
  {
   "cell_type": "code",
   "execution_count": 26,
   "metadata": {
    "ExecuteTime": {
     "end_time": "2022-05-24T03:18:15.047810Z",
     "start_time": "2022-05-24T03:18:14.934880Z"
    },
    "deletable": false,
    "editable": false
   },
   "outputs": [],
   "source": [
    "# У заказов \"На согласовании\" не может быть реализаций в структуре, поэтому удалим из дальнейшего анализа\n",
    "BaseDataFrame.drop(index=BaseDataFrame.loc[BaseDataFrame['StatusZakaza'] ==\n",
    "                                           'На согласовании'].index,\n",
    "                   axis=0,\n",
    "                   inplace=True)"
   ]
  },
  {
   "cell_type": "code",
   "execution_count": 27,
   "metadata": {
    "ExecuteTime": {
     "end_time": "2022-05-24T03:18:15.077815Z",
     "start_time": "2022-05-24T03:18:15.048809Z"
    },
    "deletable": false,
    "editable": false
   },
   "outputs": [
    {
     "name": "stdout",
     "output_type": "stream",
     "text": [
      "Закрыт                      145176\n",
      "К выполнению / В резерве      3041\n",
      "Name: StatusZakaza, dtype: int64\n",
      "\n",
      "['Закрыт' 'К выполнению / В резерве']\n"
     ]
    }
   ],
   "source": [
    "print(BaseDataFrame['StatusZakaza'].value_counts())\n",
    "print()\n",
    "print(BaseDataFrame['StatusZakaza'].unique())"
   ]
  },
  {
   "cell_type": "markdown",
   "metadata": {},
   "source": [
    "### Т.к. у заказа в статусе 'К выполнению / В резерве' может быть оплаченная реализация (т.е частичная отгрузка), то выделим заказы с присутствующими реализациями. Их нужно оставить в обучающем наборе."
   ]
  },
  {
   "cell_type": "code",
   "execution_count": 28,
   "metadata": {
    "ExecuteTime": {
     "end_time": "2022-05-24T03:18:15.093278Z",
     "start_time": "2022-05-24T03:18:15.080815Z"
    },
    "deletable": false,
    "editable": false
   },
   "outputs": [],
   "source": [
    "# Добавим новый столбец, как признак состоявшейся продажи\n",
    "BaseDataFrame['ПродажаСостоялась'] = 'Нет'"
   ]
  },
  {
   "cell_type": "code",
   "execution_count": 29,
   "metadata": {
    "ExecuteTime": {
     "end_time": "2022-05-24T03:18:27.911957Z",
     "start_time": "2022-05-24T03:18:15.094282Z"
    },
    "deletable": false,
    "editable": false
   },
   "outputs": [],
   "source": [
    "# Перекодируем значение\n",
    "for number, series in BaseDataFrame.iterrows():\n",
    "    if type(series['RealizSsilka']) == str:\n",
    "        BaseDataFrame.at[number, 'ПродажаСостоялась'] = 'Да'"
   ]
  },
  {
   "cell_type": "code",
   "execution_count": 30,
   "metadata": {
    "ExecuteTime": {
     "end_time": "2022-05-24T03:18:27.927462Z",
     "start_time": "2022-05-24T03:18:27.911957Z"
    },
    "deletable": false,
    "editable": false
   },
   "outputs": [
    {
     "data": {
      "text/plain": [
       "Да     81869\n",
       "Нет    66348\n",
       "Name: ПродажаСостоялась, dtype: int64"
      ]
     },
     "execution_count": 30,
     "metadata": {},
     "output_type": "execute_result"
    }
   ],
   "source": [
    "BaseDataFrame['ПродажаСостоялась'].value_counts()"
   ]
  },
  {
   "cell_type": "code",
   "execution_count": 31,
   "metadata": {
    "ExecuteTime": {
     "end_time": "2022-05-24T03:18:27.973992Z",
     "start_time": "2022-05-24T03:18:27.928463Z"
    },
    "deletable": false,
    "editable": false
   },
   "outputs": [],
   "source": [
    "# Получим индексы заказав\n",
    "IndexNETRealiz = BaseDataFrame.loc[BaseDataFrame['ПродажаСостоялась'] == 'Нет'].index\n",
    "IndexOtkritZakaz = BaseDataFrame.loc[BaseDataFrame['StatusZakaza']\n",
    "                                     == 'К выполнению / В резерве'].index"
   ]
  },
  {
   "cell_type": "code",
   "execution_count": 32,
   "metadata": {
    "ExecuteTime": {
     "end_time": "2022-05-24T03:18:27.989992Z",
     "start_time": "2022-05-24T03:18:27.974995Z"
    },
    "deletable": false,
    "editable": false
   },
   "outputs": [
    {
     "data": {
      "text/plain": [
       "Int64Index([  1186,  75143,  75144,  75145,  75146,  75147,  75148,  75149,\n",
       "             75150,  75151,\n",
       "            ...\n",
       "            148611, 148612, 148613, 148614, 148615, 148616, 148617, 148618,\n",
       "            148619, 148620],\n",
       "           dtype='int64', length=2201)"
      ]
     },
     "execution_count": 32,
     "metadata": {},
     "output_type": "execute_result"
    }
   ],
   "source": [
    "IndexUdalit = IndexNETRealiz.intersection(IndexOtkritZakaz)\n",
    "IndexUdalit"
   ]
  },
  {
   "cell_type": "markdown",
   "metadata": {},
   "source": [
    "### Удалим открытые заказы по которым нет реализаций"
   ]
  },
  {
   "cell_type": "code",
   "execution_count": 33,
   "metadata": {
    "ExecuteTime": {
     "end_time": "2022-05-24T03:18:28.101509Z",
     "start_time": "2022-05-24T03:18:27.990995Z"
    },
    "deletable": false,
    "editable": false
   },
   "outputs": [
    {
     "name": "stdout",
     "output_type": "stream",
     "text": [
      "<class 'pandas.core.frame.DataFrame'>\n",
      "Int64Index: 148217 entries, 0 to 148620\n",
      "Data columns (total 43 columns):\n",
      " #   Column                       Non-Null Count   Dtype         \n",
      "---  ------                       --------------   -----         \n",
      " 0   AktVipRabot                  2390 non-null    object        \n",
      " 1   Data                         2390 non-null    datetime64[ns]\n",
      " 2   SummaAktaVipRabot            2390 non-null    float64       \n",
      " 3   Quantity                     2390 non-null    float64       \n",
      " 4   KodStrokiAkt                 2390 non-null    float64       \n",
      " 5   ZakazKlienta                 2390 non-null    object        \n",
      " 6   NomenklaturaKod              2390 non-null    object        \n",
      " 7   Nomenklatura                 2390 non-null    object        \n",
      " 8   ZakazData                    148217 non-null  datetime64[ns]\n",
      " 9   PartnerKod                   148217 non-null  object        \n",
      " 10  OsnovnoyManager              148217 non-null  object        \n",
      " 11  BiznesRegion                 148217 non-null  object        \n",
      " 12  SummaZakaza                  88171 non-null   float64       \n",
      " 13  KreditIliPredoplata          148217 non-null  object        \n",
      " 14  JelaemayaDataOtgruzki        140679 non-null  datetime64[ns]\n",
      " 15  StatusZakaza                 148217 non-null  object        \n",
      " 16  SposobDostavki               148217 non-null  object        \n",
      " 17  KodStrokiZakaz               148217 non-null  float64       \n",
      " 18  DataOtgruzki                 145586 non-null  datetime64[ns]\n",
      " 19  NomenklaturaKodRealAndZakaz  148217 non-null  object        \n",
      " 20  NomenklaturaRealizAndZakaz   148217 non-null  object        \n",
      " 21  VidNomenklatury              148217 non-null  object        \n",
      " 22  KodTNVED                     138753 non-null  object        \n",
      " 23  ZakazanoShtuk                148217 non-null  float64       \n",
      " 24  VidCeny                      142962 non-null  object        \n",
      " 25  Cena                         148197 non-null  float64       \n",
      " 26  StavkaNDS                    148217 non-null  object        \n",
      " 27  ProcentRuchSkidki            22233 non-null   float64       \n",
      " 28  ProcentAvtomSkidki           20909 non-null   float64       \n",
      " 29  PrichinaOtmeny               61832 non-null   object        \n",
      " 30  Otmeneno                     148217 non-null  object        \n",
      " 31  SrokPostavki                 54149 non-null   float64       \n",
      " 32  VariantObecpech              148217 non-null  object        \n",
      " 33  RealizSsilka                 81869 non-null   object        \n",
      " 34  DataRealiz                   81869 non-null   datetime64[ns]\n",
      " 35  SummaRealiz                  81869 non-null   float64       \n",
      " 36  ProdanoShtuk                 81869 non-null   float64       \n",
      " 37  KodStrokiRealiz              81869 non-null   float64       \n",
      " 38  LinkOrder                    148217 non-null  object        \n",
      " 39  SummaZakazano                148193 non-null  float64       \n",
      " 40  RastoynieOtNSK               136022 non-null  object        \n",
      " 41  otMoscow                     136022 non-null  object        \n",
      " 42  ПродажаСостоялась            148217 non-null  object        \n",
      "dtypes: datetime64[ns](5), float64(14), object(24)\n",
      "memory usage: 53.8+ MB\n"
     ]
    }
   ],
   "source": [
    "BaseDataFrame.info()"
   ]
  },
  {
   "cell_type": "code",
   "execution_count": 34,
   "metadata": {
    "ExecuteTime": {
     "end_time": "2022-05-24T03:18:28.149508Z",
     "start_time": "2022-05-24T03:18:28.102513Z"
    },
    "deletable": false,
    "editable": false
   },
   "outputs": [],
   "source": [
    "# Удалим данные по открытым заказам\n",
    "BaseDataFrame.drop(index = IndexUdalit, axis = 0, inplace=True)"
   ]
  },
  {
   "cell_type": "code",
   "execution_count": 35,
   "metadata": {
    "ExecuteTime": {
     "end_time": "2022-05-24T03:18:28.165508Z",
     "start_time": "2022-05-24T03:18:28.150509Z"
    },
    "deletable": false,
    "editable": false
   },
   "outputs": [],
   "source": [
    "# сбросим имеющиеся индексы и воссоздадим по порядку заново\n",
    "BaseDataFrame.reset_index(inplace=True)\n",
    "del BaseDataFrame['index']"
   ]
  },
  {
   "cell_type": "code",
   "execution_count": 36,
   "metadata": {
    "ExecuteTime": {
     "end_time": "2022-05-24T03:18:28.181511Z",
     "start_time": "2022-05-24T03:18:28.166512Z"
    },
    "deletable": false,
    "editable": false
   },
   "outputs": [
    {
     "data": {
      "text/plain": [
       "Да     81869\n",
       "Нет    64147\n",
       "Name: ПродажаСостоялась, dtype: int64"
      ]
     },
     "execution_count": 36,
     "metadata": {},
     "output_type": "execute_result"
    }
   ],
   "source": [
    "BaseDataFrame['ПродажаСостоялась'].value_counts()"
   ]
  },
  {
   "cell_type": "code",
   "execution_count": 37,
   "metadata": {
    "ExecuteTime": {
     "end_time": "2022-05-24T03:18:28.305299Z",
     "start_time": "2022-05-24T03:18:28.182510Z"
    },
    "deletable": false,
    "editable": false
   },
   "outputs": [
    {
     "name": "stdout",
     "output_type": "stream",
     "text": [
      "<class 'pandas.core.frame.DataFrame'>\n",
      "RangeIndex: 146016 entries, 0 to 146015\n",
      "Data columns (total 43 columns):\n",
      " #   Column                       Non-Null Count   Dtype         \n",
      "---  ------                       --------------   -----         \n",
      " 0   AktVipRabot                  2375 non-null    object        \n",
      " 1   Data                         2375 non-null    datetime64[ns]\n",
      " 2   SummaAktaVipRabot            2375 non-null    float64       \n",
      " 3   Quantity                     2375 non-null    float64       \n",
      " 4   KodStrokiAkt                 2375 non-null    float64       \n",
      " 5   ZakazKlienta                 2375 non-null    object        \n",
      " 6   NomenklaturaKod              2375 non-null    object        \n",
      " 7   Nomenklatura                 2375 non-null    object        \n",
      " 8   ZakazData                    146016 non-null  datetime64[ns]\n",
      " 9   PartnerKod                   146016 non-null  object        \n",
      " 10  OsnovnoyManager              146016 non-null  object        \n",
      " 11  BiznesRegion                 146016 non-null  object        \n",
      " 12  SummaZakaza                  85971 non-null   float64       \n",
      " 13  KreditIliPredoplata          146016 non-null  object        \n",
      " 14  JelaemayaDataOtgruzki        138729 non-null  datetime64[ns]\n",
      " 15  StatusZakaza                 146016 non-null  object        \n",
      " 16  SposobDostavki               146016 non-null  object        \n",
      " 17  KodStrokiZakaz               146016 non-null  float64       \n",
      " 18  DataOtgruzki                 143562 non-null  datetime64[ns]\n",
      " 19  NomenklaturaKodRealAndZakaz  146016 non-null  object        \n",
      " 20  NomenklaturaRealizAndZakaz   146016 non-null  object        \n",
      " 21  VidNomenklatury              146016 non-null  object        \n",
      " 22  KodTNVED                     136807 non-null  object        \n",
      " 23  ZakazanoShtuk                146016 non-null  float64       \n",
      " 24  VidCeny                      141038 non-null  object        \n",
      " 25  Cena                         145996 non-null  float64       \n",
      " 26  StavkaNDS                    146016 non-null  object        \n",
      " 27  ProcentRuchSkidki            21724 non-null   float64       \n",
      " 28  ProcentAvtomSkidki           20583 non-null   float64       \n",
      " 29  PrichinaOtmeny               61745 non-null   object        \n",
      " 30  Otmeneno                     146016 non-null  object        \n",
      " 31  SrokPostavki                 52993 non-null   float64       \n",
      " 32  VariantObecpech              146016 non-null  object        \n",
      " 33  RealizSsilka                 81869 non-null   object        \n",
      " 34  DataRealiz                   81869 non-null   datetime64[ns]\n",
      " 35  SummaRealiz                  81869 non-null   float64       \n",
      " 36  ProdanoShtuk                 81869 non-null   float64       \n",
      " 37  KodStrokiRealiz              81869 non-null   float64       \n",
      " 38  LinkOrder                    146016 non-null  object        \n",
      " 39  SummaZakazano                145992 non-null  float64       \n",
      " 40  RastoynieOtNSK               134104 non-null  object        \n",
      " 41  otMoscow                     134104 non-null  object        \n",
      " 42  ПродажаСостоялась            146016 non-null  object        \n",
      "dtypes: datetime64[ns](5), float64(14), object(24)\n",
      "memory usage: 47.9+ MB\n"
     ]
    }
   ],
   "source": [
    "BaseDataFrame.info()"
   ]
  },
  {
   "cell_type": "markdown",
   "metadata": {},
   "source": [
    "## Обработаем пропущенные значения столбца KodeOfTNVED "
   ]
  },
  {
   "cell_type": "code",
   "execution_count": 38,
   "metadata": {
    "ExecuteTime": {
     "end_time": "2022-05-24T03:18:28.321300Z",
     "start_time": "2022-05-24T03:18:28.306303Z"
    },
    "deletable": false,
    "editable": false
   },
   "outputs": [],
   "source": [
    "# Пропущенные значения заменили на \"НеУказано\"\n",
    "BaseDataFrame['KodTNVED'].fillna(value='НеУказано', inplace=True)"
   ]
  },
  {
   "cell_type": "code",
   "execution_count": 39,
   "metadata": {
    "ExecuteTime": {
     "end_time": "2022-05-24T03:18:28.398191Z",
     "start_time": "2022-05-24T03:18:28.322302Z"
    },
    "deletable": false,
    "editable": false
   },
   "outputs": [],
   "source": [
    "# Заменим значение '<>' на 'НеУказано'\n",
    "f = {'<>':'НеУказано'}\n",
    "BaseDataFrame = BaseDataFrame.replace({'KodTNVED': f})"
   ]
  },
  {
   "cell_type": "code",
   "execution_count": 40,
   "metadata": {
    "ExecuteTime": {
     "end_time": "2022-05-24T03:18:28.413782Z",
     "start_time": "2022-05-24T03:18:28.398191Z"
    },
    "deletable": false,
    "editable": false
   },
   "outputs": [
    {
     "data": {
      "text/plain": [
       "array(['8424100000', '8424900000', '7609000000', '9403105809',\n",
       "       '5909001000', 'НеУказано', '4821901000', '3813000000',\n",
       "       '8201500000', '8201900009', '7323940000', '8201400000',\n",
       "       '7310100000', '7019590000', '9403109300', '7307191000',\n",
       "       '7307998009', '8481807900', '7326909807', '8424890009',\n",
       "       '4008219000', '6401921000', '7326200009', '3006500000',\n",
       "       '4015190000', '3214101001', '8310000000', '3923100000',\n",
       "       '8481806100', '8504405500', '8513100000', '6815109008',\n",
       "       '4202929800', '5607509000', '7326903000', '3102109000',\n",
       "       '9402900000', '6307200000', '3824997000', '3926909709',\n",
       "       '6506101000', '3208209009', '6210400000', '6506108000',\n",
       "       '8481808508', '8507302009'], dtype=object)"
      ]
     },
     "execution_count": 40,
     "metadata": {},
     "output_type": "execute_result"
    }
   ],
   "source": [
    "BaseDataFrame['KodTNVED'].unique()"
   ]
  },
  {
   "cell_type": "markdown",
   "metadata": {},
   "source": [
    "## Обработка столбца TypeOfPrice"
   ]
  },
  {
   "cell_type": "markdown",
   "metadata": {},
   "source": [
    "### Заменим пропуски в столбце TypeOfPrice на 'Произвольная'"
   ]
  },
  {
   "cell_type": "code",
   "execution_count": 41,
   "metadata": {
    "ExecuteTime": {
     "end_time": "2022-05-24T03:18:28.429902Z",
     "start_time": "2022-05-24T03:18:28.414784Z"
    },
    "deletable": false,
    "editable": false
   },
   "outputs": [
    {
     "name": "stdout",
     "output_type": "stream",
     "text": [
      "От 50 тыс. руб.                              115090\n",
      "От 5 тыс. руб.                                11707\n",
      "От 50 тыс. руб. КЗ                             4968\n",
      "Розница                                        4919\n",
      "От 50 тыс. руб. КЗ (по 31 декабря 2018г.)      4027\n",
      "От 5 тыс. руб. КЗ (по 31 декабря 2018г.)        171\n",
      "От 5 тыс. руб. КЗ                               132\n",
      "Цена из Ярославля                                24\n",
      "Name: VidCeny, dtype: int64\n",
      "\n",
      "[None 'От 50 тыс. руб. КЗ (по 31 декабря 2018г.)' 'От 50 тыс. руб.'\n",
      " 'От 5 тыс. руб.' 'Розница' 'От 5 тыс. руб. КЗ (по 31 декабря 2018г.)'\n",
      " 'От 50 тыс. руб. КЗ' 'От 5 тыс. руб. КЗ' 'Цена из Ярославля']\n"
     ]
    }
   ],
   "source": [
    "print(BaseDataFrame['VidCeny'].value_counts())\n",
    "print()\n",
    "print(BaseDataFrame['VidCeny'].unique())"
   ]
  },
  {
   "cell_type": "code",
   "execution_count": 42,
   "metadata": {
    "ExecuteTime": {
     "end_time": "2022-05-24T03:18:28.451003Z",
     "start_time": "2022-05-24T03:18:28.430903Z"
    },
    "deletable": false,
    "editable": false
   },
   "outputs": [],
   "source": [
    "BaseDataFrame['VidCeny'].fillna(value='Произвольная', inplace=True)"
   ]
  },
  {
   "cell_type": "code",
   "execution_count": 43,
   "metadata": {
    "ExecuteTime": {
     "end_time": "2022-05-24T03:18:28.466390Z",
     "start_time": "2022-05-24T03:18:28.451003Z"
    },
    "deletable": false,
    "editable": false
   },
   "outputs": [
    {
     "data": {
      "text/plain": [
       "От 50 тыс. руб.                              115090\n",
       "От 5 тыс. руб.                                11707\n",
       "Произвольная                                   4978\n",
       "От 50 тыс. руб. КЗ                             4968\n",
       "Розница                                        4919\n",
       "От 50 тыс. руб. КЗ (по 31 декабря 2018г.)      4027\n",
       "От 5 тыс. руб. КЗ (по 31 декабря 2018г.)        171\n",
       "От 5 тыс. руб. КЗ                               132\n",
       "Цена из Ярославля                                24\n",
       "Name: VidCeny, dtype: int64"
      ]
     },
     "execution_count": 43,
     "metadata": {},
     "output_type": "execute_result"
    }
   ],
   "source": [
    "BaseDataFrame['VidCeny'].value_counts()"
   ]
  },
  {
   "cell_type": "markdown",
   "metadata": {},
   "source": [
    "### Объеденим старые типы цен КЗ с новыми"
   ]
  },
  {
   "cell_type": "code",
   "execution_count": 44,
   "metadata": {
    "ExecuteTime": {
     "end_time": "2022-05-24T03:18:28.497388Z",
     "start_time": "2022-05-24T03:18:28.467390Z"
    },
    "deletable": false,
    "editable": false
   },
   "outputs": [],
   "source": [
    "f = {\n",
    "    'От 50 тыс. руб. КЗ (по 31 декабря 2018г.)': 'От 50 тыс. руб. КЗ',\n",
    "    'От 5 тыс. руб. КЗ (по 31 декабря 2018г.)': 'От 5 тыс. руб. КЗ'\n",
    "}\n",
    "BaseDataFrame.replace({'VidCeny': f}, inplace=True)"
   ]
  },
  {
   "cell_type": "code",
   "execution_count": 45,
   "metadata": {
    "ExecuteTime": {
     "end_time": "2022-05-24T03:18:28.512388Z",
     "start_time": "2022-05-24T03:18:28.498391Z"
    },
    "deletable": false,
    "editable": false
   },
   "outputs": [
    {
     "data": {
      "text/plain": [
       "От 50 тыс. руб.       115090\n",
       "От 5 тыс. руб.         11707\n",
       "От 50 тыс. руб. КЗ      8995\n",
       "Произвольная            4978\n",
       "Розница                 4919\n",
       "От 5 тыс. руб. КЗ        303\n",
       "Цена из Ярославля         24\n",
       "Name: VidCeny, dtype: int64"
      ]
     },
     "execution_count": 45,
     "metadata": {},
     "output_type": "execute_result"
    }
   ],
   "source": [
    "BaseDataFrame['VidCeny'].value_counts()"
   ]
  },
  {
   "cell_type": "markdown",
   "metadata": {},
   "source": [
    "## Обработка столбца StavkaNDS"
   ]
  },
  {
   "cell_type": "code",
   "execution_count": 46,
   "metadata": {
    "ExecuteTime": {
     "end_time": "2022-05-24T03:18:28.528145Z",
     "start_time": "2022-05-24T03:18:28.513391Z"
    },
    "deletable": false,
    "editable": false
   },
   "outputs": [
    {
     "name": "stdout",
     "output_type": "stream",
     "text": [
      "20%        76146\n",
      "18%        60064\n",
      "0%          8813\n",
      "Без НДС      992\n",
      "20/120         1\n",
      "Name: StavkaNDS, dtype: int64\n",
      "\n",
      "['20%' '18%' '0%' 'Без НДС' '20/120']\n"
     ]
    }
   ],
   "source": [
    "print(BaseDataFrame['StavkaNDS'].value_counts())\n",
    "print()\n",
    "print(BaseDataFrame['StavkaNDS'].unique())"
   ]
  },
  {
   "cell_type": "markdown",
   "metadata": {},
   "source": [
    "### Объеденим: '20%' : '18%' и 'Без НДС':'0%' и '20/120':'20%'"
   ]
  },
  {
   "cell_type": "code",
   "execution_count": 47,
   "metadata": {
    "ExecuteTime": {
     "end_time": "2022-05-24T03:18:28.569316Z",
     "start_time": "2022-05-24T03:18:28.529125Z"
    },
    "deletable": false,
    "editable": false
   },
   "outputs": [],
   "source": [
    "f = {'18%':'20%', 'Без НДС':'0%', '20/120':'20%'}\n",
    "BaseDataFrame = BaseDataFrame.replace({'StavkaNDS': f})"
   ]
  },
  {
   "cell_type": "code",
   "execution_count": 48,
   "metadata": {
    "ExecuteTime": {
     "end_time": "2022-05-24T03:18:28.584779Z",
     "start_time": "2022-05-24T03:18:28.569316Z"
    },
    "deletable": false,
    "editable": false
   },
   "outputs": [
    {
     "data": {
      "text/plain": [
       "20%    136211\n",
       "0%       9805\n",
       "Name: StavkaNDS, dtype: int64"
      ]
     },
     "execution_count": 48,
     "metadata": {},
     "output_type": "execute_result"
    }
   ],
   "source": [
    "BaseDataFrame['StavkaNDS'].value_counts()"
   ]
  },
  {
   "cell_type": "markdown",
   "metadata": {},
   "source": [
    "## Обработаем столбцы ProcentRuchnoySkidki и ProcentAvtomatichSkidki"
   ]
  },
  {
   "cell_type": "code",
   "execution_count": 49,
   "metadata": {
    "ExecuteTime": {
     "end_time": "2022-05-24T03:18:28.600319Z",
     "start_time": "2022-05-24T03:18:28.585780Z"
    },
    "deletable": false,
    "editable": false
   },
   "outputs": [],
   "source": [
    "BaseDataFrame['ItogoProcentSkidki'] = BaseDataFrame['ProcentRuchSkidki'] + \\\n",
    "    BaseDataFrame['ProcentAvtomSkidki']"
   ]
  },
  {
   "cell_type": "code",
   "execution_count": 50,
   "metadata": {
    "ExecuteTime": {
     "end_time": "2022-05-24T03:18:28.615842Z",
     "start_time": "2022-05-24T03:18:28.601323Z"
    },
    "deletable": false,
    "editable": false
   },
   "outputs": [],
   "source": [
    "# Удалим старые столбцы\n",
    "del BaseDataFrame['ProcentRuchSkidki'] \n",
    "del BaseDataFrame['ProcentAvtomSkidki']"
   ]
  },
  {
   "cell_type": "markdown",
   "metadata": {},
   "source": [
    "## Обработаем столбец ReasonOfCancelled"
   ]
  },
  {
   "cell_type": "code",
   "execution_count": 51,
   "metadata": {
    "ExecuteTime": {
     "end_time": "2022-05-24T03:18:28.630770Z",
     "start_time": "2022-05-24T03:18:28.616844Z"
    },
    "deletable": false,
    "editable": false
   },
   "outputs": [
    {
     "name": "stdout",
     "output_type": "stream",
     "text": [
      "Не известны                                                            23486\n",
      "Причина НЕ выяснялась                                                  19094\n",
      "Проверка цен                                                            8119\n",
      "Перекуп не сработал                                                     5643\n",
      "Заказ обновлен на другой счет (дату)                                    1155\n",
      "Дублирующаяся заявка                                                    1118\n",
      "Зависшие суммы, количество или услуги (только для Администратора)       1023\n",
      "Не согласован                                                            586\n",
      "Не устроил срок поставки                                                 472\n",
      "Не прошли по цене из-за географии покупателя                             262\n",
      "Моя вина                                                                 157\n",
      "Выставляли аналог                                                        136\n",
      "Не успели привезти                                                       129\n",
      "Приобрели ДЕШЕВЛЕ у Конкурента (НЕ У завода)                             114\n",
      "Отпала необходимость в продукции (только для КОНЕЧНОГО потребителя)       87\n",
      "Недостача или пересорт по товару                                          49\n",
      "Приобрели через кассу ККМ                                                 42\n",
      "Товар куплен на заводе изготовителе                                       34\n",
      "Завод не имеет возможности поставить продукцию                            22\n",
      "Отклонение при отгрузке мерных товаров                                    11\n",
      "Продукция не вошла в автомобиль                                            4\n",
      "Склад забыл отдать товар                                                   1\n",
      "Брак продукции                                                             1\n",
      "Name: PrichinaOtmeny, dtype: int64\n",
      "\n",
      "['Причина НЕ выяснялась' 'Не известны'\n",
      " 'Зависшие суммы, количество или услуги (только для Администратора)' None\n",
      " 'Дублирующаяся заявка' 'Перекуп не сработал'\n",
      " 'Заказ обновлен на другой счет (дату)'\n",
      " 'Отпала необходимость в продукции (только для КОНЕЧНОГО потребителя)'\n",
      " 'Не устроил срок поставки' 'Не успели привезти' 'Проверка цен' 'Моя вина'\n",
      " 'Недостача или пересорт по товару' 'Товар куплен на заводе изготовителе'\n",
      " 'Выставляли аналог' 'Не прошли по цене из-за географии покупателя'\n",
      " 'Приобрели ДЕШЕВЛЕ у Конкурента (НЕ У завода)'\n",
      " 'Завод не имеет возможности поставить продукцию'\n",
      " 'Приобрели через кассу ККМ' 'Отклонение при отгрузке мерных товаров'\n",
      " 'Не согласован' 'Склад забыл отдать товар'\n",
      " 'Продукция не вошла в автомобиль' 'Брак продукции']\n"
     ]
    }
   ],
   "source": [
    "print(BaseDataFrame['PrichinaOtmeny'].value_counts())\n",
    "print()\n",
    "print(BaseDataFrame['PrichinaOtmeny'].unique())"
   ]
  },
  {
   "cell_type": "markdown",
   "metadata": {},
   "source": [
    "### Заменим 'nan' на 'Продажа состоялась'.\n",
    "#### Это возможно сделать, т.к. мы удалили все заказы \"Открытые\" заказы по которым нет реализаций и статус номенклатуры не равен \"К обеспечению\" или \"Обеспечивать обособлено\""
   ]
  },
  {
   "cell_type": "code",
   "execution_count": 52,
   "metadata": {
    "ExecuteTime": {
     "end_time": "2022-05-24T03:18:28.646138Z",
     "start_time": "2022-05-24T03:18:28.631771Z"
    },
    "deletable": false,
    "editable": false
   },
   "outputs": [],
   "source": [
    "BaseDataFrame['PrichinaOtmeny'].fillna(value='ПродажаСостоялась', inplace=True)"
   ]
  },
  {
   "cell_type": "code",
   "execution_count": 53,
   "metadata": {
    "ExecuteTime": {
     "end_time": "2022-05-24T03:18:28.662237Z",
     "start_time": "2022-05-24T03:18:28.647139Z"
    },
    "deletable": false,
    "editable": false
   },
   "outputs": [
    {
     "data": {
      "text/plain": [
       "Да     81869\n",
       "Нет    64147\n",
       "Name: ПродажаСостоялась, dtype: int64"
      ]
     },
     "execution_count": 53,
     "metadata": {},
     "output_type": "execute_result"
    }
   ],
   "source": [
    "BaseDataFrame['ПродажаСостоялась'].value_counts()"
   ]
  },
  {
   "cell_type": "code",
   "execution_count": 54,
   "metadata": {
    "ExecuteTime": {
     "end_time": "2022-05-24T03:18:28.677567Z",
     "start_time": "2022-05-24T03:18:28.663241Z"
    },
    "deletable": false,
    "editable": false
   },
   "outputs": [
    {
     "name": "stdout",
     "output_type": "stream",
     "text": [
      "ПродажаСостоялась                                                      84271\n",
      "Не известны                                                            23486\n",
      "Причина НЕ выяснялась                                                  19094\n",
      "Проверка цен                                                            8119\n",
      "Перекуп не сработал                                                     5643\n",
      "Заказ обновлен на другой счет (дату)                                    1155\n",
      "Дублирующаяся заявка                                                    1118\n",
      "Зависшие суммы, количество или услуги (только для Администратора)       1023\n",
      "Не согласован                                                            586\n",
      "Не устроил срок поставки                                                 472\n",
      "Не прошли по цене из-за географии покупателя                             262\n",
      "Моя вина                                                                 157\n",
      "Выставляли аналог                                                        136\n",
      "Не успели привезти                                                       129\n",
      "Приобрели ДЕШЕВЛЕ у Конкурента (НЕ У завода)                             114\n",
      "Отпала необходимость в продукции (только для КОНЕЧНОГО потребителя)       87\n",
      "Недостача или пересорт по товару                                          49\n",
      "Приобрели через кассу ККМ                                                 42\n",
      "Товар куплен на заводе изготовителе                                       34\n",
      "Завод не имеет возможности поставить продукцию                            22\n",
      "Отклонение при отгрузке мерных товаров                                    11\n",
      "Продукция не вошла в автомобиль                                            4\n",
      "Склад забыл отдать товар                                                   1\n",
      "Брак продукции                                                             1\n",
      "Name: PrichinaOtmeny, dtype: int64\n"
     ]
    }
   ],
   "source": [
    "print(BaseDataFrame['PrichinaOtmeny'].value_counts())"
   ]
  },
  {
   "cell_type": "markdown",
   "metadata": {},
   "source": [
    "## Обработаем BiznesRegion"
   ]
  },
  {
   "cell_type": "code",
   "execution_count": 55,
   "metadata": {
    "ExecuteTime": {
     "end_time": "2022-05-24T03:18:28.715299Z",
     "start_time": "2022-05-24T03:18:28.678570Z"
    },
    "deletable": false,
    "editable": false
   },
   "outputs": [
    {
     "name": "stdout",
     "output_type": "stream",
     "text": [
      "Новосибирская обл      42443\n",
      "Кемеровская обл        17540\n",
      "Алтайский край          7633\n",
      "Приморский край         6595\n",
      "Сибирский ФО            6135\n",
      "                       ...  \n",
      "Краснодар                  1\n",
      "Калининградская обл        1\n",
      "Теркестанская обл          1\n",
      "Рязань                     1\n",
      "Новгородская обл           1\n",
      "Name: BiznesRegion, Length: 114, dtype: int64\n",
      "\n",
      "['Новосибирская обл' 'Тюменская обл' 'Павлодарская обл'\n",
      " 'Саха /Якутия/ Респ' 'Приморский край' 'Хабаровский край' 'Читинская обл'\n",
      " 'Алтайский край' 'Регион не указан' 'Бурятия Респ' 'Кемеровская обл'\n",
      " 'Красноярский край' 'Сибирский ФО' 'Камчатская обл'\n",
      " 'Северо-Казахстанская область' 'Томская обл' 'Ленинградская обл'\n",
      " 'Омская обл' 'Иркутская обл' 'Ханты-Мансийский - Югра АО' 'Тыва Респ'\n",
      " 'Свердловская обл' 'Амурская обл' 'Московская обл'\n",
      " 'Восточно-Казахстанская область' 'Сахалинская обл' 'Еврейская Аобл'\n",
      " 'Магаданская обл' 'Хакасия Респ' 'Карагандинская область'\n",
      " 'Акмолинская область' 'Калужская обл' 'Татарстан Респ'\n",
      " 'Башкортостан Респ' 'Челябинская обл' 'Ставропольский край'\n",
      " 'Саратовская обл' 'Пермская обл' 'Центральный ФО' 'Казахстан'\n",
      " 'Алтай Респ' 'Курганская обл' 'Ямало-Ненецкий АО' 'Дальневосточный ФО'\n",
      " 'Бишкек' 'Рязанская обл' 'Удмуртская Респ' 'Нижегородская обл'\n",
      " 'Ульяновская обл' 'Оренбургская обл' 'Ненецкий АО' 'Таймырский АО'\n",
      " 'Смоленская обл' 'Орловская обл' 'Тамбовская обл' 'Самарская обл'\n",
      " 'Ярославская обл' 'Волгоградская обл' 'Липецкая обл' 'Краснодарский край'\n",
      " 'Вологодская обл' 'Ростовская обл' 'Воронежская обл' 'Теркестанская обл'\n",
      " 'Владимирская обл' 'Чукотский АО' 'Мурманская обл' 'Архангельская обл'\n",
      " 'Кировская обл' 'Белгородская обл' 'Коми Респ' 'Пензенская обл'\n",
      " 'Калининградская обл' 'Марий Эл Респ' 'Брянская обл' 'Тульская обл'\n",
      " 'Мангистауская область' 'Чувашская - Чувашия Респ' 'Алматинская область'\n",
      " 'Актюбинская область' 'Астраханская обл' 'Республика Крым'\n",
      " 'Мордовия Респ' 'Адыгея Респ' 'МОНГОЛИЯ' 'Атырауская область' 'Кемерово'\n",
      " 'Новокузнецк' 'Химки' 'Москва' 'Астрахань' 'Екатеринбург' 'Белгород'\n",
      " 'Краснодар' 'Мурманск' 'Пермь' 'Рязань' 'Оренбург' 'Уральский ФО'\n",
      " 'Казань' 'Петрозаводск' 'Приволжский ФО' 'Красноярск' 'Барнаул'\n",
      " 'Новосибирск' 'Челябинск' 'Северо-Западный ФО' 'Ростов-на-Дону'\n",
      " 'Кызылординская область' 'Южный ФО' 'Санкт-Петербург'\n",
      " 'Костанайская область' 'Куйбышев' 'Новгородская обл']\n"
     ]
    }
   ],
   "source": [
    "print(BaseDataFrame['BiznesRegion'].value_counts())\n",
    "print()\n",
    "print(BaseDataFrame['BiznesRegion'].unique())"
   ]
  },
  {
   "cell_type": "code",
   "execution_count": 56,
   "metadata": {
    "ExecuteTime": {
     "end_time": "2022-05-24T03:18:28.730898Z",
     "start_time": "2022-05-24T03:18:28.715299Z"
    },
    "deletable": false,
    "editable": false
   },
   "outputs": [],
   "source": [
    "BaseDataFrame['BiznesRegion'].fillna(value='Регион не указан', inplace=True)"
   ]
  },
  {
   "cell_type": "markdown",
   "metadata": {},
   "source": [
    "## Заменим пропуски в переменных Растояния"
   ]
  },
  {
   "cell_type": "code",
   "execution_count": 57,
   "metadata": {
    "ExecuteTime": {
     "end_time": "2022-05-24T03:18:28.746899Z",
     "start_time": "2022-05-24T03:18:28.731899Z"
    },
    "deletable": false,
    "editable": false
   },
   "outputs": [],
   "source": [
    "BaseDataFrame['RastoynieOtNSK'].fillna(value='999999', inplace=True)\n",
    "BaseDataFrame['otMoscow'].fillna(value='999999', inplace=True)"
   ]
  },
  {
   "cell_type": "markdown",
   "metadata": {},
   "source": [
    "# Сохраним данные"
   ]
  },
  {
   "cell_type": "code",
   "execution_count": 58,
   "metadata": {
    "ExecuteTime": {
     "end_time": "2022-05-24T03:19:34.297406Z",
     "start_time": "2022-05-24T03:18:28.748467Z"
    },
    "deletable": false,
    "editable": false
   },
   "outputs": [],
   "source": [
    "with pd.ExcelWriter(\n",
    "        f'3-Финальные данные от {datetime.today().strftime(\"%Y-%m-%d\")}.xlsx'\n",
    ") as writer:\n",
    "    BaseDataFrame.reset_index(drop=True).to_excel(\n",
    "        writer, sheet_name='Данные для анализа')"
   ]
  }
 ],
 "metadata": {
  "kernelspec": {
   "display_name": "Python 3 (ipykernel)",
   "language": "python",
   "name": "python3"
  },
  "language_info": {
   "codemirror_mode": {
    "name": "ipython",
    "version": 3
   },
   "file_extension": ".py",
   "mimetype": "text/x-python",
   "name": "python",
   "nbconvert_exporter": "python",
   "pygments_lexer": "ipython3",
   "version": "3.8.5"
  },
  "toc": {
   "base_numbering": 1,
   "nav_menu": {},
   "number_sections": true,
   "sideBar": true,
   "skip_h1_title": false,
   "title_cell": "Table of Contents",
   "title_sidebar": "Contents",
   "toc_cell": false,
   "toc_position": {
    "height": "calc(100% - 180px)",
    "left": "10px",
    "top": "150px",
    "width": "434.446px"
   },
   "toc_section_display": true,
   "toc_window_display": true
  },
  "varInspector": {
   "cols": {
    "lenName": 16,
    "lenType": 16,
    "lenVar": 40
   },
   "kernels_config": {
    "python": {
     "delete_cmd_postfix": "",
     "delete_cmd_prefix": "del ",
     "library": "var_list.py",
     "varRefreshCmd": "print(var_dic_list())"
    },
    "r": {
     "delete_cmd_postfix": ") ",
     "delete_cmd_prefix": "rm(",
     "library": "var_list.r",
     "varRefreshCmd": "cat(var_dic_list()) "
    }
   },
   "types_to_exclude": [
    "module",
    "function",
    "builtin_function_or_method",
    "instance",
    "_Feature"
   ],
   "window_display": false
  }
 },
 "nbformat": 4,
 "nbformat_minor": 2
}
